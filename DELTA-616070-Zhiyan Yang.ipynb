{
 "cells": [
  {
   "cell_type": "markdown",
   "id": "86458a12",
   "metadata": {},
   "source": [
    "# Deep Learning for Text Analytics  --- Sentiment Analysis on Cryptocurrency  \n",
    "\n",
    "### Name:                  Zhiyan Yang\n",
    "### ID:          616070\n",
    "### Python Version:  3.11.7 | packaged by Anaconda, Inc. | (main, Dec 15 2023, 18:05:47)\n",
    "###                               [MSC v.1916 64 bit (AMD64)]\n"
   ]
  },
  {
   "cell_type": "markdown",
   "id": "45a27433",
   "metadata": {},
   "source": [
    "## Table of Contents\n",
    "\n",
    "    1. Introduction\n",
    "    2. Data Loading \n",
    "    3. Preliminary Data Analysis: Exploratory Data Analysis (EDA)\n",
    "        3.1 Basic Information\n",
    "        3.2 Feature Analysis\n",
    "        3.3 Target Encoding\n",
    "        3.4 Class Imbalance\n",
    "    4. Data Cleaning\n",
    "    5. Model Selection\n",
    "        5.1 Dictionary-based sentiment analysis\n",
    "        5.2 RNN-based model with own embedding\n",
    "        5.3 Fine-tuned DistilBERT model\n",
    "        5.4 DistilBERT model with fine-tuning \n",
    "    6. Conclusion\n",
    "    "
   ]
  },
  {
   "cell_type": "markdown",
   "id": "4373e185",
   "metadata": {},
   "source": [
    "## 1. Introduction\n",
    "We are provided with 2000 tweets about Bitcoin and a corresponding sentiment score (which is 1 if positive\n",
    "and 0 if negative). The task of this assignment is to perform sentiment analysis using a sentiment dictionary, an RNN\n",
    "model, a pre-trained Transformer and a fine-tuned Transformer. \n",
    "In the following, we analyze the train and test data,preprocess the data for model training. Afterwards, different modeling approaches are considered and an NLP pipeline is chosen. Finally, the model is applied to our test data.\n",
    "\n",
    "\n",
    "\n"
   ]
  },
  {
   "cell_type": "markdown",
   "id": "f8baefd8",
   "metadata": {},
   "source": [
    "First, we need to import all the packages we might use in this notebook"
   ]
  },
  {
   "cell_type": "code",
   "execution_count": 1,
   "id": "fb6b232e",
   "metadata": {
    "scrolled": true
   },
   "outputs": [
    {
     "name": "stdout",
     "output_type": "stream",
     "text": [
      "WARNING:tensorflow:From E:\\anaconda\\Lib\\site-packages\\tf_keras\\src\\losses.py:2976: The name tf.losses.sparse_softmax_cross_entropy is deprecated. Please use tf.compat.v1.losses.sparse_softmax_cross_entropy instead.\n",
      "\n"
     ]
    }
   ],
   "source": [
    "import pandas as pd\n",
    "import re\n",
    "import pickle\n",
    "from bs4 import BeautifulSoup\n",
    "import emoji\n",
    "import numpy as np\n",
    "import matplotlib.pyplot as plt\n",
    "%matplotlib inline\n",
    "\n",
    "import nltk\n",
    "from nltk.corpus import stopwords\n",
    "from nltk.stem import WordNetLemmatizer\n",
    "\n",
    "import torch\n",
    "import time\n",
    "import pysentiment2 as ps\n",
    "import string\n",
    "from collections import Counter\n",
    "from datasets import Dataset\n",
    "\n",
    "\n",
    "import sklearn\n",
    "from sklearn.metrics import accuracy_score, confusion_matrix, roc_auc_score, roc_curve\n",
    "from sklearn.model_selection import train_test_split\n",
    "from sklearn.utils.class_weight import compute_class_weight\n",
    "\n",
    "import tensorflow as tf\n",
    "from tensorflow.keras import Sequential\n",
    "from tensorflow.keras import layers\n",
    "from tensorflow.keras.layers import TextVectorization\n",
    "from tensorflow.nn import softmax\n",
    "\n",
    "import transformers\n",
    "from transformers import pipeline\n",
    "from transformers import AutoTokenizer\n",
    "from transformers import TrainingArguments, Trainer\n",
    "from transformers import TFAutoModelForSequenceClassification\n",
    "from transformers import pipeline\n",
    "from transformers import AutoModelForSequenceClassification\n"
   ]
  },
  {
   "cell_type": "markdown",
   "id": "f9eda218",
   "metadata": {},
   "source": [
    "---\n",
    "## 2. Data Loading "
   ]
  },
  {
   "cell_type": "code",
   "execution_count": 2,
   "id": "def4ea2b",
   "metadata": {},
   "outputs": [],
   "source": [
    "train = pd.read_parquet(\"btc_tweets_train.parquet.gzip\")\n",
    "test = pd.read_parquet(\"btc_tweets_test.parquet.gzip\")"
   ]
  },
  {
   "cell_type": "markdown",
   "id": "fd734a89",
   "metadata": {},
   "source": [
    "---\n",
    "## 3. Preliminary Data Analysis: Exploratory Data Analysis (EDA)\n"
   ]
  },
  {
   "cell_type": "markdown",
   "id": "eece2661",
   "metadata": {},
   "source": [
    "### 3.1 Basic Information\n"
   ]
  },
  {
   "cell_type": "markdown",
   "id": "e501c55f",
   "metadata": {},
   "source": [
    "### Retain data on different tweets from the same user."
   ]
  },
  {
   "cell_type": "markdown",
   "id": "3edd4ca4",
   "metadata": {},
   "source": [
    "After a brief look at the data, we identified that the \"username\" column contains duplicates. This may lead to model overfitting, as certain users might post multiple tweets with similar content. \n",
    "\n",
    "Of course, each user's tweets may also express different sentiments. For instance, a user who initially does not support Bitcoin may later change their mind and become a supporter. \n",
    "\n",
    "We can choose to retain or remove data of duplicate usernames based on different criteria. In this case, due to the limited size of our dataset, we have decided to retain these information."
   ]
  },
  {
   "cell_type": "markdown",
   "id": "0d9ffcca",
   "metadata": {},
   "source": [
    "Our dataset has five columns: hashtags, content, username, user_displayname, sentiment.\n",
    "The column sentiment is the target and is of boolean type."
   ]
  },
  {
   "cell_type": "code",
   "execution_count": 3,
   "id": "8806a5f3",
   "metadata": {
    "scrolled": false
   },
   "outputs": [
    {
     "data": {
      "text/html": [
       "<div>\n",
       "<style scoped>\n",
       "    .dataframe tbody tr th:only-of-type {\n",
       "        vertical-align: middle;\n",
       "    }\n",
       "\n",
       "    .dataframe tbody tr th {\n",
       "        vertical-align: top;\n",
       "    }\n",
       "\n",
       "    .dataframe thead th {\n",
       "        text-align: right;\n",
       "    }\n",
       "</style>\n",
       "<table border=\"1\" class=\"dataframe\">\n",
       "  <thead>\n",
       "    <tr style=\"text-align: right;\">\n",
       "      <th></th>\n",
       "      <th>hashtags</th>\n",
       "      <th>content</th>\n",
       "      <th>username</th>\n",
       "      <th>user_displayname</th>\n",
       "      <th>sentiment</th>\n",
       "    </tr>\n",
       "  </thead>\n",
       "  <tbody>\n",
       "    <tr>\n",
       "      <th>count</th>\n",
       "      <td>1500</td>\n",
       "      <td>1500</td>\n",
       "      <td>1500</td>\n",
       "      <td>1500</td>\n",
       "      <td>1500</td>\n",
       "    </tr>\n",
       "    <tr>\n",
       "      <th>unique</th>\n",
       "      <td>945</td>\n",
       "      <td>1500</td>\n",
       "      <td>1012</td>\n",
       "      <td>1012</td>\n",
       "      <td>2</td>\n",
       "    </tr>\n",
       "    <tr>\n",
       "      <th>top</th>\n",
       "      <td>[Bitcoin]</td>\n",
       "      <td>$Bitcoin TO $100,000 SOONER THAN YOU THINK‼️💯🙏...</td>\n",
       "      <td>BezosCrypto</td>\n",
       "      <td>SHIB Bezos</td>\n",
       "      <td>True</td>\n",
       "    </tr>\n",
       "    <tr>\n",
       "      <th>freq</th>\n",
       "      <td>384</td>\n",
       "      <td>1</td>\n",
       "      <td>41</td>\n",
       "      <td>41</td>\n",
       "      <td>1220</td>\n",
       "    </tr>\n",
       "  </tbody>\n",
       "</table>\n",
       "</div>"
      ],
      "text/plain": [
       "         hashtags                                            content  \\\n",
       "count        1500                                               1500   \n",
       "unique        945                                               1500   \n",
       "top     [Bitcoin]  $Bitcoin TO $100,000 SOONER THAN YOU THINK‼️💯🙏...   \n",
       "freq          384                                                  1   \n",
       "\n",
       "           username user_displayname sentiment  \n",
       "count          1500             1500      1500  \n",
       "unique         1012             1012         2  \n",
       "top     BezosCrypto       SHIB Bezos      True  \n",
       "freq             41               41      1220  "
      ]
     },
     "execution_count": 3,
     "metadata": {},
     "output_type": "execute_result"
    }
   ],
   "source": [
    "train.describe()"
   ]
  },
  {
   "cell_type": "code",
   "execution_count": 4,
   "id": "18aa237b",
   "metadata": {
    "scrolled": false
   },
   "outputs": [
    {
     "data": {
      "text/html": [
       "<div>\n",
       "<style scoped>\n",
       "    .dataframe tbody tr th:only-of-type {\n",
       "        vertical-align: middle;\n",
       "    }\n",
       "\n",
       "    .dataframe tbody tr th {\n",
       "        vertical-align: top;\n",
       "    }\n",
       "\n",
       "    .dataframe thead th {\n",
       "        text-align: right;\n",
       "    }\n",
       "</style>\n",
       "<table border=\"1\" class=\"dataframe\">\n",
       "  <thead>\n",
       "    <tr style=\"text-align: right;\">\n",
       "      <th></th>\n",
       "      <th>hashtags</th>\n",
       "      <th>content</th>\n",
       "      <th>username</th>\n",
       "      <th>user_displayname</th>\n",
       "      <th>sentiment</th>\n",
       "    </tr>\n",
       "  </thead>\n",
       "  <tbody>\n",
       "    <tr>\n",
       "      <th>count</th>\n",
       "      <td>500</td>\n",
       "      <td>500</td>\n",
       "      <td>500</td>\n",
       "      <td>500</td>\n",
       "      <td>500</td>\n",
       "    </tr>\n",
       "    <tr>\n",
       "      <th>unique</th>\n",
       "      <td>292</td>\n",
       "      <td>500</td>\n",
       "      <td>404</td>\n",
       "      <td>403</td>\n",
       "      <td>2</td>\n",
       "    </tr>\n",
       "    <tr>\n",
       "      <th>top</th>\n",
       "      <td>[Bitcoin]</td>\n",
       "      <td>#crypto $crypto #btc \\nI am Chinese crypto alp...</td>\n",
       "      <td>Peer__2__Peer</td>\n",
       "      <td>P2P⚡</td>\n",
       "      <td>True</td>\n",
       "    </tr>\n",
       "    <tr>\n",
       "      <th>freq</th>\n",
       "      <td>139</td>\n",
       "      <td>1</td>\n",
       "      <td>13</td>\n",
       "      <td>13</td>\n",
       "      <td>404</td>\n",
       "    </tr>\n",
       "  </tbody>\n",
       "</table>\n",
       "</div>"
      ],
      "text/plain": [
       "         hashtags                                            content  \\\n",
       "count         500                                                500   \n",
       "unique        292                                                500   \n",
       "top     [Bitcoin]  #crypto $crypto #btc \\nI am Chinese crypto alp...   \n",
       "freq          139                                                  1   \n",
       "\n",
       "             username user_displayname sentiment  \n",
       "count             500              500       500  \n",
       "unique            404              403         2  \n",
       "top     Peer__2__Peer             P2P⚡      True  \n",
       "freq               13               13       404  "
      ]
     },
     "execution_count": 4,
     "metadata": {},
     "output_type": "execute_result"
    }
   ],
   "source": [
    "test.describe()"
   ]
  },
  {
   "cell_type": "code",
   "execution_count": 5,
   "id": "fa9b1bbb",
   "metadata": {},
   "outputs": [
    {
     "data": {
      "text/html": [
       "<div>\n",
       "<style scoped>\n",
       "    .dataframe tbody tr th:only-of-type {\n",
       "        vertical-align: middle;\n",
       "    }\n",
       "\n",
       "    .dataframe tbody tr th {\n",
       "        vertical-align: top;\n",
       "    }\n",
       "\n",
       "    .dataframe thead th {\n",
       "        text-align: right;\n",
       "    }\n",
       "</style>\n",
       "<table border=\"1\" class=\"dataframe\">\n",
       "  <thead>\n",
       "    <tr style=\"text-align: right;\">\n",
       "      <th></th>\n",
       "      <th>hashtags</th>\n",
       "      <th>content</th>\n",
       "      <th>username</th>\n",
       "      <th>user_displayname</th>\n",
       "      <th>sentiment</th>\n",
       "    </tr>\n",
       "    <tr>\n",
       "      <th>tweet ID</th>\n",
       "      <th></th>\n",
       "      <th></th>\n",
       "      <th></th>\n",
       "      <th></th>\n",
       "      <th></th>\n",
       "    </tr>\n",
       "  </thead>\n",
       "  <tbody>\n",
       "    <tr>\n",
       "      <th>1641579121972236290</th>\n",
       "      <td>[Bitcoin, Bitcoin, BTC, Bitcoin, BTC, SHIB, HO...</td>\n",
       "      <td>$Bitcoin TO $100,000 SOONER THAN YOU THINK‼️💯🙏...</td>\n",
       "      <td>BezosCrypto</td>\n",
       "      <td>SHIB Bezos</td>\n",
       "      <td>True</td>\n",
       "    </tr>\n",
       "    <tr>\n",
       "      <th>1641579176171016194</th>\n",
       "      <td>[Bitcoin, bitcoinordinals, crypto]</td>\n",
       "      <td>Alright I have my rares. Who else is grabbing ...</td>\n",
       "      <td>spartantc81</td>\n",
       "      <td>SpartanTC</td>\n",
       "      <td>True</td>\n",
       "    </tr>\n",
       "    <tr>\n",
       "      <th>1641579486071390208</th>\n",
       "      <td>[BTC, SHIB, HOGE, SAITAMA, BNB, DOGE, ETH, Bab...</td>\n",
       "      <td>Bitcoin (BTC) Targets Over $100,000 as This Im...</td>\n",
       "      <td>BezosCrypto</td>\n",
       "      <td>SHIB Bezos</td>\n",
       "      <td>True</td>\n",
       "    </tr>\n",
       "    <tr>\n",
       "      <th>1641579537103302656</th>\n",
       "      <td>[BTC]</td>\n",
       "      <td>📢 Xverse Web-based pool is live:\\n\\n•Update @x...</td>\n",
       "      <td>godfred_xcuz</td>\n",
       "      <td>Algorithm.btc</td>\n",
       "      <td>True</td>\n",
       "    </tr>\n",
       "    <tr>\n",
       "      <th>1641579588399804418</th>\n",
       "      <td>[Bitcoin]</td>\n",
       "      <td>Yesterday, a Bitcoin projection was displayed ...</td>\n",
       "      <td>goddess81oo</td>\n",
       "      <td>she is lucky</td>\n",
       "      <td>True</td>\n",
       "    </tr>\n",
       "  </tbody>\n",
       "</table>\n",
       "</div>"
      ],
      "text/plain": [
       "                                                              hashtags  \\\n",
       "tweet ID                                                                 \n",
       "1641579121972236290  [Bitcoin, Bitcoin, BTC, Bitcoin, BTC, SHIB, HO...   \n",
       "1641579176171016194                 [Bitcoin, bitcoinordinals, crypto]   \n",
       "1641579486071390208  [BTC, SHIB, HOGE, SAITAMA, BNB, DOGE, ETH, Bab...   \n",
       "1641579537103302656                                              [BTC]   \n",
       "1641579588399804418                                          [Bitcoin]   \n",
       "\n",
       "                                                               content  \\\n",
       "tweet ID                                                                 \n",
       "1641579121972236290  $Bitcoin TO $100,000 SOONER THAN YOU THINK‼️💯🙏...   \n",
       "1641579176171016194  Alright I have my rares. Who else is grabbing ...   \n",
       "1641579486071390208  Bitcoin (BTC) Targets Over $100,000 as This Im...   \n",
       "1641579537103302656  📢 Xverse Web-based pool is live:\\n\\n•Update @x...   \n",
       "1641579588399804418  Yesterday, a Bitcoin projection was displayed ...   \n",
       "\n",
       "                         username user_displayname  sentiment  \n",
       "tweet ID                                                       \n",
       "1641579121972236290   BezosCrypto       SHIB Bezos       True  \n",
       "1641579176171016194   spartantc81        SpartanTC       True  \n",
       "1641579486071390208   BezosCrypto       SHIB Bezos       True  \n",
       "1641579537103302656  godfred_xcuz    Algorithm.btc       True  \n",
       "1641579588399804418   goddess81oo     she is lucky       True  "
      ]
     },
     "execution_count": 5,
     "metadata": {},
     "output_type": "execute_result"
    }
   ],
   "source": [
    "train.head()"
   ]
  },
  {
   "cell_type": "code",
   "execution_count": 6,
   "id": "382da4e2",
   "metadata": {
    "scrolled": false
   },
   "outputs": [
    {
     "name": "stdout",
     "output_type": "stream",
     "text": [
      "<class 'pandas.core.frame.DataFrame'>\n",
      "Int64Index: 1500 entries, 1641579121972236290 to 1641861677149822976\n",
      "Data columns (total 5 columns):\n",
      " #   Column            Non-Null Count  Dtype \n",
      "---  ------            --------------  ----- \n",
      " 0   hashtags          1500 non-null   object\n",
      " 1   content           1500 non-null   object\n",
      " 2   username          1500 non-null   object\n",
      " 3   user_displayname  1500 non-null   object\n",
      " 4   sentiment         1500 non-null   bool  \n",
      "dtypes: bool(1), object(4)\n",
      "memory usage: 60.1+ KB\n"
     ]
    }
   ],
   "source": [
    "train.info()"
   ]
  },
  {
   "cell_type": "markdown",
   "id": "4cbfccee",
   "metadata": {},
   "source": [
    "---\n",
    "###        3.2 Feature Analysis\n"
   ]
  },
  {
   "cell_type": "markdown",
   "id": "90edbb60",
   "metadata": {},
   "source": [
    "### Retain the columns needed for sentiment analysis"
   ]
  },
  {
   "cell_type": "markdown",
   "id": "805e55de",
   "metadata": {},
   "source": [
    "When performing sentiment analysis, it’s important to identify which columns of our data are necessary and which can be excluded.\n",
    "\n",
    "1. remove the \"username\" column and the \"user_displayname\" column since they don't contribute to sentiment analysis. Although some users may post predominantly positive or negative content, the username itself isn't informative for classifying sentiment.\n",
    "\n",
    "\n",
    "2. remove the \"hashtags\" column since it contains mainly hashtags related to Bitcoin and cryptocurrencies. These hashtags,while indicative of the topic of the tweets, may be of limited direct help for sentiment analysis. \n"
   ]
  },
  {
   "cell_type": "code",
   "execution_count": 7,
   "id": "cd51f74c",
   "metadata": {},
   "outputs": [
    {
     "data": {
      "text/html": [
       "<div>\n",
       "<style scoped>\n",
       "    .dataframe tbody tr th:only-of-type {\n",
       "        vertical-align: middle;\n",
       "    }\n",
       "\n",
       "    .dataframe tbody tr th {\n",
       "        vertical-align: top;\n",
       "    }\n",
       "\n",
       "    .dataframe thead th {\n",
       "        text-align: right;\n",
       "    }\n",
       "</style>\n",
       "<table border=\"1\" class=\"dataframe\">\n",
       "  <thead>\n",
       "    <tr style=\"text-align: right;\">\n",
       "      <th></th>\n",
       "      <th>content</th>\n",
       "      <th>sentiment</th>\n",
       "    </tr>\n",
       "    <tr>\n",
       "      <th>tweet ID</th>\n",
       "      <th></th>\n",
       "      <th></th>\n",
       "    </tr>\n",
       "  </thead>\n",
       "  <tbody>\n",
       "    <tr>\n",
       "      <th>1641579121972236290</th>\n",
       "      <td>$Bitcoin TO $100,000 SOONER THAN YOU THINK‼️💯🙏...</td>\n",
       "      <td>True</td>\n",
       "    </tr>\n",
       "    <tr>\n",
       "      <th>1641579176171016194</th>\n",
       "      <td>Alright I have my rares. Who else is grabbing ...</td>\n",
       "      <td>True</td>\n",
       "    </tr>\n",
       "    <tr>\n",
       "      <th>1641579486071390208</th>\n",
       "      <td>Bitcoin (BTC) Targets Over $100,000 as This Im...</td>\n",
       "      <td>True</td>\n",
       "    </tr>\n",
       "    <tr>\n",
       "      <th>1641579537103302656</th>\n",
       "      <td>📢 Xverse Web-based pool is live:\\n\\n•Update @x...</td>\n",
       "      <td>True</td>\n",
       "    </tr>\n",
       "    <tr>\n",
       "      <th>1641579588399804418</th>\n",
       "      <td>Yesterday, a Bitcoin projection was displayed ...</td>\n",
       "      <td>True</td>\n",
       "    </tr>\n",
       "  </tbody>\n",
       "</table>\n",
       "</div>"
      ],
      "text/plain": [
       "                                                               content  \\\n",
       "tweet ID                                                                 \n",
       "1641579121972236290  $Bitcoin TO $100,000 SOONER THAN YOU THINK‼️💯🙏...   \n",
       "1641579176171016194  Alright I have my rares. Who else is grabbing ...   \n",
       "1641579486071390208  Bitcoin (BTC) Targets Over $100,000 as This Im...   \n",
       "1641579537103302656  📢 Xverse Web-based pool is live:\\n\\n•Update @x...   \n",
       "1641579588399804418  Yesterday, a Bitcoin projection was displayed ...   \n",
       "\n",
       "                     sentiment  \n",
       "tweet ID                        \n",
       "1641579121972236290       True  \n",
       "1641579176171016194       True  \n",
       "1641579486071390208       True  \n",
       "1641579537103302656       True  \n",
       "1641579588399804418       True  "
      ]
     },
     "execution_count": 7,
     "metadata": {},
     "output_type": "execute_result"
    }
   ],
   "source": [
    "train.drop(columns = ['hashtags','username','user_displayname'], inplace = True)\n",
    "test.drop(columns = ['hashtags','username','user_displayname'],inplace = True)\n",
    "train.head()"
   ]
  },
  {
   "cell_type": "code",
   "execution_count": 8,
   "id": "9efd44fd",
   "metadata": {
    "scrolled": false
   },
   "outputs": [
    {
     "data": {
      "text/html": [
       "<div>\n",
       "<style scoped>\n",
       "    .dataframe tbody tr th:only-of-type {\n",
       "        vertical-align: middle;\n",
       "    }\n",
       "\n",
       "    .dataframe tbody tr th {\n",
       "        vertical-align: top;\n",
       "    }\n",
       "\n",
       "    .dataframe thead th {\n",
       "        text-align: right;\n",
       "    }\n",
       "</style>\n",
       "<table border=\"1\" class=\"dataframe\">\n",
       "  <thead>\n",
       "    <tr style=\"text-align: right;\">\n",
       "      <th></th>\n",
       "      <th>content</th>\n",
       "      <th>sentiment</th>\n",
       "    </tr>\n",
       "    <tr>\n",
       "      <th>tweet ID</th>\n",
       "      <th></th>\n",
       "      <th></th>\n",
       "    </tr>\n",
       "  </thead>\n",
       "  <tbody>\n",
       "    <tr>\n",
       "      <th>1641861708246552576</th>\n",
       "      <td>#crypto $crypto #btc \\nI am Chinese crypto alp...</td>\n",
       "      <td>True</td>\n",
       "    </tr>\n",
       "    <tr>\n",
       "      <th>1641861783898972167</th>\n",
       "      <td>#Bitcoin would have to fall another 80% to rea...</td>\n",
       "      <td>False</td>\n",
       "    </tr>\n",
       "    <tr>\n",
       "      <th>1641862152532418562</th>\n",
       "      <td>#Giveaway $1000 Matic in 3Days\\n\\n🏆To win\\n1️⃣...</td>\n",
       "      <td>True</td>\n",
       "    </tr>\n",
       "    <tr>\n",
       "      <th>1641862338369183753</th>\n",
       "      <td>Up or Down?\\n\\n!!! $EOS #EOS !!!\\n\\nVS\\n\\n$USD...</td>\n",
       "      <td>True</td>\n",
       "    </tr>\n",
       "    <tr>\n",
       "      <th>1641862430434131968</th>\n",
       "      <td>Mid Day Mix-up is LIVE! Never know who might s...</td>\n",
       "      <td>True</td>\n",
       "    </tr>\n",
       "  </tbody>\n",
       "</table>\n",
       "</div>"
      ],
      "text/plain": [
       "                                                               content  \\\n",
       "tweet ID                                                                 \n",
       "1641861708246552576  #crypto $crypto #btc \\nI am Chinese crypto alp...   \n",
       "1641861783898972167  #Bitcoin would have to fall another 80% to rea...   \n",
       "1641862152532418562  #Giveaway $1000 Matic in 3Days\\n\\n🏆To win\\n1️⃣...   \n",
       "1641862338369183753  Up or Down?\\n\\n!!! $EOS #EOS !!!\\n\\nVS\\n\\n$USD...   \n",
       "1641862430434131968  Mid Day Mix-up is LIVE! Never know who might s...   \n",
       "\n",
       "                     sentiment  \n",
       "tweet ID                        \n",
       "1641861708246552576       True  \n",
       "1641861783898972167      False  \n",
       "1641862152532418562       True  \n",
       "1641862338369183753       True  \n",
       "1641862430434131968       True  "
      ]
     },
     "execution_count": 8,
     "metadata": {},
     "output_type": "execute_result"
    }
   ],
   "source": [
    "test.head()"
   ]
  },
  {
   "cell_type": "markdown",
   "id": "be5c5c54",
   "metadata": {},
   "source": [
    "### Remove duplicate content"
   ]
  },
  {
   "cell_type": "markdown",
   "id": "2a5add8f",
   "metadata": {},
   "source": [
    "Although we have chosen not to remove data of duplicate usernames, we still need to check for duplicated content. If duplicate content is found, it should be removed to prevent overfitting.\n",
    "\n",
    "Additionally, we need to check for duplicate Twitter IDs, as the data was randomly scraped from the web and may contain duplicates due to multiple scraping sessions. Removing duplicate IDs is also crucial for preventing overfitting\n",
    "\n",
    "Fortunately, neither of the above situations is present in our data."
   ]
  },
  {
   "cell_type": "code",
   "execution_count": 9,
   "id": "50a5543b",
   "metadata": {},
   "outputs": [
    {
     "name": "stdout",
     "output_type": "stream",
     "text": [
      "Number of duplicate content in train data: 0\n",
      "Number of duplicate content in test data: 0\n"
     ]
    }
   ],
   "source": [
    "num_duplicates1 = train['content'].duplicated().sum()\n",
    "num_duplicates2 = test['content'].duplicated().sum()\n",
    "\n",
    "print(f\"Number of duplicate content in train data: {num_duplicates1}\")\n",
    "print(f\"Number of duplicate content in test data: {num_duplicates2}\")"
   ]
  },
  {
   "cell_type": "code",
   "execution_count": 10,
   "id": "9e8ded35",
   "metadata": {
    "scrolled": true
   },
   "outputs": [
    {
     "name": "stdout",
     "output_type": "stream",
     "text": [
      "Number of duplicate tweet IDs (index) in train data: 0\n",
      "Number of duplicate tweet IDs (index) in test data: 0\n"
     ]
    }
   ],
   "source": [
    "duplicate_index1 = train.index.duplicated()\n",
    "num_duplicate_indices1 = duplicate_index1.sum()\n",
    "duplicate_index2 = test.index.duplicated()\n",
    "num_duplicate_indices2 = duplicate_index2.sum()\n",
    "\n",
    "\n",
    "print(f\"Number of duplicate tweet IDs (index) in train data: {num_duplicate_indices1}\")\n",
    "print(f\"Number of duplicate tweet IDs (index) in test data: {num_duplicate_indices2}\")"
   ]
  },
  {
   "cell_type": "markdown",
   "id": "462cf1de",
   "metadata": {},
   "source": [
    "### The data with missing values should be removed as well."
   ]
  },
  {
   "cell_type": "code",
   "execution_count": 11,
   "id": "79b1c61c",
   "metadata": {
    "scrolled": true
   },
   "outputs": [
    {
     "data": {
      "text/plain": [
       "content      0\n",
       "sentiment    0\n",
       "dtype: int64"
      ]
     },
     "execution_count": 11,
     "metadata": {},
     "output_type": "execute_result"
    }
   ],
   "source": [
    "missing_values1 = train.isnull().sum() \n",
    "missing_values1"
   ]
  },
  {
   "cell_type": "code",
   "execution_count": 12,
   "id": "7fff95a2",
   "metadata": {},
   "outputs": [
    {
     "data": {
      "text/plain": [
       "content      0\n",
       "sentiment    0\n",
       "dtype: int64"
      ]
     },
     "execution_count": 12,
     "metadata": {},
     "output_type": "execute_result"
    }
   ],
   "source": [
    "missing_values2 = test.isnull().sum() \n",
    "missing_values2"
   ]
  },
  {
   "cell_type": "markdown",
   "id": "b0a87d0c",
   "metadata": {},
   "source": [
    "###  remove spam and bots\n",
    "\n",
    "There are many ways to identify spam and bots. For example, we can delete tweets with ①***duplicate content***, which we have already done above. We can also identify tweets ②***containing too many links as spam or bots—typically, tweets with more than two URLs can be flagged***. Additionally, tweets that are either ③***too short or too long*** can be classified as spam or bots. \n",
    "\n",
    "Besides these simple rules, Machine Learning and Deep Learning approaches can also be used to detect spam and bots. For example, Machine Learning techniques like ***Random Forest and XGBoost***; Deep Learning models based on ***RNN or BERT***, can be applied as well.\n",
    "\n",
    "Since our task involves training models based on RNN and BERT, and traditional Machine Learning models like Random Forest require labeled data indicating which tweets are spam or bots, and our dataset lacks such labels, we use simpler methods to identify and remove spam and bots in this case."
   ]
  },
  {
   "cell_type": "markdown",
   "id": "486f9b5d",
   "metadata": {},
   "source": [
    "### Filter out tweets that are too short (less than 5 words) or too long (more than 100 words)"
   ]
  },
  {
   "cell_type": "code",
   "execution_count": 13,
   "id": "4e668407",
   "metadata": {},
   "outputs": [],
   "source": [
    "train['word_count'] = train['content'].apply(lambda x: len(x.split()))\n",
    "train = train[(train['word_count'] >= 5) & (train['word_count'] <= 100)]\n",
    "\n",
    "test['word_count'] = test['content'].apply(lambda x: len(x.split()))\n",
    "test = test[(test['word_count'] >= 5) & (test['word_count'] <= 100)]\n"
   ]
  },
  {
   "cell_type": "code",
   "execution_count": 14,
   "id": "fbf8cf21",
   "metadata": {},
   "outputs": [],
   "source": [
    "train.drop(columns = ['word_count'], inplace = True)\n",
    "test.drop(columns = ['word_count'], inplace = True)\n"
   ]
  },
  {
   "cell_type": "code",
   "execution_count": 15,
   "id": "ef342e12",
   "metadata": {
    "scrolled": true
   },
   "outputs": [
    {
     "name": "stdout",
     "output_type": "stream",
     "text": [
      "<class 'pandas.core.frame.DataFrame'>\n",
      "Int64Index: 1483 entries, 1641579121972236290 to 1641861677149822976\n",
      "Data columns (total 2 columns):\n",
      " #   Column     Non-Null Count  Dtype \n",
      "---  ------     --------------  ----- \n",
      " 0   content    1483 non-null   object\n",
      " 1   sentiment  1483 non-null   bool  \n",
      "dtypes: bool(1), object(1)\n",
      "memory usage: 24.6+ KB\n"
     ]
    }
   ],
   "source": [
    "train.info()"
   ]
  },
  {
   "cell_type": "code",
   "execution_count": 16,
   "id": "4cf140e4",
   "metadata": {
    "scrolled": true
   },
   "outputs": [
    {
     "name": "stdout",
     "output_type": "stream",
     "text": [
      "<class 'pandas.core.frame.DataFrame'>\n",
      "Int64Index: 497 entries, 1641861708246552576 to 1641953216999968769\n",
      "Data columns (total 2 columns):\n",
      " #   Column     Non-Null Count  Dtype \n",
      "---  ------     --------------  ----- \n",
      " 0   content    497 non-null    object\n",
      " 1   sentiment  497 non-null    bool  \n",
      "dtypes: bool(1), object(1)\n",
      "memory usage: 8.3+ KB\n"
     ]
    }
   ],
   "source": [
    "test.info()"
   ]
  },
  {
   "cell_type": "markdown",
   "id": "0c8df29c",
   "metadata": {},
   "source": [
    "### Filter out tweets with too many URLs (using a threshold of more than 2 URLs in a tweet)"
   ]
  },
  {
   "cell_type": "code",
   "execution_count": 17,
   "id": "78d0593a",
   "metadata": {},
   "outputs": [],
   "source": [
    "def count_urls(text):\n",
    "    url_pattern = re.compile(r'(https?://\\S+)')\n",
    "    return len(url_pattern.findall(text))"
   ]
  },
  {
   "cell_type": "code",
   "execution_count": 18,
   "id": "3c12317c",
   "metadata": {},
   "outputs": [],
   "source": [
    "train['url_count'] = train['content'].apply(count_urls)\n",
    "train = train[train['url_count'] <= 2]\n",
    "\n",
    "test['url_count'] = test['content'].apply(count_urls)\n",
    "test = test[test['url_count'] <= 2]"
   ]
  },
  {
   "cell_type": "code",
   "execution_count": 19,
   "id": "63f376bd",
   "metadata": {},
   "outputs": [
    {
     "name": "stdout",
     "output_type": "stream",
     "text": [
      "<class 'pandas.core.frame.DataFrame'>\n",
      "Int64Index: 1463 entries, 1641579121972236290 to 1641861677149822976\n",
      "Data columns (total 2 columns):\n",
      " #   Column     Non-Null Count  Dtype \n",
      "---  ------     --------------  ----- \n",
      " 0   content    1463 non-null   object\n",
      " 1   sentiment  1463 non-null   bool  \n",
      "dtypes: bool(1), object(1)\n",
      "memory usage: 24.3+ KB\n"
     ]
    }
   ],
   "source": [
    "train.drop(columns = ['url_count'], inplace = True)\n",
    "test.drop(columns = ['url_count'], inplace = True)\n",
    "\n",
    "train.info()"
   ]
  },
  {
   "cell_type": "code",
   "execution_count": 20,
   "id": "a8b6195a",
   "metadata": {
    "scrolled": false
   },
   "outputs": [
    {
     "name": "stdout",
     "output_type": "stream",
     "text": [
      "<class 'pandas.core.frame.DataFrame'>\n",
      "Int64Index: 492 entries, 1641861708246552576 to 1641953216999968769\n",
      "Data columns (total 2 columns):\n",
      " #   Column     Non-Null Count  Dtype \n",
      "---  ------     --------------  ----- \n",
      " 0   content    492 non-null    object\n",
      " 1   sentiment  492 non-null    bool  \n",
      "dtypes: bool(1), object(1)\n",
      "memory usage: 8.2+ KB\n"
     ]
    }
   ],
   "source": [
    "test.info()"
   ]
  },
  {
   "cell_type": "markdown",
   "id": "d5faf6e1",
   "metadata": {},
   "source": [
    "###         3.3 Target Encoding\n"
   ]
  },
  {
   "cell_type": "markdown",
   "id": "e90b6de4",
   "metadata": {},
   "source": [
    "Binary-encode the target variable"
   ]
  },
  {
   "cell_type": "code",
   "execution_count": 21,
   "id": "bec56f56",
   "metadata": {
    "scrolled": true
   },
   "outputs": [
    {
     "data": {
      "text/plain": [
       "1    1184\n",
       "0     279\n",
       "Name: sentiment, dtype: int64"
      ]
     },
     "execution_count": 21,
     "metadata": {},
     "output_type": "execute_result"
    }
   ],
   "source": [
    "train['sentiment'] = train['sentiment'].map({True:1,False:0})\n",
    "train['sentiment'].value_counts()"
   ]
  },
  {
   "cell_type": "code",
   "execution_count": 22,
   "id": "c56a8053",
   "metadata": {
    "scrolled": false
   },
   "outputs": [
    {
     "data": {
      "text/plain": [
       "1    396\n",
       "0     96\n",
       "Name: sentiment, dtype: int64"
      ]
     },
     "execution_count": 22,
     "metadata": {},
     "output_type": "execute_result"
    }
   ],
   "source": [
    "test['sentiment'] = test['sentiment'].map({True:1,False:0})\n",
    "test['sentiment'].value_counts()"
   ]
  },
  {
   "cell_type": "markdown",
   "id": "d56087a4",
   "metadata": {},
   "source": [
    "### 3.4 Class Imbalance"
   ]
  },
  {
   "cell_type": "markdown",
   "id": "546cc301",
   "metadata": {},
   "source": [
    "We found that the number of tweets with a sentiment value of 1 is much higher than the number of tweets with a sentiment value of 0,leading to a ***Class Imbalance*** problem"
   ]
  },
  {
   "cell_type": "markdown",
   "id": "b97572f2",
   "metadata": {},
   "source": [
    "There are varies ways to address Class Imbalance: Oversampling, Undersampling, Class Weighting, SMOTE to create synthetic Data,etc.\n",
    "Since our first model：using a sentiment dictionary for sentiment analysis, and the third model：Applying the DistilBERT model which was fine-tuned for sentiment analysis, are both pre-trained models, this notebook will mainly focus on handling Class Imbalance in the RNN-based modeling."
   ]
  },
  {
   "cell_type": "code",
   "execution_count": 23,
   "id": "0f7359a5",
   "metadata": {},
   "outputs": [
    {
     "data": {
      "image/png": "[encoded data removed]",
      "text/plain": [
       "<Figure size 1000x400 with 2 Axes>"
      ]
     },
     "metadata": {},
     "output_type": "display_data"
    }
   ],
   "source": [
    "fig, axs = plt.subplots(1, 2, figsize=(10, 4))\n",
    "train['sentiment'].hist(ax=axs[0])\n",
    "axs[0].set_title('Train Sentiment Distribution')\n",
    "test['sentiment'].hist(ax=axs[1])\n",
    "axs[1].set_title('Test Sentiment Distribution')\n",
    "plt.show()\n"
   ]
  },
  {
   "cell_type": "markdown",
   "id": "75429d12",
   "metadata": {},
   "source": [
    "---\n",
    "### We first randomly select a row of data and print it out so that we can use it for comparison during subsequent data processing/cleaning. "
   ]
  },
  {
   "cell_type": "code",
   "execution_count": 24,
   "id": "021ee5fa",
   "metadata": {
    "scrolled": false
   },
   "outputs": [
    {
     "name": "stdout",
     "output_type": "stream",
     "text": [
      "Wall St gains with tech shares; regional banks fall - Reuters\n",
      "\n",
      "$SNAP $HOOD $CORZ $BKKT $AMC $NIO \n",
      "\n",
      "#BTC  #SHIB \n",
      "#HOGE #SAITAMA #BNB #DOGE #ETH #BabyFloki #AltCoinSeason \n",
      " https://t.co/MjGEJsQCZs\n",
      "1\n"
     ]
    }
   ],
   "source": [
    "print(train.iloc[105, 0])\n",
    "print(train.iloc[105,1])"
   ]
  },
  {
   "cell_type": "code",
   "execution_count": 25,
   "id": "7332a013",
   "metadata": {
    "scrolled": true
   },
   "outputs": [
    {
     "name": "stdout",
     "output_type": "stream",
     "text": [
      "🕰️ Patience is key when it comes to #Bitcoin adoption. \n",
      "\n",
      "It’s unfair to believe that #Bitcoin adoption can happen immediately. Look how long it took for the #euro to be adopted in Europe; it was forced on people. ‘Bitcoin is a much better story’ @paoloardoino #FinancialFreedom.⏳ https://t.co/ug0W59MMCg\n",
      "0\n"
     ]
    }
   ],
   "source": [
    "print(test.iloc[13, 0])\n",
    "print(test.iloc[13,1])"
   ]
  },
  {
   "cell_type": "code",
   "execution_count": 26,
   "id": "0087e87a",
   "metadata": {},
   "outputs": [
    {
     "data": {
      "text/html": [
       "<div>\n",
       "<style scoped>\n",
       "    .dataframe tbody tr th:only-of-type {\n",
       "        vertical-align: middle;\n",
       "    }\n",
       "\n",
       "    .dataframe tbody tr th {\n",
       "        vertical-align: top;\n",
       "    }\n",
       "\n",
       "    .dataframe thead th {\n",
       "        text-align: right;\n",
       "    }\n",
       "</style>\n",
       "<table border=\"1\" class=\"dataframe\">\n",
       "  <thead>\n",
       "    <tr style=\"text-align: right;\">\n",
       "      <th></th>\n",
       "      <th>content</th>\n",
       "      <th>sentiment</th>\n",
       "    </tr>\n",
       "    <tr>\n",
       "      <th>tweet ID</th>\n",
       "      <th></th>\n",
       "      <th></th>\n",
       "    </tr>\n",
       "  </thead>\n",
       "  <tbody>\n",
       "    <tr>\n",
       "      <th>1641579121972236290</th>\n",
       "      <td>$Bitcoin TO $100,000 SOONER THAN YOU THINK‼️💯🙏...</td>\n",
       "      <td>1</td>\n",
       "    </tr>\n",
       "    <tr>\n",
       "      <th>1641579176171016194</th>\n",
       "      <td>Alright I have my rares. Who else is grabbing ...</td>\n",
       "      <td>1</td>\n",
       "    </tr>\n",
       "    <tr>\n",
       "      <th>1641579486071390208</th>\n",
       "      <td>Bitcoin (BTC) Targets Over $100,000 as This Im...</td>\n",
       "      <td>1</td>\n",
       "    </tr>\n",
       "    <tr>\n",
       "      <th>1641579537103302656</th>\n",
       "      <td>📢 Xverse Web-based pool is live:\\n\\n•Update @x...</td>\n",
       "      <td>1</td>\n",
       "    </tr>\n",
       "    <tr>\n",
       "      <th>1641579588399804418</th>\n",
       "      <td>Yesterday, a Bitcoin projection was displayed ...</td>\n",
       "      <td>1</td>\n",
       "    </tr>\n",
       "    <tr>\n",
       "      <th>1641579652681543680</th>\n",
       "      <td>Unpopular opinion:\\n\\nThis pump isn’t going to...</td>\n",
       "      <td>0</td>\n",
       "    </tr>\n",
       "    <tr>\n",
       "      <th>1641580545678393345</th>\n",
       "      <td>Solid bid in major ALT/BTC pairs today. \\n\\nIf...</td>\n",
       "      <td>1</td>\n",
       "    </tr>\n",
       "    <tr>\n",
       "      <th>1641580600606769152</th>\n",
       "      <td>If you're filing 2022 taxes in the U.S., you s...</td>\n",
       "      <td>1</td>\n",
       "    </tr>\n",
       "    <tr>\n",
       "      <th>1641581112852971524</th>\n",
       "      <td>IBIS SACRED, new solana project. metaverse com...</td>\n",
       "      <td>1</td>\n",
       "    </tr>\n",
       "    <tr>\n",
       "      <th>1641581174626611200</th>\n",
       "      <td>🚨ELIZABETH WARREN ANTI CRYPTO CAMPAIGN &amp;amp; M...</td>\n",
       "      <td>1</td>\n",
       "    </tr>\n",
       "  </tbody>\n",
       "</table>\n",
       "</div>"
      ],
      "text/plain": [
       "                                                               content  \\\n",
       "tweet ID                                                                 \n",
       "1641579121972236290  $Bitcoin TO $100,000 SOONER THAN YOU THINK‼️💯🙏...   \n",
       "1641579176171016194  Alright I have my rares. Who else is grabbing ...   \n",
       "1641579486071390208  Bitcoin (BTC) Targets Over $100,000 as This Im...   \n",
       "1641579537103302656  📢 Xverse Web-based pool is live:\\n\\n•Update @x...   \n",
       "1641579588399804418  Yesterday, a Bitcoin projection was displayed ...   \n",
       "1641579652681543680  Unpopular opinion:\\n\\nThis pump isn’t going to...   \n",
       "1641580545678393345  Solid bid in major ALT/BTC pairs today. \\n\\nIf...   \n",
       "1641580600606769152  If you're filing 2022 taxes in the U.S., you s...   \n",
       "1641581112852971524  IBIS SACRED, new solana project. metaverse com...   \n",
       "1641581174626611200  🚨ELIZABETH WARREN ANTI CRYPTO CAMPAIGN &amp; M...   \n",
       "\n",
       "                     sentiment  \n",
       "tweet ID                        \n",
       "1641579121972236290          1  \n",
       "1641579176171016194          1  \n",
       "1641579486071390208          1  \n",
       "1641579537103302656          1  \n",
       "1641579588399804418          1  \n",
       "1641579652681543680          0  \n",
       "1641580545678393345          1  \n",
       "1641580600606769152          1  \n",
       "1641581112852971524          1  \n",
       "1641581174626611200          1  "
      ]
     },
     "execution_count": 26,
     "metadata": {},
     "output_type": "execute_result"
    }
   ],
   "source": [
    "train.head(10)"
   ]
  },
  {
   "cell_type": "markdown",
   "id": "020af67e",
   "metadata": {},
   "source": [
    "---\n",
    "## 4. Data Cleaning\n"
   ]
  },
  {
   "cell_type": "markdown",
   "id": "371978a7",
   "metadata": {},
   "source": [
    "### We're now ready to perform text cleaning. \n",
    "The following steps are performed:"
   ]
  },
  {
   "cell_type": "markdown",
   "id": "abb84125",
   "metadata": {},
   "source": [
    "   1. remove hashtags and mention \n",
    "   2. remove whitespace\n",
    "   3. remove html\n",
    "   4. remove hyperlinks\n",
    "   5. ***Conversion of Emojis and Emoticons***\n",
    "   6. ***remove punctuation and lowercasing***            \n",
    "   7. ***Stopwords are filtered out***                  \n",
    "   8. ***The words are lemmatized***                   \n"
   ]
  },
  {
   "cell_type": "markdown",
   "id": "d17bb910",
   "metadata": {},
   "source": [
    "### Notice!\n",
    "For Dictionary-based sentiment analysis and RNN-based model, our preprocessing of the data must be as perfect as possible, so all data-cleaning steps are required.\n",
    "\n",
    "BERT models have strong contextual understanding and usually do not require excessive preprocessing of the data. So the preprocessing of data in steps5，6,7, and 8 can be ignored when using BERT models."
   ]
  },
  {
   "cell_type": "markdown",
   "id": "e07be2eb",
   "metadata": {},
   "source": [
    "1. remove hashtags"
   ]
  },
  {
   "cell_type": "markdown",
   "id": "7ec6f49b",
   "metadata": {},
   "source": [
    "Based on our observation of the data, we found that the hashtags in the \"content\" column, such as #Bitcoin and #crypto,etc., are merely topic identifiers and do not directly express the sentiment. Therefore, removing them may help to reduce the noise and thus improve the accuracy of the sentiment analysis.\n"
   ]
  },
  {
   "cell_type": "code",
   "execution_count": 27,
   "id": "5795b2db",
   "metadata": {},
   "outputs": [],
   "source": [
    "train['cleaned_content'] = train['content'].apply(lambda x: re.sub(r'#\\w+', '', x))\n",
    "test['cleaned_content'] = test['content'].apply(lambda x: re.sub(r'#\\w+', '', x))"
   ]
  },
  {
   "cell_type": "code",
   "execution_count": 28,
   "id": "4f304247",
   "metadata": {},
   "outputs": [],
   "source": [
    "train['cleaned_content'] = train['cleaned_content'].apply(lambda x: re.sub(r'@\\w+', '', x))\n",
    "test['cleaned_content'] = test['cleaned_content'].apply(lambda x: re.sub(r'@\\w+', '', x))"
   ]
  },
  {
   "cell_type": "code",
   "execution_count": 29,
   "id": "28c938b3",
   "metadata": {},
   "outputs": [],
   "source": [
    "def remove_stock_symbols(text):\n",
    "    return re.sub(r'\\$\\w+', '', text)\n",
    "\n",
    "train['cleaned_content'] = train['cleaned_content'].apply(remove_stock_symbols)\n",
    "test['cleaned_content'] = test['cleaned_content'].apply(remove_stock_symbols)\n"
   ]
  },
  {
   "cell_type": "code",
   "execution_count": 30,
   "id": "e2c84d9f",
   "metadata": {
    "scrolled": true
   },
   "outputs": [
    {
     "name": "stdout",
     "output_type": "stream",
     "text": [
      "Wall St gains with tech shares; regional banks fall - Reuters\n",
      "\n",
      "      \n",
      "\n",
      "   \n",
      "       \n",
      " https://t.co/MjGEJsQCZs\n"
     ]
    }
   ],
   "source": [
    "print(train.iloc[105,2])"
   ]
  },
  {
   "cell_type": "code",
   "execution_count": 31,
   "id": "2307fe75",
   "metadata": {
    "scrolled": false
   },
   "outputs": [
    {
     "name": "stdout",
     "output_type": "stream",
     "text": [
      "🕰️ Patience is key when it comes to  adoption. \n",
      "\n",
      "It’s unfair to believe that  adoption can happen immediately. Look how long it took for the  to be adopted in Europe; it was forced on people. ‘Bitcoin is a much better story’  .⏳ https://t.co/ug0W59MMCg\n"
     ]
    }
   ],
   "source": [
    "print(test.iloc[13,2])"
   ]
  },
  {
   "cell_type": "markdown",
   "id": "ff778fd5",
   "metadata": {},
   "source": [
    "2. Define the function to remove whitespace\n"
   ]
  },
  {
   "cell_type": "code",
   "execution_count": 32,
   "id": "2d541821",
   "metadata": {},
   "outputs": [],
   "source": [
    "def remove_whitespace(text):\n",
    "    \"\"\"\n",
    "    Function to remove whitespace(tabs, newlines).\n",
    "    \"\"\"\n",
    "    return ' '.join(text.split())"
   ]
  },
  {
   "cell_type": "code",
   "execution_count": 33,
   "id": "56462dc2",
   "metadata": {},
   "outputs": [],
   "source": [
    "train['cleaned_content'] = train['cleaned_content'].apply(remove_whitespace)\n",
    "test['cleaned_content'] = test['cleaned_content'].apply(remove_whitespace)"
   ]
  },
  {
   "cell_type": "code",
   "execution_count": 34,
   "id": "9785ea0b",
   "metadata": {
    "scrolled": true
   },
   "outputs": [
    {
     "name": "stdout",
     "output_type": "stream",
     "text": [
      "Wall St gains with tech shares; regional banks fall - Reuters https://t.co/MjGEJsQCZs\n"
     ]
    }
   ],
   "source": [
    "print(train.iloc[105,2])"
   ]
  },
  {
   "cell_type": "code",
   "execution_count": 35,
   "id": "1921197a",
   "metadata": {
    "scrolled": true
   },
   "outputs": [
    {
     "name": "stdout",
     "output_type": "stream",
     "text": [
      "🕰️ Patience is key when it comes to adoption. It’s unfair to believe that adoption can happen immediately. Look how long it took for the to be adopted in Europe; it was forced on people. ‘Bitcoin is a much better story’ .⏳ https://t.co/ug0W59MMCg\n"
     ]
    }
   ],
   "source": [
    "print(test.iloc[13,2])"
   ]
  },
  {
   "cell_type": "markdown",
   "id": "da9b50de",
   "metadata": {},
   "source": [
    "3. remove html content"
   ]
  },
  {
   "cell_type": "code",
   "execution_count": 36,
   "id": "4a661160",
   "metadata": {},
   "outputs": [],
   "source": [
    "def remove_html(text):\n",
    "    soup = BeautifulSoup(text)\n",
    "    \n",
    "    return soup.get_text()"
   ]
  },
  {
   "cell_type": "code",
   "execution_count": 37,
   "id": "766a3aa2",
   "metadata": {},
   "outputs": [
    {
     "name": "stderr",
     "output_type": "stream",
     "text": [
      "C:\\Users\\User\\AppData\\Local\\Temp\\ipykernel_8784\\1355316594.py:2: MarkupResemblesLocatorWarning: The input looks more like a filename than markup. You may want to open this file and pass the filehandle into Beautiful Soup.\n",
      "  soup = BeautifulSoup(text)\n"
     ]
    }
   ],
   "source": [
    "train['cleaned_content'] = train['cleaned_content'].apply(remove_html)\n",
    "test['cleaned_content'] = test['cleaned_content'].apply(remove_html)\n"
   ]
  },
  {
   "cell_type": "code",
   "execution_count": 38,
   "id": "27dd6867",
   "metadata": {},
   "outputs": [
    {
     "name": "stdout",
     "output_type": "stream",
     "text": [
      "Wall St gains with tech shares; regional banks fall - Reuters https://t.co/MjGEJsQCZs\n"
     ]
    }
   ],
   "source": [
    "print(train.iloc[105,2])\n"
   ]
  },
  {
   "cell_type": "code",
   "execution_count": 39,
   "id": "930e2b1d",
   "metadata": {},
   "outputs": [
    {
     "name": "stdout",
     "output_type": "stream",
     "text": [
      "🕰️ Patience is key when it comes to adoption. It’s unfair to believe that adoption can happen immediately. Look how long it took for the to be adopted in Europe; it was forced on people. ‘Bitcoin is a much better story’ .⏳ https://t.co/ug0W59MMCg\n"
     ]
    }
   ],
   "source": [
    "print(test.iloc[13,2])"
   ]
  },
  {
   "cell_type": "markdown",
   "id": "be5c69f9",
   "metadata": {},
   "source": [
    "4. remove hyperlinks"
   ]
  },
  {
   "cell_type": "code",
   "execution_count": 40,
   "id": "831bae62",
   "metadata": {},
   "outputs": [],
   "source": [
    "def remove_hyperlinks(text):\n",
    "    return re.sub(r'(https?://\\S+)','',text)"
   ]
  },
  {
   "cell_type": "code",
   "execution_count": 41,
   "id": "3676d465",
   "metadata": {},
   "outputs": [],
   "source": [
    "train['cleaned_content'] =  train['cleaned_content'].apply(remove_hyperlinks)\n",
    "test['cleaned_content'] =  test['cleaned_content'].apply(remove_hyperlinks)"
   ]
  },
  {
   "cell_type": "code",
   "execution_count": 42,
   "id": "d531a0bf",
   "metadata": {
    "scrolled": false
   },
   "outputs": [
    {
     "data": {
      "text/plain": [
       "'Wall St gains with tech shares; regional banks fall - Reuters '"
      ]
     },
     "execution_count": 42,
     "metadata": {},
     "output_type": "execute_result"
    }
   ],
   "source": [
    "train.iloc[105,2]"
   ]
  },
  {
   "cell_type": "code",
   "execution_count": 43,
   "id": "755e19ee",
   "metadata": {
    "scrolled": false
   },
   "outputs": [
    {
     "data": {
      "text/plain": [
       "'🕰️ Patience is key when it comes to adoption. It’s unfair to believe that adoption can happen immediately. Look how long it took for the to be adopted in Europe; it was forced on people. ‘Bitcoin is a much better story’ .⏳ '"
      ]
     },
     "execution_count": 43,
     "metadata": {},
     "output_type": "execute_result"
    }
   ],
   "source": [
    "test.iloc[13,2]"
   ]
  },
  {
   "cell_type": "markdown",
   "id": "2d479e72",
   "metadata": {},
   "source": [
    "We save the processed data into pickle files, so that we can skip the above data processing steps during model-training in the future"
   ]
  },
  {
   "cell_type": "code",
   "execution_count": 44,
   "id": "7a7a281f",
   "metadata": {},
   "outputs": [],
   "source": [
    "with open('train_cleaned_content.pkl','wb') as file:\n",
    "    pickle.dump(train['cleaned_content'],file)\n",
    "    \n",
    "\n",
    "with open('test_cleaned_content.pkl','wb') as file:\n",
    "    pickle.dump(test['cleaned_content'],file)\n",
    "    \n",
    "\n",
    "    \n",
    "with open('train_cleaned_content.pkl','rb') as file:\n",
    "    train['cleaned_content'] = pickle.load(file)\n",
    "\n",
    "    \n",
    "with open('test_cleaned_content.pkl','rb') as file:\n",
    "    test['cleaned_content'] = pickle.load(file)"
   ]
  },
  {
   "cell_type": "markdown",
   "id": "4c0518f0",
   "metadata": {},
   "source": [
    "5. Conversion of Emojis and Emoticons"
   ]
  },
  {
   "cell_type": "code",
   "execution_count": 45,
   "id": "702b4f6d",
   "metadata": {},
   "outputs": [],
   "source": [
    "def convert_emojis(text):\n",
    "    return emoji.demojize(text)\n",
    "\n",
    "\n",
    "train['cleaned_content'] = train['cleaned_content'].apply(convert_emojis)\n",
    "test['cleaned_content'] = test['cleaned_content'].apply(convert_emojis)"
   ]
  },
  {
   "cell_type": "code",
   "execution_count": 46,
   "id": "e281b4ed",
   "metadata": {
    "scrolled": false
   },
   "outputs": [
    {
     "data": {
      "text/plain": [
       "'Wall St gains with tech shares; regional banks fall - Reuters '"
      ]
     },
     "execution_count": 46,
     "metadata": {},
     "output_type": "execute_result"
    }
   ],
   "source": [
    "train.iloc[105,2]"
   ]
  },
  {
   "cell_type": "code",
   "execution_count": 47,
   "id": "d586faf3",
   "metadata": {
    "scrolled": false
   },
   "outputs": [
    {
     "data": {
      "text/plain": [
       "':mantelpiece_clock: Patience is key when it comes to adoption. It’s unfair to believe that adoption can happen immediately. Look how long it took for the to be adopted in Europe; it was forced on people. ‘Bitcoin is a much better story’ .:hourglass_not_done: '"
      ]
     },
     "execution_count": 47,
     "metadata": {},
     "output_type": "execute_result"
    }
   ],
   "source": [
    "test.iloc[13,2]"
   ]
  },
  {
   "cell_type": "markdown",
   "id": "7ab75452",
   "metadata": {},
   "source": [
    " 6. remove punctuation and lowercasing"
   ]
  },
  {
   "cell_type": "code",
   "execution_count": 48,
   "id": "547c558a",
   "metadata": {},
   "outputs": [],
   "source": [
    "def remove_punctuation_and_casing(text):\n",
    "    \"\"\"\n",
    "    Function to remove the punctuation, upper casing and words that include\n",
    "    non-alphanumeric characters.\n",
    "    \"\"\"\n",
    "    chars = '’‘\\'!\"#$%&()*+,-./:;<=>?@[\\]^_`{|}~'\n",
    "    text = text.translate(str.maketrans(chars, ' ' * len(chars)))\n",
    "   \n",
    "    return ' '.join([word.lower() for word in text.split()])\n",
    "    \n",
    "train['cleaned_content'] =  train['cleaned_content'].apply(remove_punctuation_and_casing)   \n",
    "test['cleaned_content'] =  test['cleaned_content'].apply(remove_punctuation_and_casing)    "
   ]
  },
  {
   "cell_type": "code",
   "execution_count": 49,
   "id": "47d71a22",
   "metadata": {},
   "outputs": [
    {
     "data": {
      "text/plain": [
       "'wall st gains with tech shares regional banks fall reuters'"
      ]
     },
     "execution_count": 49,
     "metadata": {},
     "output_type": "execute_result"
    }
   ],
   "source": [
    "train.iloc[105,2]"
   ]
  },
  {
   "cell_type": "code",
   "execution_count": 50,
   "id": "66d05757",
   "metadata": {},
   "outputs": [
    {
     "data": {
      "text/plain": [
       "'mantelpiece clock patience is key when it comes to adoption it s unfair to believe that adoption can happen immediately look how long it took for the to be adopted in europe it was forced on people bitcoin is a much better story hourglass not done'"
      ]
     },
     "execution_count": 50,
     "metadata": {},
     "output_type": "execute_result"
    }
   ],
   "source": [
    "test.iloc[13,2]"
   ]
  },
  {
   "cell_type": "markdown",
   "id": "0ca0f56e",
   "metadata": {},
   "source": [
    "7. Stopwords are filtered out"
   ]
  },
  {
   "cell_type": "code",
   "execution_count": 51,
   "id": "b0d7bab9",
   "metadata": {},
   "outputs": [
    {
     "data": {
      "text/plain": [
       "['i', 'me', 'my', 'myself', 'we', 'our', 'ours', 'ourselves', 'you']"
      ]
     },
     "execution_count": 51,
     "metadata": {},
     "output_type": "execute_result"
    }
   ],
   "source": [
    "english_stopwords = stopwords.words('english')\n",
    "english_stopwords[0:9]"
   ]
  },
  {
   "cell_type": "code",
   "execution_count": 52,
   "id": "b374ea9c",
   "metadata": {},
   "outputs": [],
   "source": [
    "def remove_stopwords(text):\n",
    "    \"\"\" Function to remove stopwords. \"\"\"\n",
    "    return ' '.join([word for word in str(text).split() if word not in english_stopwords])\n",
    "\n",
    "train['cleaned_content'] = train['cleaned_content'].apply(remove_stopwords)\n",
    "test['cleaned_content'] = test['cleaned_content'].apply(remove_stopwords)\n"
   ]
  },
  {
   "cell_type": "code",
   "execution_count": 53,
   "id": "9db68541",
   "metadata": {},
   "outputs": [
    {
     "data": {
      "text/plain": [
       "'wall st gains tech shares regional banks fall reuters'"
      ]
     },
     "execution_count": 53,
     "metadata": {},
     "output_type": "execute_result"
    }
   ],
   "source": [
    "train.iloc[105,2]"
   ]
  },
  {
   "cell_type": "code",
   "execution_count": 54,
   "id": "71282ae1",
   "metadata": {
    "scrolled": true
   },
   "outputs": [
    {
     "data": {
      "text/plain": [
       "'mantelpiece clock patience key comes adoption unfair believe adoption happen immediately look long took adopted europe forced people bitcoin much better story hourglass done'"
      ]
     },
     "execution_count": 54,
     "metadata": {},
     "output_type": "execute_result"
    }
   ],
   "source": [
    "test.iloc[13,2]"
   ]
  },
  {
   "cell_type": "markdown",
   "id": "c55bcf5e",
   "metadata": {},
   "source": [
    "8. The words are lemmatized"
   ]
  },
  {
   "cell_type": "code",
   "execution_count": 55,
   "id": "ea1e175b",
   "metadata": {},
   "outputs": [],
   "source": [
    "lemmatizer = WordNetLemmatizer()\n",
    "\n",
    "def lemmatize_words(text, **kwargs):\n",
    "    \"\"\" Function to lemmatize words. \"\"\"\n",
    "    return ' '.join([lemmatizer.lemmatize(word, **kwargs) for word in text.split()])\n",
    "\n",
    "\n",
    "train['cleaned_content'] = train['cleaned_content'].apply(lemmatize_words)\n",
    "test['cleaned_content'] = test['cleaned_content'].apply(lemmatize_words)"
   ]
  },
  {
   "cell_type": "code",
   "execution_count": 56,
   "id": "dc84c97b",
   "metadata": {
    "scrolled": true
   },
   "outputs": [
    {
     "data": {
      "text/plain": [
       "'wall st gain tech share regional bank fall reuters'"
      ]
     },
     "execution_count": 56,
     "metadata": {},
     "output_type": "execute_result"
    }
   ],
   "source": [
    "train.iloc[105,2]"
   ]
  },
  {
   "cell_type": "code",
   "execution_count": 57,
   "id": "40eab9e7",
   "metadata": {
    "scrolled": true
   },
   "outputs": [
    {
     "data": {
      "text/plain": [
       "'mantelpiece clock patience key come adoption unfair believe adoption happen immediately look long took adopted europe forced people bitcoin much better story hourglass done'"
      ]
     },
     "execution_count": 57,
     "metadata": {},
     "output_type": "execute_result"
    }
   ],
   "source": [
    "test.iloc[13,2]"
   ]
  },
  {
   "cell_type": "markdown",
   "id": "b5b9bda1",
   "metadata": {},
   "source": [
    "### Most Used Words"
   ]
  },
  {
   "cell_type": "code",
   "execution_count": 58,
   "id": "ae772174",
   "metadata": {},
   "outputs": [],
   "source": [
    "import collections\n",
    "word_counter = collections.Counter()\n",
    "for r in train['cleaned_content']:\n",
    "    for w in r.split():        \n",
    "        word_counter.update({w: 1})  "
   ]
  },
  {
   "cell_type": "code",
   "execution_count": 59,
   "id": "ed98fe5d",
   "metadata": {},
   "outputs": [
    {
     "data": {
      "text/plain": [
       "[('face', 159),\n",
       " ('u', 144),\n",
       " ('index', 137),\n",
       " ('fire', 133),\n",
       " ('1', 133),\n",
       " ('pointing', 131),\n",
       " ('backhand', 130),\n",
       " ('light', 124),\n",
       " ('like', 115),\n",
       " ('market', 113)]"
      ]
     },
     "execution_count": 59,
     "metadata": {},
     "output_type": "execute_result"
    }
   ],
   "source": [
    "top_n = 10\n",
    "word_counter.most_common(top_n)"
   ]
  },
  {
   "cell_type": "markdown",
   "id": "38ba2408",
   "metadata": {},
   "source": [
    "---\n",
    "# 5. Model Selection\n",
    "### 5.1 Dictionary-based sentiment analysis"
   ]
  },
  {
   "cell_type": "code",
   "execution_count": 60,
   "id": "0393417d",
   "metadata": {},
   "outputs": [],
   "source": [
    "x_train = train['cleaned_content']\n",
    "y_train = train['sentiment']\n",
    "\n",
    "x_test = test['cleaned_content']\n",
    "y_test = test['sentiment']"
   ]
  },
  {
   "cell_type": "code",
   "execution_count": 61,
   "id": "52f878ff",
   "metadata": {
    "scrolled": true
   },
   "outputs": [
    {
     "data": {
      "text/plain": [
       "((1463,), (492,), (1463,), (492,))"
      ]
     },
     "execution_count": 61,
     "metadata": {},
     "output_type": "execute_result"
    }
   ],
   "source": [
    "(x_train.shape, x_test.shape, y_train.shape, y_test.shape)"
   ]
  },
  {
   "cell_type": "markdown",
   "id": "80f9952a",
   "metadata": {},
   "source": [
    "Dictionary-based sentiment analysis\n",
    "\n",
    "import Harvard IV-4 dictionary\n"
   ]
  },
  {
   "cell_type": "code",
   "execution_count": 62,
   "id": "c20ab673",
   "metadata": {},
   "outputs": [],
   "source": [
    "dc = ps.HIV4()\n",
    "\n",
    "def get_sentiment_score(text):\n",
    "    score = round(dc.get_score(dc.tokenize(text))['Polarity'],2)\n",
    "    normalized_score = (score + 1) / 2 \n",
    "    return normalized_score"
   ]
  },
  {
   "cell_type": "markdown",
   "id": "63376e95",
   "metadata": {},
   "source": [
    "Compare the sentiment score with the raw sentiment value using the previous example"
   ]
  },
  {
   "cell_type": "code",
   "execution_count": 63,
   "id": "dff30bb6",
   "metadata": {},
   "outputs": [
    {
     "name": "stdout",
     "output_type": "stream",
     "text": [
      "Content: wall st gain tech share regional bank fall reuters\n",
      "Raw Sentiment : 1\n",
      "Sentiment Score: 0.5\n"
     ]
    }
   ],
   "source": [
    "sentiment_score = get_sentiment_score(train['cleaned_content'].iloc[105])\n",
    "\n",
    "print(f\"Content: {train['cleaned_content'].iloc[105]}\")\n",
    "print(f\"Raw Sentiment : {train['sentiment'].iloc[105]}\")\n",
    "print(f\"Sentiment Score: {sentiment_score}\")"
   ]
  },
  {
   "cell_type": "markdown",
   "id": "5c26cdcb",
   "metadata": {},
   "source": [
    "Apply the model in our test dataset"
   ]
  },
  {
   "cell_type": "code",
   "execution_count": 64,
   "id": "1e4ef8ca",
   "metadata": {
    "scrolled": true
   },
   "outputs": [
    {
     "name": "stdout",
     "output_type": "stream",
     "text": [
      "Processed 1463 contents in 1 sec.\n",
      "Processed 492 contents in 1 sec.\n"
     ]
    }
   ],
   "source": [
    "start = time.time()\n",
    "train['sentiment_score'] = train['cleaned_content'].apply(get_sentiment_score)\n",
    "test['sentiment_score'] = test['cleaned_content'].apply(get_sentiment_score)\n",
    "end = time.time()\n",
    "\n",
    "print('Processed {} contents in {:.0f} sec.'.format(train.shape[0], end-start))\n",
    "print('Processed {} contents in {:.0f} sec.'.format(test.shape[0], end-start))"
   ]
  },
  {
   "cell_type": "code",
   "execution_count": 65,
   "id": "837f5613",
   "metadata": {
    "scrolled": true
   },
   "outputs": [
    {
     "data": {
      "text/plain": [
       "count    492.000000\n",
       "mean       0.598984\n",
       "std        0.322362\n",
       "min        0.000000\n",
       "25%        0.445000\n",
       "50%        0.600000\n",
       "75%        1.000000\n",
       "max        1.000000\n",
       "Name: sentiment_score, dtype: float64"
      ]
     },
     "execution_count": 65,
     "metadata": {},
     "output_type": "execute_result"
    },
    {
     "data": {
      "image/png": "[encoded data removed]",
      "text/plain": [
       "<Figure size 640x480 with 1 Axes>"
      ]
     },
     "metadata": {},
     "output_type": "display_data"
    }
   ],
   "source": [
    "test['sentiment_score'].hist()\n",
    "test['sentiment_score'].describe() "
   ]
  },
  {
   "cell_type": "markdown",
   "id": "192dd633",
   "metadata": {},
   "source": [
    "### Sentiment classifier assessment"
   ]
  },
  {
   "cell_type": "code",
   "execution_count": 67,
   "id": "c819c34a",
   "metadata": {},
   "outputs": [],
   "source": [
    "def assess_sentiment_classifier(ytest, yhat, cut_off=0.5, plot_roc=True):   \n",
    "    \"\"\"\n",
    "        Helper function to assess a classification model in terms of the AUC\n",
    "        and classification accuracy. We calculate the latter by comapring\n",
    "        continuous (e.g., probabilistic) classifier predictions to a cut_off.\n",
    "        Cases where the prediction exceeds the cut-off are classified as \n",
    "        positive.\n",
    "    \"\"\"\n",
    "    \n",
    "    # Calculate discrete class predictions\n",
    "    yhat_c = np.where(yhat>cut_off, 1, 0)\n",
    "    \n",
    "    \n",
    "    # Calculate classification accuracy and AUC\n",
    "    acc = accuracy_score(ytest, yhat_c)\n",
    "    auc = roc_auc_score(ytest, yhat)\n",
    "    \n",
    "    \n",
    "    # Calculate recall and F1 score\n",
    "    recall = recall_score(ytest, yhat_c)\n",
    "    f1 = f1_score(ytest, yhat_c)\n",
    "\n",
    "    # Confusion matrix \n",
    "    cmat = confusion_matrix(ytest, yhat_c)\n",
    "    \n",
    "    # ROC analysis\n",
    "    if plot_roc==True:\n",
    "        fpr, tpr, _ = roc_curve(ytest, yhat)\n",
    "        plt.plot(fpr,tpr, label=\"AUC={:.4}\".format(auc));\n",
    "        plt.plot([0, 1], [0, 1], \"r--\")\n",
    "        plt.ylabel('True positive rate')    \n",
    "        plt.xlabel('False positive rate')    \n",
    "        plt.legend(loc='lower right')\n",
    "        plt.show();\n",
    "    \n",
    "    return auc, acc, recall,f1,cmat"
   ]
  },
  {
   "cell_type": "markdown",
   "id": "6ec3ff73",
   "metadata": {},
   "source": [
    "Assess dictionary-based sentiment classifier\n"
   ]
  },
  {
   "cell_type": "code",
   "execution_count": 68,
   "id": "b1663a7e",
   "metadata": {},
   "outputs": [
    {
     "data": {
      "image/png": "[encoded data removed]",
      "text/plain": [
       "<Figure size 640x480 with 1 Axes>"
      ]
     },
     "metadata": {},
     "output_type": "display_data"
    },
    {
     "name": "stdout",
     "output_type": "stream",
     "text": [
      "Dictionary-based sentiment classifier:\tAUC=0.6074\tAccuracy=0.5467\tRecall=0.5404\tF1 Score=0.6575\n"
     ]
    }
   ],
   "source": [
    "from sklearn.metrics import recall_score, f1_score\n",
    "auc, acc,recall,f1,cmat = assess_sentiment_classifier(ytest=test['sentiment'], yhat=test['sentiment_score'], cut_off=0.5)\n",
    "print(\"Dictionary-based sentiment classifier:\\tAUC={:.4f}\\tAccuracy={:.4f}\\tRecall={:.4f}\\tF1 Score={:.4f}\".format(auc, acc,recall,f1))"
   ]
  },
  {
   "cell_type": "markdown",
   "id": "2ec811f2",
   "metadata": {},
   "source": [
    " Confusion matrix \n"
   ]
  },
  {
   "cell_type": "code",
   "execution_count": 69,
   "id": "c44d1f5d",
   "metadata": {
    "scrolled": false
   },
   "outputs": [
    {
     "data": {
      "text/plain": [
       "array([[ 55,  41],\n",
       "       [182, 214]], dtype=int64)"
      ]
     },
     "execution_count": 69,
     "metadata": {},
     "output_type": "execute_result"
    }
   ],
   "source": [
    "cmat"
   ]
  },
  {
   "cell_type": "markdown",
   "id": "5f7485c0",
   "metadata": {},
   "source": [
    "The ROC curve doesn’t look good, and the accuracy value is also very low. It seems that our Dictionary-based model is not a good model.\n",
    "\n",
    "Dictionary-based approach does not involve training. Therefore, there is no risk of overfitting.\n",
    "\n",
    "Since we are about to create more models, it makes sense to create a container in which we store the results of different models."
   ]
  },
  {
   "cell_type": "code",
   "execution_count": 70,
   "id": "071b4c69",
   "metadata": {
    "scrolled": true
   },
   "outputs": [
    {
     "data": {
      "text/html": [
       "<div>\n",
       "<style scoped>\n",
       "    .dataframe tbody tr th:only-of-type {\n",
       "        vertical-align: middle;\n",
       "    }\n",
       "\n",
       "    .dataframe tbody tr th {\n",
       "        vertical-align: top;\n",
       "    }\n",
       "\n",
       "    .dataframe thead th {\n",
       "        text-align: right;\n",
       "    }\n",
       "</style>\n",
       "<table border=\"1\" class=\"dataframe\">\n",
       "  <thead>\n",
       "    <tr style=\"text-align: right;\">\n",
       "      <th></th>\n",
       "      <th>Dictonary_based</th>\n",
       "    </tr>\n",
       "  </thead>\n",
       "  <tbody>\n",
       "    <tr>\n",
       "      <th>Acc</th>\n",
       "      <td>0.546748</td>\n",
       "    </tr>\n",
       "    <tr>\n",
       "      <th>AUC</th>\n",
       "      <td>0.607442</td>\n",
       "    </tr>\n",
       "    <tr>\n",
       "      <th>Recall</th>\n",
       "      <td>0.540404</td>\n",
       "    </tr>\n",
       "    <tr>\n",
       "      <th>F1_score</th>\n",
       "      <td>0.657450</td>\n",
       "    </tr>\n",
       "  </tbody>\n",
       "</table>\n",
       "</div>"
      ],
      "text/plain": [
       "          Dictonary_based\n",
       "Acc              0.546748\n",
       "AUC              0.607442\n",
       "Recall           0.540404\n",
       "F1_score         0.657450"
      ]
     },
     "execution_count": 70,
     "metadata": {},
     "output_type": "execute_result"
    }
   ],
   "source": [
    "# Extract test set cases \n",
    "yhat = test.loc[x_test.index, 'sentiment_score']                \n",
    "\n",
    "# Compute test set performance\n",
    "auc, acc, recall,f1,_ = assess_sentiment_classifier(y_test, yhat, cut_off=0.5, plot_roc=False)\n",
    "\n",
    "# We will create many more models. Let's put every model's score into a data frame\n",
    "test_scores = pd.DataFrame(index=['Acc', 'AUC','Recall','F1_score'], columns=['Dictonary_based'], data=[acc, auc,recall,f1])\n",
    "test_scores"
   ]
  },
  {
   "cell_type": "markdown",
   "id": "843c1aa8",
   "metadata": {},
   "source": [
    "---\n",
    "### 5.2 RNN-based Model"
   ]
  },
  {
   "cell_type": "markdown",
   "id": "07fef383",
   "metadata": {},
   "source": [
    "Before training the model,we first split our dataset into a test and a validation set."
   ]
  },
  {
   "cell_type": "code",
   "execution_count": 71,
   "id": "e6191807",
   "metadata": {},
   "outputs": [],
   "source": [
    "X_train, X_val, y_train, y_val = train_test_split(train['cleaned_content'], train['sentiment'], test_size = 0.25, random_state = 616070)\n",
    "\n",
    "# transform them to numpy\n",
    "X_train = X_train.to_numpy()\n",
    "X_val = X_val.to_numpy()\n",
    "y_train = y_train.to_numpy()\n",
    "y_val = y_val.to_numpy()\n",
    "\n",
    "x_test = test['cleaned_content']\n",
    "y_test = test['sentiment']\n",
    "x_test = x_test.to_numpy()\n",
    "y_test = y_test.to_numpy()\n",
    "\n",
    "# Define the size of the vocabulary and the max number of words in a sequence\n",
    "vocab_size = 10000\n",
    "seq_length = 50\n",
    "\n",
    "# Create a vectorization layer\n",
    "vectorize_layer = TextVectorization(\n",
    "    max_tokens = vocab_size,\n",
    "    output_sequence_length = seq_length\n",
    "    )\n",
    "vectorize_layer.adapt(X_train)"
   ]
  },
  {
   "cell_type": "code",
   "execution_count": 72,
   "id": "0764f228",
   "metadata": {},
   "outputs": [],
   "source": [
    "X_train = vectorize_layer(X_train)\n",
    "X_val = vectorize_layer(X_val)\n",
    "x_test = vectorize_layer(x_test)"
   ]
  },
  {
   "cell_type": "markdown",
   "id": "60dc3be4",
   "metadata": {},
   "source": [
    "### Create model with LSTM\n"
   ]
  },
  {
   "cell_type": "code",
   "execution_count": 73,
   "id": "3df28cea",
   "metadata": {
    "scrolled": false
   },
   "outputs": [
    {
     "data": {
      "text/html": [
       "<pre style=\"white-space:pre;overflow-x:auto;line-height:normal;font-family:Menlo,'DejaVu Sans Mono',consolas,'Courier New',monospace\"><span style=\"font-weight: bold\">Model: \"functional_1\"</span>\n",
       "</pre>\n"
      ],
      "text/plain": [
       "\u001b[1mModel: \"functional_1\"\u001b[0m\n"
      ]
     },
     "metadata": {},
     "output_type": "display_data"
    },
    {
     "data": {
      "text/html": [
       "<pre style=\"white-space:pre;overflow-x:auto;line-height:normal;font-family:Menlo,'DejaVu Sans Mono',consolas,'Courier New',monospace\">┏━━━━━━━━━━━━━━━━━━━━━━━━━━━━━━━┳━━━━━━━━━━━━━━━━━━━━━━━━━━━┳━━━━━━━━━━━━━━━━━┳━━━━━━━━━━━━━━━━━━━━━━━━━━━━┓\n",
       "┃<span style=\"font-weight: bold\"> Layer (type)                  </span>┃<span style=\"font-weight: bold\"> Output Shape              </span>┃<span style=\"font-weight: bold\">         Param # </span>┃<span style=\"font-weight: bold\"> Connected to               </span>┃\n",
       "┡━━━━━━━━━━━━━━━━━━━━━━━━━━━━━━━╇━━━━━━━━━━━━━━━━━━━━━━━━━━━╇━━━━━━━━━━━━━━━━━╇━━━━━━━━━━━━━━━━━━━━━━━━━━━━┩\n",
       "│ input_layer (<span style=\"color: #0087ff; text-decoration-color: #0087ff\">InputLayer</span>)      │ (<span style=\"color: #00d7ff; text-decoration-color: #00d7ff\">None</span>, <span style=\"color: #00af00; text-decoration-color: #00af00\">50</span>)                │               <span style=\"color: #00af00; text-decoration-color: #00af00\">0</span> │ -                          │\n",
       "├───────────────────────────────┼───────────────────────────┼─────────────────┼────────────────────────────┤\n",
       "│ embedding (<span style=\"color: #0087ff; text-decoration-color: #0087ff\">Embedding</span>)         │ (<span style=\"color: #00d7ff; text-decoration-color: #00d7ff\">None</span>, <span style=\"color: #00af00; text-decoration-color: #00af00\">50</span>, <span style=\"color: #00af00; text-decoration-color: #00af00\">128</span>)           │       <span style=\"color: #00af00; text-decoration-color: #00af00\">1,280,000</span> │ input_layer[<span style=\"color: #00af00; text-decoration-color: #00af00\">0</span>][<span style=\"color: #00af00; text-decoration-color: #00af00\">0</span>]          │\n",
       "├───────────────────────────────┼───────────────────────────┼─────────────────┼────────────────────────────┤\n",
       "│ not_equal (<span style=\"color: #0087ff; text-decoration-color: #0087ff\">NotEqual</span>)          │ (<span style=\"color: #00d7ff; text-decoration-color: #00d7ff\">None</span>, <span style=\"color: #00af00; text-decoration-color: #00af00\">50</span>)                │               <span style=\"color: #00af00; text-decoration-color: #00af00\">0</span> │ input_layer[<span style=\"color: #00af00; text-decoration-color: #00af00\">0</span>][<span style=\"color: #00af00; text-decoration-color: #00af00\">0</span>]          │\n",
       "├───────────────────────────────┼───────────────────────────┼─────────────────┼────────────────────────────┤\n",
       "│ lstm (<span style=\"color: #0087ff; text-decoration-color: #0087ff\">LSTM</span>)                   │ (<span style=\"color: #00d7ff; text-decoration-color: #00d7ff\">None</span>, <span style=\"color: #00af00; text-decoration-color: #00af00\">64</span>)                │          <span style=\"color: #00af00; text-decoration-color: #00af00\">49,408</span> │ embedding[<span style=\"color: #00af00; text-decoration-color: #00af00\">0</span>][<span style=\"color: #00af00; text-decoration-color: #00af00\">0</span>],           │\n",
       "│                               │                           │                 │ not_equal[<span style=\"color: #00af00; text-decoration-color: #00af00\">0</span>][<span style=\"color: #00af00; text-decoration-color: #00af00\">0</span>]            │\n",
       "├───────────────────────────────┼───────────────────────────┼─────────────────┼────────────────────────────┤\n",
       "│ dense (<span style=\"color: #0087ff; text-decoration-color: #0087ff\">Dense</span>)                 │ (<span style=\"color: #00d7ff; text-decoration-color: #00d7ff\">None</span>, <span style=\"color: #00af00; text-decoration-color: #00af00\">1</span>)                 │              <span style=\"color: #00af00; text-decoration-color: #00af00\">65</span> │ lstm[<span style=\"color: #00af00; text-decoration-color: #00af00\">0</span>][<span style=\"color: #00af00; text-decoration-color: #00af00\">0</span>]                 │\n",
       "└───────────────────────────────┴───────────────────────────┴─────────────────┴────────────────────────────┘\n",
       "</pre>\n"
      ],
      "text/plain": [
       "┏━━━━━━━━━━━━━━━━━━━━━━━━━━━━━━━┳━━━━━━━━━━━━━━━━━━━━━━━━━━━┳━━━━━━━━━━━━━━━━━┳━━━━━━━━━━━━━━━━━━━━━━━━━━━━┓\n",
       "┃\u001b[1m \u001b[0m\u001b[1mLayer (type)                 \u001b[0m\u001b[1m \u001b[0m┃\u001b[1m \u001b[0m\u001b[1mOutput Shape             \u001b[0m\u001b[1m \u001b[0m┃\u001b[1m \u001b[0m\u001b[1m        Param #\u001b[0m\u001b[1m \u001b[0m┃\u001b[1m \u001b[0m\u001b[1mConnected to              \u001b[0m\u001b[1m \u001b[0m┃\n",
       "┡━━━━━━━━━━━━━━━━━━━━━━━━━━━━━━━╇━━━━━━━━━━━━━━━━━━━━━━━━━━━╇━━━━━━━━━━━━━━━━━╇━━━━━━━━━━━━━━━━━━━━━━━━━━━━┩\n",
       "│ input_layer (\u001b[38;5;33mInputLayer\u001b[0m)      │ (\u001b[38;5;45mNone\u001b[0m, \u001b[38;5;34m50\u001b[0m)                │               \u001b[38;5;34m0\u001b[0m │ -                          │\n",
       "├───────────────────────────────┼───────────────────────────┼─────────────────┼────────────────────────────┤\n",
       "│ embedding (\u001b[38;5;33mEmbedding\u001b[0m)         │ (\u001b[38;5;45mNone\u001b[0m, \u001b[38;5;34m50\u001b[0m, \u001b[38;5;34m128\u001b[0m)           │       \u001b[38;5;34m1,280,000\u001b[0m │ input_layer[\u001b[38;5;34m0\u001b[0m][\u001b[38;5;34m0\u001b[0m]          │\n",
       "├───────────────────────────────┼───────────────────────────┼─────────────────┼────────────────────────────┤\n",
       "│ not_equal (\u001b[38;5;33mNotEqual\u001b[0m)          │ (\u001b[38;5;45mNone\u001b[0m, \u001b[38;5;34m50\u001b[0m)                │               \u001b[38;5;34m0\u001b[0m │ input_layer[\u001b[38;5;34m0\u001b[0m][\u001b[38;5;34m0\u001b[0m]          │\n",
       "├───────────────────────────────┼───────────────────────────┼─────────────────┼────────────────────────────┤\n",
       "│ lstm (\u001b[38;5;33mLSTM\u001b[0m)                   │ (\u001b[38;5;45mNone\u001b[0m, \u001b[38;5;34m64\u001b[0m)                │          \u001b[38;5;34m49,408\u001b[0m │ embedding[\u001b[38;5;34m0\u001b[0m][\u001b[38;5;34m0\u001b[0m],           │\n",
       "│                               │                           │                 │ not_equal[\u001b[38;5;34m0\u001b[0m][\u001b[38;5;34m0\u001b[0m]            │\n",
       "├───────────────────────────────┼───────────────────────────┼─────────────────┼────────────────────────────┤\n",
       "│ dense (\u001b[38;5;33mDense\u001b[0m)                 │ (\u001b[38;5;45mNone\u001b[0m, \u001b[38;5;34m1\u001b[0m)                 │              \u001b[38;5;34m65\u001b[0m │ lstm[\u001b[38;5;34m0\u001b[0m][\u001b[38;5;34m0\u001b[0m]                 │\n",
       "└───────────────────────────────┴───────────────────────────┴─────────────────┴────────────────────────────┘\n"
      ]
     },
     "metadata": {},
     "output_type": "display_data"
    },
    {
     "data": {
      "text/html": [
       "<pre style=\"white-space:pre;overflow-x:auto;line-height:normal;font-family:Menlo,'DejaVu Sans Mono',consolas,'Courier New',monospace\"><span style=\"font-weight: bold\"> Total params: </span><span style=\"color: #00af00; text-decoration-color: #00af00\">1,329,473</span> (5.07 MB)\n",
       "</pre>\n"
      ],
      "text/plain": [
       "\u001b[1m Total params: \u001b[0m\u001b[38;5;34m1,329,473\u001b[0m (5.07 MB)\n"
      ]
     },
     "metadata": {},
     "output_type": "display_data"
    },
    {
     "data": {
      "text/html": [
       "<pre style=\"white-space:pre;overflow-x:auto;line-height:normal;font-family:Menlo,'DejaVu Sans Mono',consolas,'Courier New',monospace\"><span style=\"font-weight: bold\"> Trainable params: </span><span style=\"color: #00af00; text-decoration-color: #00af00\">1,329,473</span> (5.07 MB)\n",
       "</pre>\n"
      ],
      "text/plain": [
       "\u001b[1m Trainable params: \u001b[0m\u001b[38;5;34m1,329,473\u001b[0m (5.07 MB)\n"
      ]
     },
     "metadata": {},
     "output_type": "display_data"
    },
    {
     "data": {
      "text/html": [
       "<pre style=\"white-space:pre;overflow-x:auto;line-height:normal;font-family:Menlo,'DejaVu Sans Mono',consolas,'Courier New',monospace\"><span style=\"font-weight: bold\"> Non-trainable params: </span><span style=\"color: #00af00; text-decoration-color: #00af00\">0</span> (0.00 B)\n",
       "</pre>\n"
      ],
      "text/plain": [
       "\u001b[1m Non-trainable params: \u001b[0m\u001b[38;5;34m0\u001b[0m (0.00 B)\n"
      ]
     },
     "metadata": {},
     "output_type": "display_data"
    }
   ],
   "source": [
    "emb_size = 128\n",
    "rnn_units = 64\n",
    "input = tf.keras.Input(shape=(seq_length,), dtype=\"int64\")\n",
    "emb = layers.Embedding(input_dim=vocab_size, output_dim=emb_size, mask_zero=True)(input)\n",
    "x = layers.LSTM(rnn_units)(emb)\n",
    "output = layers.Dense(1, activation=\"sigmoid\")(x)\n",
    "model = tf.keras.Model(input, output)\n",
    "\n",
    "model.compile(optimizer=\"rmsprop\",\n",
    "              loss=\"binary_crossentropy\",\n",
    "              metrics=[\"accuracy\"])\n",
    "model.summary()"
   ]
  },
  {
   "cell_type": "markdown",
   "id": "87a2b7b7",
   "metadata": {},
   "source": [
    "### Adjust weights to address Class Imbalance in the model"
   ]
  },
  {
   "cell_type": "code",
   "execution_count": 74,
   "id": "adfef9ce",
   "metadata": {},
   "outputs": [],
   "source": [
    "class_weights = compute_class_weight('balanced', classes=np.unique(y_train), y=y_train)"
   ]
  },
  {
   "cell_type": "code",
   "execution_count": 75,
   "id": "1342e511",
   "metadata": {
    "scrolled": true
   },
   "outputs": [
    {
     "name": "stdout",
     "output_type": "stream",
     "text": [
      "Epoch 1/10\n",
      "\u001b[1m9/9\u001b[0m \u001b[32m━━━━━━━━━━━━━━━━━━━━\u001b[0m\u001b[37m\u001b[0m \u001b[1m3s\u001b[0m 88ms/step - accuracy: 0.5608 - loss: 0.6975 - val_accuracy: 0.7322 - val_loss: 0.6864\n",
      "Epoch 2/10\n",
      "\u001b[1m9/9\u001b[0m \u001b[32m━━━━━━━━━━━━━━━━━━━━\u001b[0m\u001b[37m\u001b[0m \u001b[1m0s\u001b[0m 40ms/step - accuracy: 0.7374 - loss: 0.6956 - val_accuracy: 0.7322 - val_loss: 0.6814\n",
      "Epoch 3/10\n",
      "\u001b[1m9/9\u001b[0m \u001b[32m━━━━━━━━━━━━━━━━━━━━\u001b[0m\u001b[37m\u001b[0m \u001b[1m0s\u001b[0m 41ms/step - accuracy: 0.7661 - loss: 0.6851 - val_accuracy: 0.6011 - val_loss: 0.6766\n",
      "Epoch 4/10\n",
      "\u001b[1m9/9\u001b[0m \u001b[32m━━━━━━━━━━━━━━━━━━━━\u001b[0m\u001b[37m\u001b[0m \u001b[1m0s\u001b[0m 42ms/step - accuracy: 0.7300 - loss: 0.6583 - val_accuracy: 0.6066 - val_loss: 0.6452\n",
      "Epoch 5/10\n",
      "\u001b[1m9/9\u001b[0m \u001b[32m━━━━━━━━━━━━━━━━━━━━\u001b[0m\u001b[37m\u001b[0m \u001b[1m0s\u001b[0m 44ms/step - accuracy: 0.7292 - loss: 0.5780 - val_accuracy: 0.7514 - val_loss: 0.5285\n",
      "Epoch 6/10\n",
      "\u001b[1m9/9\u001b[0m \u001b[32m━━━━━━━━━━━━━━━━━━━━\u001b[0m\u001b[37m\u001b[0m \u001b[1m0s\u001b[0m 44ms/step - accuracy: 0.8618 - loss: 0.4099 - val_accuracy: 0.7678 - val_loss: 0.5127\n",
      "Epoch 7/10\n",
      "\u001b[1m9/9\u001b[0m \u001b[32m━━━━━━━━━━━━━━━━━━━━\u001b[0m\u001b[37m\u001b[0m \u001b[1m1s\u001b[0m 55ms/step - accuracy: 0.8995 - loss: 0.3183 - val_accuracy: 0.7923 - val_loss: 0.5466\n",
      "Epoch 8/10\n",
      "\u001b[1m9/9\u001b[0m \u001b[32m━━━━━━━━━━━━━━━━━━━━\u001b[0m\u001b[37m\u001b[0m \u001b[1m1s\u001b[0m 78ms/step - accuracy: 0.9464 - loss: 0.2170 - val_accuracy: 0.8005 - val_loss: 0.5903\n",
      "Epoch 9/10\n",
      "\u001b[1m9/9\u001b[0m \u001b[32m━━━━━━━━━━━━━━━━━━━━\u001b[0m\u001b[37m\u001b[0m \u001b[1m1s\u001b[0m 79ms/step - accuracy: 0.9564 - loss: 0.1822 - val_accuracy: 0.7896 - val_loss: 0.5704\n",
      "Epoch 10/10\n",
      "\u001b[1m9/9\u001b[0m \u001b[32m━━━━━━━━━━━━━━━━━━━━\u001b[0m\u001b[37m\u001b[0m \u001b[1m1s\u001b[0m 82ms/step - accuracy: 0.9658 - loss: 0.1477 - val_accuracy: 0.7978 - val_loss: 0.6085\n"
     ]
    },
    {
     "data": {
      "text/plain": [
       "<keras.src.callbacks.history.History at 0x25636739610>"
      ]
     },
     "execution_count": 75,
     "metadata": {},
     "output_type": "execute_result"
    }
   ],
   "source": [
    "model.fit(\n",
    "    X_train,\n",
    "    y_train,\n",
    "    validation_data=(X_val, y_val),\n",
    "    epochs = 10,\n",
    "    batch_size = 128,\n",
    "    class_weight = dict(enumerate(class_weights))\n",
    ")"
   ]
  },
  {
   "cell_type": "code",
   "execution_count": 85,
   "id": "bbaebebf",
   "metadata": {},
   "outputs": [
    {
     "name": "stdout",
     "output_type": "stream",
     "text": [
      "wall st gain tech share regional bank fall reuters\n",
      "\u001b[1m1/1\u001b[0m \u001b[32m━━━━━━━━━━━━━━━━━━━━\u001b[0m\u001b[37m\u001b[0m \u001b[1m0s\u001b[0m 482ms/step\n"
     ]
    },
    {
     "data": {
      "text/plain": [
       "array([[0.95560455]], dtype=float32)"
      ]
     },
     "execution_count": 85,
     "metadata": {},
     "output_type": "execute_result"
    }
   ],
   "source": [
    "print(train['cleaned_content'].iloc[105])\n",
    "model.predict(vectorize_layer(train['cleaned_content'].iloc[[105]]))\n"
   ]
  },
  {
   "cell_type": "markdown",
   "id": "cda7b20e",
   "metadata": {},
   "source": [
    "### Bi-directional LSTM"
   ]
  },
  {
   "cell_type": "code",
   "execution_count": 77,
   "id": "643bebf8",
   "metadata": {},
   "outputs": [
    {
     "data": {
      "text/html": [
       "<pre style=\"white-space:pre;overflow-x:auto;line-height:normal;font-family:Menlo,'DejaVu Sans Mono',consolas,'Courier New',monospace\"><span style=\"font-weight: bold\">Model: \"functional_3\"</span>\n",
       "</pre>\n"
      ],
      "text/plain": [
       "\u001b[1mModel: \"functional_3\"\u001b[0m\n"
      ]
     },
     "metadata": {},
     "output_type": "display_data"
    },
    {
     "data": {
      "text/html": [
       "<pre style=\"white-space:pre;overflow-x:auto;line-height:normal;font-family:Menlo,'DejaVu Sans Mono',consolas,'Courier New',monospace\">┏━━━━━━━━━━━━━━━━━━━━━━━━━━━━━━━┳━━━━━━━━━━━━━━━━━━━━━━━━━━━┳━━━━━━━━━━━━━━━━━┳━━━━━━━━━━━━━━━━━━━━━━━━━━━━┓\n",
       "┃<span style=\"font-weight: bold\"> Layer (type)                  </span>┃<span style=\"font-weight: bold\"> Output Shape              </span>┃<span style=\"font-weight: bold\">         Param # </span>┃<span style=\"font-weight: bold\"> Connected to               </span>┃\n",
       "┡━━━━━━━━━━━━━━━━━━━━━━━━━━━━━━━╇━━━━━━━━━━━━━━━━━━━━━━━━━━━╇━━━━━━━━━━━━━━━━━╇━━━━━━━━━━━━━━━━━━━━━━━━━━━━┩\n",
       "│ input_layer_1 (<span style=\"color: #0087ff; text-decoration-color: #0087ff\">InputLayer</span>)    │ (<span style=\"color: #00d7ff; text-decoration-color: #00d7ff\">None</span>, <span style=\"color: #00af00; text-decoration-color: #00af00\">50</span>)                │               <span style=\"color: #00af00; text-decoration-color: #00af00\">0</span> │ -                          │\n",
       "├───────────────────────────────┼───────────────────────────┼─────────────────┼────────────────────────────┤\n",
       "│ embedding_1 (<span style=\"color: #0087ff; text-decoration-color: #0087ff\">Embedding</span>)       │ (<span style=\"color: #00d7ff; text-decoration-color: #00d7ff\">None</span>, <span style=\"color: #00af00; text-decoration-color: #00af00\">50</span>, <span style=\"color: #00af00; text-decoration-color: #00af00\">128</span>)           │       <span style=\"color: #00af00; text-decoration-color: #00af00\">1,280,000</span> │ input_layer_1[<span style=\"color: #00af00; text-decoration-color: #00af00\">0</span>][<span style=\"color: #00af00; text-decoration-color: #00af00\">0</span>]        │\n",
       "├───────────────────────────────┼───────────────────────────┼─────────────────┼────────────────────────────┤\n",
       "│ not_equal_1 (<span style=\"color: #0087ff; text-decoration-color: #0087ff\">NotEqual</span>)        │ (<span style=\"color: #00d7ff; text-decoration-color: #00d7ff\">None</span>, <span style=\"color: #00af00; text-decoration-color: #00af00\">50</span>)                │               <span style=\"color: #00af00; text-decoration-color: #00af00\">0</span> │ input_layer_1[<span style=\"color: #00af00; text-decoration-color: #00af00\">0</span>][<span style=\"color: #00af00; text-decoration-color: #00af00\">0</span>]        │\n",
       "├───────────────────────────────┼───────────────────────────┼─────────────────┼────────────────────────────┤\n",
       "│ bidirectional (<span style=\"color: #0087ff; text-decoration-color: #0087ff\">Bidirectional</span>) │ (<span style=\"color: #00d7ff; text-decoration-color: #00d7ff\">None</span>, <span style=\"color: #00af00; text-decoration-color: #00af00\">128</span>)               │          <span style=\"color: #00af00; text-decoration-color: #00af00\">98,816</span> │ embedding_1[<span style=\"color: #00af00; text-decoration-color: #00af00\">0</span>][<span style=\"color: #00af00; text-decoration-color: #00af00\">0</span>],         │\n",
       "│                               │                           │                 │ not_equal_1[<span style=\"color: #00af00; text-decoration-color: #00af00\">0</span>][<span style=\"color: #00af00; text-decoration-color: #00af00\">0</span>]          │\n",
       "├───────────────────────────────┼───────────────────────────┼─────────────────┼────────────────────────────┤\n",
       "│ dropout (<span style=\"color: #0087ff; text-decoration-color: #0087ff\">Dropout</span>)             │ (<span style=\"color: #00d7ff; text-decoration-color: #00d7ff\">None</span>, <span style=\"color: #00af00; text-decoration-color: #00af00\">128</span>)               │               <span style=\"color: #00af00; text-decoration-color: #00af00\">0</span> │ bidirectional[<span style=\"color: #00af00; text-decoration-color: #00af00\">0</span>][<span style=\"color: #00af00; text-decoration-color: #00af00\">0</span>]        │\n",
       "├───────────────────────────────┼───────────────────────────┼─────────────────┼────────────────────────────┤\n",
       "│ dense_1 (<span style=\"color: #0087ff; text-decoration-color: #0087ff\">Dense</span>)               │ (<span style=\"color: #00d7ff; text-decoration-color: #00d7ff\">None</span>, <span style=\"color: #00af00; text-decoration-color: #00af00\">1</span>)                 │             <span style=\"color: #00af00; text-decoration-color: #00af00\">129</span> │ dropout[<span style=\"color: #00af00; text-decoration-color: #00af00\">0</span>][<span style=\"color: #00af00; text-decoration-color: #00af00\">0</span>]              │\n",
       "└───────────────────────────────┴───────────────────────────┴─────────────────┴────────────────────────────┘\n",
       "</pre>\n"
      ],
      "text/plain": [
       "┏━━━━━━━━━━━━━━━━━━━━━━━━━━━━━━━┳━━━━━━━━━━━━━━━━━━━━━━━━━━━┳━━━━━━━━━━━━━━━━━┳━━━━━━━━━━━━━━━━━━━━━━━━━━━━┓\n",
       "┃\u001b[1m \u001b[0m\u001b[1mLayer (type)                 \u001b[0m\u001b[1m \u001b[0m┃\u001b[1m \u001b[0m\u001b[1mOutput Shape             \u001b[0m\u001b[1m \u001b[0m┃\u001b[1m \u001b[0m\u001b[1m        Param #\u001b[0m\u001b[1m \u001b[0m┃\u001b[1m \u001b[0m\u001b[1mConnected to              \u001b[0m\u001b[1m \u001b[0m┃\n",
       "┡━━━━━━━━━━━━━━━━━━━━━━━━━━━━━━━╇━━━━━━━━━━━━━━━━━━━━━━━━━━━╇━━━━━━━━━━━━━━━━━╇━━━━━━━━━━━━━━━━━━━━━━━━━━━━┩\n",
       "│ input_layer_1 (\u001b[38;5;33mInputLayer\u001b[0m)    │ (\u001b[38;5;45mNone\u001b[0m, \u001b[38;5;34m50\u001b[0m)                │               \u001b[38;5;34m0\u001b[0m │ -                          │\n",
       "├───────────────────────────────┼───────────────────────────┼─────────────────┼────────────────────────────┤\n",
       "│ embedding_1 (\u001b[38;5;33mEmbedding\u001b[0m)       │ (\u001b[38;5;45mNone\u001b[0m, \u001b[38;5;34m50\u001b[0m, \u001b[38;5;34m128\u001b[0m)           │       \u001b[38;5;34m1,280,000\u001b[0m │ input_layer_1[\u001b[38;5;34m0\u001b[0m][\u001b[38;5;34m0\u001b[0m]        │\n",
       "├───────────────────────────────┼───────────────────────────┼─────────────────┼────────────────────────────┤\n",
       "│ not_equal_1 (\u001b[38;5;33mNotEqual\u001b[0m)        │ (\u001b[38;5;45mNone\u001b[0m, \u001b[38;5;34m50\u001b[0m)                │               \u001b[38;5;34m0\u001b[0m │ input_layer_1[\u001b[38;5;34m0\u001b[0m][\u001b[38;5;34m0\u001b[0m]        │\n",
       "├───────────────────────────────┼───────────────────────────┼─────────────────┼────────────────────────────┤\n",
       "│ bidirectional (\u001b[38;5;33mBidirectional\u001b[0m) │ (\u001b[38;5;45mNone\u001b[0m, \u001b[38;5;34m128\u001b[0m)               │          \u001b[38;5;34m98,816\u001b[0m │ embedding_1[\u001b[38;5;34m0\u001b[0m][\u001b[38;5;34m0\u001b[0m],         │\n",
       "│                               │                           │                 │ not_equal_1[\u001b[38;5;34m0\u001b[0m][\u001b[38;5;34m0\u001b[0m]          │\n",
       "├───────────────────────────────┼───────────────────────────┼─────────────────┼────────────────────────────┤\n",
       "│ dropout (\u001b[38;5;33mDropout\u001b[0m)             │ (\u001b[38;5;45mNone\u001b[0m, \u001b[38;5;34m128\u001b[0m)               │               \u001b[38;5;34m0\u001b[0m │ bidirectional[\u001b[38;5;34m0\u001b[0m][\u001b[38;5;34m0\u001b[0m]        │\n",
       "├───────────────────────────────┼───────────────────────────┼─────────────────┼────────────────────────────┤\n",
       "│ dense_1 (\u001b[38;5;33mDense\u001b[0m)               │ (\u001b[38;5;45mNone\u001b[0m, \u001b[38;5;34m1\u001b[0m)                 │             \u001b[38;5;34m129\u001b[0m │ dropout[\u001b[38;5;34m0\u001b[0m][\u001b[38;5;34m0\u001b[0m]              │\n",
       "└───────────────────────────────┴───────────────────────────┴─────────────────┴────────────────────────────┘\n"
      ]
     },
     "metadata": {},
     "output_type": "display_data"
    },
    {
     "data": {
      "text/html": [
       "<pre style=\"white-space:pre;overflow-x:auto;line-height:normal;font-family:Menlo,'DejaVu Sans Mono',consolas,'Courier New',monospace\"><span style=\"font-weight: bold\"> Total params: </span><span style=\"color: #00af00; text-decoration-color: #00af00\">1,378,945</span> (5.26 MB)\n",
       "</pre>\n"
      ],
      "text/plain": [
       "\u001b[1m Total params: \u001b[0m\u001b[38;5;34m1,378,945\u001b[0m (5.26 MB)\n"
      ]
     },
     "metadata": {},
     "output_type": "display_data"
    },
    {
     "data": {
      "text/html": [
       "<pre style=\"white-space:pre;overflow-x:auto;line-height:normal;font-family:Menlo,'DejaVu Sans Mono',consolas,'Courier New',monospace\"><span style=\"font-weight: bold\"> Trainable params: </span><span style=\"color: #00af00; text-decoration-color: #00af00\">1,378,945</span> (5.26 MB)\n",
       "</pre>\n"
      ],
      "text/plain": [
       "\u001b[1m Trainable params: \u001b[0m\u001b[38;5;34m1,378,945\u001b[0m (5.26 MB)\n"
      ]
     },
     "metadata": {},
     "output_type": "display_data"
    },
    {
     "data": {
      "text/html": [
       "<pre style=\"white-space:pre;overflow-x:auto;line-height:normal;font-family:Menlo,'DejaVu Sans Mono',consolas,'Courier New',monospace\"><span style=\"font-weight: bold\"> Non-trainable params: </span><span style=\"color: #00af00; text-decoration-color: #00af00\">0</span> (0.00 B)\n",
       "</pre>\n"
      ],
      "text/plain": [
       "\u001b[1m Non-trainable params: \u001b[0m\u001b[38;5;34m0\u001b[0m (0.00 B)\n"
      ]
     },
     "metadata": {},
     "output_type": "display_data"
    }
   ],
   "source": [
    "input = tf.keras.Input(shape=(seq_length,), dtype=\"int64\")\n",
    "emb = layers.Embedding(input_dim=vocab_size, output_dim=emb_size, mask_zero=True)(input)\n",
    "x = layers.Bidirectional(layers.LSTM(rnn_units))(emb)\n",
    "x = layers.Dropout(0.5)(x)\n",
    "output = layers.Dense(1, activation=\"sigmoid\")(x)\n",
    "model = tf.keras.Model(input, output)\n",
    "\n",
    "model.compile(optimizer=\"rmsprop\",\n",
    "              loss=\"binary_crossentropy\",\n",
    "              metrics=[\"accuracy\"])\n",
    "model.summary()"
   ]
  },
  {
   "cell_type": "code",
   "execution_count": 78,
   "id": "2556a0c3",
   "metadata": {},
   "outputs": [
    {
     "name": "stdout",
     "output_type": "stream",
     "text": [
      "Epoch 1/10\n",
      "\u001b[1m9/9\u001b[0m \u001b[32m━━━━━━━━━━━━━━━━━━━━\u001b[0m\u001b[37m\u001b[0m \u001b[1m7s\u001b[0m 210ms/step - accuracy: 0.7042 - loss: 0.6647 - val_accuracy: 0.8060 - val_loss: 0.5547\n",
      "Epoch 2/10\n",
      "\u001b[1m9/9\u001b[0m \u001b[32m━━━━━━━━━━━━━━━━━━━━\u001b[0m\u001b[37m\u001b[0m \u001b[1m1s\u001b[0m 102ms/step - accuracy: 0.8124 - loss: 0.5312 - val_accuracy: 0.8060 - val_loss: 0.5188\n",
      "Epoch 3/10\n",
      "\u001b[1m9/9\u001b[0m \u001b[32m━━━━━━━━━━━━━━━━━━━━\u001b[0m\u001b[37m\u001b[0m \u001b[1m1s\u001b[0m 127ms/step - accuracy: 0.8262 - loss: 0.4795 - val_accuracy: 0.8060 - val_loss: 0.5011\n",
      "Epoch 4/10\n",
      "\u001b[1m9/9\u001b[0m \u001b[32m━━━━━━━━━━━━━━━━━━━━\u001b[0m\u001b[37m\u001b[0m \u001b[1m1s\u001b[0m 118ms/step - accuracy: 0.8040 - loss: 0.4707 - val_accuracy: 0.8060 - val_loss: 0.4950\n",
      "Epoch 5/10\n",
      "\u001b[1m9/9\u001b[0m \u001b[32m━━━━━━━━━━━━━━━━━━━━\u001b[0m\u001b[37m\u001b[0m \u001b[1m1s\u001b[0m 116ms/step - accuracy: 0.8130 - loss: 0.4096 - val_accuracy: 0.8060 - val_loss: 0.5305\n",
      "Epoch 6/10\n",
      "\u001b[1m9/9\u001b[0m \u001b[32m━━━━━━━━━━━━━━━━━━━━\u001b[0m\u001b[37m\u001b[0m \u001b[1m1s\u001b[0m 115ms/step - accuracy: 0.8946 - loss: 0.2751 - val_accuracy: 0.8197 - val_loss: 0.6159\n",
      "Epoch 7/10\n",
      "\u001b[1m9/9\u001b[0m \u001b[32m━━━━━━━━━━━━━━━━━━━━\u001b[0m\u001b[37m\u001b[0m \u001b[1m1s\u001b[0m 126ms/step - accuracy: 0.9561 - loss: 0.1660 - val_accuracy: 0.8169 - val_loss: 0.6501\n",
      "Epoch 8/10\n",
      "\u001b[1m9/9\u001b[0m \u001b[32m━━━━━━━━━━━━━━━━━━━━\u001b[0m\u001b[37m\u001b[0m \u001b[1m1s\u001b[0m 120ms/step - accuracy: 0.9742 - loss: 0.1178 - val_accuracy: 0.8142 - val_loss: 0.7791\n",
      "Epoch 9/10\n",
      "\u001b[1m9/9\u001b[0m \u001b[32m━━━━━━━━━━━━━━━━━━━━\u001b[0m\u001b[37m\u001b[0m \u001b[1m1s\u001b[0m 131ms/step - accuracy: 0.9843 - loss: 0.0938 - val_accuracy: 0.8197 - val_loss: 0.8223\n",
      "Epoch 10/10\n",
      "\u001b[1m9/9\u001b[0m \u001b[32m━━━━━━━━━━━━━━━━━━━━\u001b[0m\u001b[37m\u001b[0m \u001b[1m1s\u001b[0m 115ms/step - accuracy: 0.9816 - loss: 0.0963 - val_accuracy: 0.7978 - val_loss: 0.7677\n"
     ]
    },
    {
     "data": {
      "text/plain": [
       "<keras.src.callbacks.history.History at 0x25636e65d50>"
      ]
     },
     "execution_count": 78,
     "metadata": {},
     "output_type": "execute_result"
    }
   ],
   "source": [
    "model.fit(\n",
    "    X_train,\n",
    "    y_train,\n",
    "    validation_data=(X_val, y_val),\n",
    "    epochs = 10,\n",
    "    batch_size = 128,\n",
    "    class_weight=dict(numerate = (class_weights))\n",
    ")"
   ]
  },
  {
   "cell_type": "code",
   "execution_count": 79,
   "id": "f628d5ba",
   "metadata": {
    "scrolled": true
   },
   "outputs": [
    {
     "name": "stdout",
     "output_type": "stream",
     "text": [
      "\u001b[1m1/1\u001b[0m \u001b[32m━━━━━━━━━━━━━━━━━━━━\u001b[0m\u001b[37m\u001b[0m \u001b[1m0s\u001b[0m 405ms/step\n"
     ]
    },
    {
     "data": {
      "text/plain": [
       "array([[0.95588964]], dtype=float32)"
      ]
     },
     "execution_count": 79,
     "metadata": {},
     "output_type": "execute_result"
    }
   ],
   "source": [
    "model.predict(vectorize_layer(train['cleaned_content'].iloc[[105]]))"
   ]
  },
  {
   "cell_type": "code",
   "execution_count": 80,
   "id": "0c07e3af",
   "metadata": {},
   "outputs": [
    {
     "name": "stdout",
     "output_type": "stream",
     "text": [
      "\u001b[1m16/16\u001b[0m \u001b[32m━━━━━━━━━━━━━━━━━━━━\u001b[0m\u001b[37m\u001b[0m \u001b[1m1s\u001b[0m 7ms/step\n"
     ]
    },
    {
     "data": {
      "text/plain": [
       "array([[0.79530036],\n",
       "       [0.03045814],\n",
       "       [0.99984145],\n",
       "       [0.63500595],\n",
       "       [0.80878866],\n",
       "       [0.99536675],\n",
       "       [0.985414  ],\n",
       "       [0.5053849 ],\n",
       "       [0.999949  ],\n",
       "       [0.30048743],\n",
       "       [0.9998555 ],\n",
       "       [0.99986076],\n",
       "       [0.41130054],\n",
       "       [0.99991643],\n",
       "       [0.999967  ],\n",
       "       [0.7055516 ],\n",
       "       [0.9998771 ],\n",
       "       [0.99983764],\n",
       "       [0.4750825 ],\n",
       "       [0.9999687 ],\n",
       "       [0.872756  ],\n",
       "       [0.9920952 ],\n",
       "       [0.94740564],\n",
       "       [0.9703625 ],\n",
       "       [0.999923  ],\n",
       "       [0.6437392 ],\n",
       "       [0.99930596],\n",
       "       [0.9076742 ],\n",
       "       [0.01495086],\n",
       "       [0.9572413 ],\n",
       "       [0.9999605 ],\n",
       "       [0.97824055],\n",
       "       [0.8020448 ],\n",
       "       [0.9999643 ],\n",
       "       [0.9998545 ],\n",
       "       [0.35881907],\n",
       "       [0.66650367],\n",
       "       [0.9999606 ],\n",
       "       [0.99993175],\n",
       "       [0.95535785],\n",
       "       [0.9909096 ],\n",
       "       [0.9901331 ],\n",
       "       [0.9995119 ],\n",
       "       [0.9921235 ],\n",
       "       [0.99985594],\n",
       "       [0.99992186],\n",
       "       [0.9330197 ],\n",
       "       [0.99967533],\n",
       "       [0.9246905 ],\n",
       "       [0.99925685],\n",
       "       [0.92492586],\n",
       "       [0.999841  ],\n",
       "       [0.67251813],\n",
       "       [0.9989699 ],\n",
       "       [0.9857976 ],\n",
       "       [0.9987027 ],\n",
       "       [0.70324826],\n",
       "       [0.92060447],\n",
       "       [0.9970237 ],\n",
       "       [0.99996185],\n",
       "       [0.33639795],\n",
       "       [0.99991626],\n",
       "       [0.99991626],\n",
       "       [0.9999563 ],\n",
       "       [0.999943  ],\n",
       "       [0.99994457],\n",
       "       [0.99992454],\n",
       "       [0.999978  ],\n",
       "       [0.6985565 ],\n",
       "       [0.9992509 ],\n",
       "       [0.90192497],\n",
       "       [0.9999141 ],\n",
       "       [0.9999066 ],\n",
       "       [0.999978  ],\n",
       "       [0.9999724 ],\n",
       "       [0.9885577 ],\n",
       "       [0.9697161 ],\n",
       "       [0.9998639 ],\n",
       "       [0.99922186],\n",
       "       [0.6941836 ],\n",
       "       [0.985414  ],\n",
       "       [0.9952322 ],\n",
       "       [0.48435372],\n",
       "       [0.9962944 ],\n",
       "       [0.99431604],\n",
       "       [0.9987844 ],\n",
       "       [0.9997134 ],\n",
       "       [0.6133737 ],\n",
       "       [0.9988072 ],\n",
       "       [0.999794  ],\n",
       "       [0.9827516 ],\n",
       "       [0.99983895],\n",
       "       [0.9973934 ],\n",
       "       [0.9888548 ],\n",
       "       [0.99994576],\n",
       "       [0.6873554 ],\n",
       "       [0.9999464 ],\n",
       "       [0.02875906],\n",
       "       [0.9986895 ],\n",
       "       [0.9999619 ],\n",
       "       [0.9999455 ],\n",
       "       [0.998459  ],\n",
       "       [0.6031867 ],\n",
       "       [0.99989665],\n",
       "       [0.7113006 ],\n",
       "       [0.99995804],\n",
       "       [0.9998303 ],\n",
       "       [0.9872061 ],\n",
       "       [0.53859985],\n",
       "       [0.9978206 ],\n",
       "       [0.7757982 ],\n",
       "       [0.9761843 ],\n",
       "       [0.4385585 ],\n",
       "       [0.7217361 ],\n",
       "       [0.99764264],\n",
       "       [0.99979645],\n",
       "       [0.99893135],\n",
       "       [0.52992916],\n",
       "       [0.93389714],\n",
       "       [0.9934012 ],\n",
       "       [0.8675145 ],\n",
       "       [0.16683117],\n",
       "       [0.996049  ],\n",
       "       [0.9995318 ],\n",
       "       [0.99926627],\n",
       "       [0.0129069 ],\n",
       "       [0.5533096 ],\n",
       "       [0.99971235],\n",
       "       [0.7061189 ],\n",
       "       [0.8784665 ],\n",
       "       [0.99109685],\n",
       "       [0.99731547],\n",
       "       [0.9921635 ],\n",
       "       [0.9998803 ],\n",
       "       [0.9453102 ],\n",
       "       [0.0049707 ],\n",
       "       [0.69464284],\n",
       "       [0.99440646],\n",
       "       [0.94585484],\n",
       "       [0.97563946],\n",
       "       [0.9999764 ],\n",
       "       [0.99991316],\n",
       "       [0.9982156 ],\n",
       "       [0.93335474],\n",
       "       [0.9998462 ],\n",
       "       [0.9848827 ],\n",
       "       [0.9995829 ],\n",
       "       [0.99996364],\n",
       "       [0.9985309 ],\n",
       "       [0.99763656],\n",
       "       [0.95072323],\n",
       "       [0.9764806 ],\n",
       "       [0.98665   ],\n",
       "       [0.9182628 ],\n",
       "       [0.9989844 ],\n",
       "       [0.9999471 ],\n",
       "       [0.74849665],\n",
       "       [0.9991503 ],\n",
       "       [0.9991503 ],\n",
       "       [0.06472627],\n",
       "       [0.9998865 ],\n",
       "       [0.61762965],\n",
       "       [0.7479956 ],\n",
       "       [0.9960914 ],\n",
       "       [0.9892722 ],\n",
       "       [0.99992377],\n",
       "       [0.9977178 ],\n",
       "       [0.999798  ],\n",
       "       [0.99996614],\n",
       "       [0.29407737],\n",
       "       [0.29138535],\n",
       "       [0.8889663 ],\n",
       "       [0.9978512 ],\n",
       "       [0.91477215],\n",
       "       [0.9994376 ],\n",
       "       [0.9736581 ],\n",
       "       [0.94282657],\n",
       "       [0.9998091 ],\n",
       "       [0.9998862 ],\n",
       "       [0.9999747 ],\n",
       "       [0.35719988],\n",
       "       [0.05279057],\n",
       "       [0.86244714],\n",
       "       [0.62249666],\n",
       "       [0.98635435],\n",
       "       [0.9996386 ],\n",
       "       [0.7270169 ],\n",
       "       [0.02443801],\n",
       "       [0.92831326],\n",
       "       [0.99382514],\n",
       "       [0.8091713 ],\n",
       "       [0.9894163 ],\n",
       "       [0.45138356],\n",
       "       [0.30198243],\n",
       "       [0.61936593],\n",
       "       [0.99896765],\n",
       "       [0.72698617],\n",
       "       [0.7521126 ],\n",
       "       [0.7824158 ],\n",
       "       [0.998791  ],\n",
       "       [0.98961884],\n",
       "       [0.9158316 ],\n",
       "       [0.99998194],\n",
       "       [0.999917  ],\n",
       "       [0.9529082 ],\n",
       "       [0.99997723],\n",
       "       [0.91922045],\n",
       "       [0.99991006],\n",
       "       [0.9998949 ],\n",
       "       [0.99972785],\n",
       "       [0.99997425],\n",
       "       [0.9999634 ],\n",
       "       [0.9810325 ],\n",
       "       [0.9208824 ],\n",
       "       [0.9999509 ],\n",
       "       [0.999898  ],\n",
       "       [0.99995756],\n",
       "       [0.98279744],\n",
       "       [0.9998036 ],\n",
       "       [0.980557  ],\n",
       "       [0.99991584],\n",
       "       [0.99995613],\n",
       "       [0.9680352 ],\n",
       "       [0.3855501 ],\n",
       "       [0.9127175 ],\n",
       "       [0.99996567],\n",
       "       [0.9998608 ],\n",
       "       [0.93496186],\n",
       "       [0.84970355],\n",
       "       [0.9999116 ],\n",
       "       [0.9993752 ],\n",
       "       [0.99996746],\n",
       "       [0.9998988 ],\n",
       "       [0.9930763 ],\n",
       "       [0.5918642 ],\n",
       "       [0.99966073],\n",
       "       [0.9986457 ],\n",
       "       [0.9999624 ],\n",
       "       [0.32605213],\n",
       "       [0.99996454],\n",
       "       [0.9261782 ],\n",
       "       [0.2325165 ],\n",
       "       [0.97203344],\n",
       "       [0.5850607 ],\n",
       "       [0.63139695],\n",
       "       [0.9846367 ],\n",
       "       [0.99962485],\n",
       "       [0.99997145],\n",
       "       [0.9997618 ],\n",
       "       [0.9998988 ],\n",
       "       [0.9998856 ],\n",
       "       [0.73173964],\n",
       "       [0.86244714],\n",
       "       [0.6555904 ],\n",
       "       [0.94768673],\n",
       "       [0.99994427],\n",
       "       [0.9909277 ],\n",
       "       [0.99990654],\n",
       "       [0.99975824],\n",
       "       [0.9995586 ],\n",
       "       [0.99987525],\n",
       "       [0.6257087 ],\n",
       "       [0.8794119 ],\n",
       "       [0.99996054],\n",
       "       [0.66935897],\n",
       "       [0.6526686 ],\n",
       "       [0.01505877],\n",
       "       [0.47839516],\n",
       "       [0.80921394],\n",
       "       [0.99994457],\n",
       "       [0.9764485 ],\n",
       "       [0.8864861 ],\n",
       "       [0.9442664 ],\n",
       "       [0.99976325],\n",
       "       [0.6507719 ],\n",
       "       [0.99992466],\n",
       "       [0.99984473],\n",
       "       [0.26743984],\n",
       "       [0.75599015],\n",
       "       [0.99988556],\n",
       "       [0.99941593],\n",
       "       [0.9997746 ],\n",
       "       [0.7487227 ],\n",
       "       [0.98554873],\n",
       "       [0.82504624],\n",
       "       [0.9894417 ],\n",
       "       [0.981537  ],\n",
       "       [0.9201592 ],\n",
       "       [0.9967322 ],\n",
       "       [0.3950183 ],\n",
       "       [0.5020148 ],\n",
       "       [0.69648093],\n",
       "       [0.9999494 ],\n",
       "       [0.99092656],\n",
       "       [0.8861594 ],\n",
       "       [0.8908384 ],\n",
       "       [0.99864936],\n",
       "       [0.9992052 ],\n",
       "       [0.9998538 ],\n",
       "       [0.82983655],\n",
       "       [0.9999604 ],\n",
       "       [0.9997342 ],\n",
       "       [0.99994975],\n",
       "       [0.7820114 ],\n",
       "       [0.99798506],\n",
       "       [0.9905661 ],\n",
       "       [0.86244714],\n",
       "       [0.90316755],\n",
       "       [0.99509454],\n",
       "       [0.9990168 ],\n",
       "       [0.99990493],\n",
       "       [0.9999553 ],\n",
       "       [0.910825  ],\n",
       "       [0.7577112 ],\n",
       "       [0.45094493],\n",
       "       [0.98508507],\n",
       "       [0.9987228 ],\n",
       "       [0.4710458 ],\n",
       "       [0.99994475],\n",
       "       [0.9998269 ],\n",
       "       [0.9839377 ],\n",
       "       [0.99797446],\n",
       "       [0.9999384 ],\n",
       "       [0.9999473 ],\n",
       "       [0.00447334],\n",
       "       [0.9852609 ],\n",
       "       [0.9977965 ],\n",
       "       [0.9998171 ],\n",
       "       [0.9999253 ],\n",
       "       [0.7831588 ],\n",
       "       [0.99935395],\n",
       "       [0.9994592 ],\n",
       "       [0.99338204],\n",
       "       [0.99995685],\n",
       "       [0.21394177],\n",
       "       [0.99981916],\n",
       "       [0.9896088 ],\n",
       "       [0.99950445],\n",
       "       [0.95690435],\n",
       "       [0.9998797 ],\n",
       "       [0.99981207],\n",
       "       [0.99986494],\n",
       "       [0.9662602 ],\n",
       "       [0.07202281],\n",
       "       [0.57693326],\n",
       "       [0.95886326],\n",
       "       [0.9984588 ],\n",
       "       [0.5841117 ],\n",
       "       [0.9986211 ],\n",
       "       [0.99986917],\n",
       "       [0.918189  ],\n",
       "       [0.9752655 ],\n",
       "       [0.77138025],\n",
       "       [0.45230734],\n",
       "       [0.71014845],\n",
       "       [0.9972408 ],\n",
       "       [0.7772573 ],\n",
       "       [0.7176546 ],\n",
       "       [0.99521136],\n",
       "       [0.6735294 ],\n",
       "       [0.9999361 ],\n",
       "       [0.9999686 ],\n",
       "       [0.6002217 ],\n",
       "       [0.9999563 ],\n",
       "       [0.9998533 ],\n",
       "       [0.6867826 ],\n",
       "       [0.5242095 ],\n",
       "       [0.7693101 ],\n",
       "       [0.999978  ],\n",
       "       [0.9999539 ],\n",
       "       [0.8846465 ],\n",
       "       [0.99918914],\n",
       "       [0.9239065 ],\n",
       "       [0.9856789 ],\n",
       "       [0.9992878 ],\n",
       "       [0.99982065],\n",
       "       [0.83326656],\n",
       "       [0.9999218 ],\n",
       "       [0.58015203],\n",
       "       [0.9980313 ],\n",
       "       [0.9993827 ],\n",
       "       [0.86029625],\n",
       "       [0.7893921 ],\n",
       "       [0.9114486 ],\n",
       "       [0.9999575 ],\n",
       "       [0.99933225],\n",
       "       [0.9758741 ],\n",
       "       [0.9654001 ],\n",
       "       [0.76782674],\n",
       "       [0.99061716],\n",
       "       [0.99997073],\n",
       "       [0.99964285],\n",
       "       [0.868997  ],\n",
       "       [0.4221853 ],\n",
       "       [0.66816545],\n",
       "       [0.99884725],\n",
       "       [0.9996114 ],\n",
       "       [0.9025185 ],\n",
       "       [0.989596  ],\n",
       "       [0.9192851 ],\n",
       "       [0.5291575 ],\n",
       "       [0.99987525],\n",
       "       [0.9993394 ],\n",
       "       [0.99881333],\n",
       "       [0.91688865],\n",
       "       [0.99950373],\n",
       "       [0.9722873 ],\n",
       "       [0.9996548 ],\n",
       "       [0.998428  ],\n",
       "       [0.04515854],\n",
       "       [0.803984  ],\n",
       "       [0.99992174],\n",
       "       [0.8052964 ],\n",
       "       [0.9722723 ],\n",
       "       [0.9999818 ],\n",
       "       [0.99552065],\n",
       "       [0.99812424],\n",
       "       [0.7147161 ],\n",
       "       [0.9959294 ],\n",
       "       [0.99996287],\n",
       "       [0.99991107],\n",
       "       [0.96125346],\n",
       "       [0.96106935],\n",
       "       [0.99983466],\n",
       "       [0.9999739 ],\n",
       "       [0.92420965],\n",
       "       [0.85990864],\n",
       "       [0.9979406 ],\n",
       "       [0.99996763],\n",
       "       [0.9999228 ],\n",
       "       [0.9997813 ],\n",
       "       [0.9998272 ],\n",
       "       [0.7671236 ],\n",
       "       [0.7119632 ],\n",
       "       [0.99972004],\n",
       "       [0.9996077 ],\n",
       "       [0.96153015],\n",
       "       [0.6434455 ],\n",
       "       [0.9999354 ],\n",
       "       [0.99215776],\n",
       "       [0.43400294],\n",
       "       [0.7115313 ],\n",
       "       [0.9272127 ],\n",
       "       [0.98294073],\n",
       "       [0.9894075 ],\n",
       "       [0.99989015],\n",
       "       [0.93865204],\n",
       "       [0.99872315],\n",
       "       [0.7680938 ],\n",
       "       [0.9974537 ],\n",
       "       [0.98844415],\n",
       "       [0.9293947 ],\n",
       "       [0.9814114 ],\n",
       "       [0.96413374],\n",
       "       [0.9999346 ],\n",
       "       [0.9220097 ],\n",
       "       [0.99121606],\n",
       "       [0.9932842 ],\n",
       "       [0.7740263 ],\n",
       "       [0.5096712 ],\n",
       "       [0.99696183],\n",
       "       [0.9395454 ],\n",
       "       [0.9986997 ],\n",
       "       [0.55698   ],\n",
       "       [0.99990934],\n",
       "       [0.9956997 ],\n",
       "       [0.9999197 ],\n",
       "       [0.27101734],\n",
       "       [0.60914457],\n",
       "       [0.95706713],\n",
       "       [0.990803  ],\n",
       "       [0.99988234],\n",
       "       [0.9987106 ],\n",
       "       [0.9932107 ],\n",
       "       [0.9985744 ],\n",
       "       [0.99995947],\n",
       "       [0.9999514 ],\n",
       "       [0.9051867 ],\n",
       "       [0.92587614],\n",
       "       [0.81690073],\n",
       "       [0.9288709 ],\n",
       "       [0.99991584],\n",
       "       [0.9290857 ],\n",
       "       [0.62731636],\n",
       "       [0.9282715 ],\n",
       "       [0.9967076 ],\n",
       "       [0.9998688 ],\n",
       "       [0.81017166],\n",
       "       [0.9956929 ],\n",
       "       [0.9998738 ],\n",
       "       [0.9977552 ],\n",
       "       [0.9999706 ]], dtype=float32)"
      ]
     },
     "execution_count": 80,
     "metadata": {},
     "output_type": "execute_result"
    }
   ],
   "source": [
    "model.predict(x_test)"
   ]
  },
  {
   "cell_type": "code",
   "execution_count": 81,
   "id": "9fd43555",
   "metadata": {
    "scrolled": true
   },
   "outputs": [
    {
     "name": "stdout",
     "output_type": "stream",
     "text": [
      "\u001b[1m16/16\u001b[0m \u001b[32m━━━━━━━━━━━━━━━━━━━━\u001b[0m\u001b[37m\u001b[0m \u001b[1m0s\u001b[0m 7ms/step\n"
     ]
    },
    {
     "data": {
      "text/plain": [
       "1    454\n",
       "0     38\n",
       "Name: Prediction, dtype: int64"
      ]
     },
     "execution_count": 81,
     "metadata": {},
     "output_type": "execute_result"
    }
   ],
   "source": [
    "y_pred_prob = model.predict(x_test)\n",
    "y_pred = (y_pred_prob > 0.5).astype(\"int32\")  \n",
    "y_pred_df = pd.DataFrame(y_pred, columns=['Prediction'])\n",
    "count = y_pred_df['Prediction'].value_counts()\n",
    "count"
   ]
  },
  {
   "cell_type": "markdown",
   "id": "d2c17c11",
   "metadata": {},
   "source": [
    "### Using the GRU layer instead of the LSTM, create the text classification model and compare if there is a significant gain"
   ]
  },
  {
   "cell_type": "code",
   "execution_count": 83,
   "id": "359c37d6",
   "metadata": {
    "scrolled": true
   },
   "outputs": [
    {
     "data": {
      "text/html": [
       "<pre style=\"white-space:pre;overflow-x:auto;line-height:normal;font-family:Menlo,'DejaVu Sans Mono',consolas,'Courier New',monospace\"><span style=\"font-weight: bold\">Model: \"functional_7\"</span>\n",
       "</pre>\n"
      ],
      "text/plain": [
       "\u001b[1mModel: \"functional_7\"\u001b[0m\n"
      ]
     },
     "metadata": {},
     "output_type": "display_data"
    },
    {
     "data": {
      "text/html": [
       "<pre style=\"white-space:pre;overflow-x:auto;line-height:normal;font-family:Menlo,'DejaVu Sans Mono',consolas,'Courier New',monospace\">┏━━━━━━━━━━━━━━━━━━━━━━━━━━━━━━━┳━━━━━━━━━━━━━━━━━━━━━━━━━━━┳━━━━━━━━━━━━━━━━━┳━━━━━━━━━━━━━━━━━━━━━━━━━━━━┓\n",
       "┃<span style=\"font-weight: bold\"> Layer (type)                  </span>┃<span style=\"font-weight: bold\"> Output Shape              </span>┃<span style=\"font-weight: bold\">         Param # </span>┃<span style=\"font-weight: bold\"> Connected to               </span>┃\n",
       "┡━━━━━━━━━━━━━━━━━━━━━━━━━━━━━━━╇━━━━━━━━━━━━━━━━━━━━━━━━━━━╇━━━━━━━━━━━━━━━━━╇━━━━━━━━━━━━━━━━━━━━━━━━━━━━┩\n",
       "│ input_layer_3 (<span style=\"color: #0087ff; text-decoration-color: #0087ff\">InputLayer</span>)    │ (<span style=\"color: #00d7ff; text-decoration-color: #00d7ff\">None</span>, <span style=\"color: #00af00; text-decoration-color: #00af00\">50</span>)                │               <span style=\"color: #00af00; text-decoration-color: #00af00\">0</span> │ -                          │\n",
       "├───────────────────────────────┼───────────────────────────┼─────────────────┼────────────────────────────┤\n",
       "│ embedding_3 (<span style=\"color: #0087ff; text-decoration-color: #0087ff\">Embedding</span>)       │ (<span style=\"color: #00d7ff; text-decoration-color: #00d7ff\">None</span>, <span style=\"color: #00af00; text-decoration-color: #00af00\">50</span>, <span style=\"color: #00af00; text-decoration-color: #00af00\">128</span>)           │       <span style=\"color: #00af00; text-decoration-color: #00af00\">1,280,000</span> │ input_layer_3[<span style=\"color: #00af00; text-decoration-color: #00af00\">0</span>][<span style=\"color: #00af00; text-decoration-color: #00af00\">0</span>]        │\n",
       "├───────────────────────────────┼───────────────────────────┼─────────────────┼────────────────────────────┤\n",
       "│ not_equal_3 (<span style=\"color: #0087ff; text-decoration-color: #0087ff\">NotEqual</span>)        │ (<span style=\"color: #00d7ff; text-decoration-color: #00d7ff\">None</span>, <span style=\"color: #00af00; text-decoration-color: #00af00\">50</span>)                │               <span style=\"color: #00af00; text-decoration-color: #00af00\">0</span> │ input_layer_3[<span style=\"color: #00af00; text-decoration-color: #00af00\">0</span>][<span style=\"color: #00af00; text-decoration-color: #00af00\">0</span>]        │\n",
       "├───────────────────────────────┼───────────────────────────┼─────────────────┼────────────────────────────┤\n",
       "│ bidirectional_2               │ (<span style=\"color: #00d7ff; text-decoration-color: #00d7ff\">None</span>, <span style=\"color: #00af00; text-decoration-color: #00af00\">128</span>)               │          <span style=\"color: #00af00; text-decoration-color: #00af00\">74,496</span> │ embedding_3[<span style=\"color: #00af00; text-decoration-color: #00af00\">0</span>][<span style=\"color: #00af00; text-decoration-color: #00af00\">0</span>],         │\n",
       "│ (<span style=\"color: #0087ff; text-decoration-color: #0087ff\">Bidirectional</span>)               │                           │                 │ not_equal_3[<span style=\"color: #00af00; text-decoration-color: #00af00\">0</span>][<span style=\"color: #00af00; text-decoration-color: #00af00\">0</span>]          │\n",
       "├───────────────────────────────┼───────────────────────────┼─────────────────┼────────────────────────────┤\n",
       "│ dropout_2 (<span style=\"color: #0087ff; text-decoration-color: #0087ff\">Dropout</span>)           │ (<span style=\"color: #00d7ff; text-decoration-color: #00d7ff\">None</span>, <span style=\"color: #00af00; text-decoration-color: #00af00\">128</span>)               │               <span style=\"color: #00af00; text-decoration-color: #00af00\">0</span> │ bidirectional_2[<span style=\"color: #00af00; text-decoration-color: #00af00\">0</span>][<span style=\"color: #00af00; text-decoration-color: #00af00\">0</span>]      │\n",
       "├───────────────────────────────┼───────────────────────────┼─────────────────┼────────────────────────────┤\n",
       "│ dense_3 (<span style=\"color: #0087ff; text-decoration-color: #0087ff\">Dense</span>)               │ (<span style=\"color: #00d7ff; text-decoration-color: #00d7ff\">None</span>, <span style=\"color: #00af00; text-decoration-color: #00af00\">1</span>)                 │             <span style=\"color: #00af00; text-decoration-color: #00af00\">129</span> │ dropout_2[<span style=\"color: #00af00; text-decoration-color: #00af00\">0</span>][<span style=\"color: #00af00; text-decoration-color: #00af00\">0</span>]            │\n",
       "└───────────────────────────────┴───────────────────────────┴─────────────────┴────────────────────────────┘\n",
       "</pre>\n"
      ],
      "text/plain": [
       "┏━━━━━━━━━━━━━━━━━━━━━━━━━━━━━━━┳━━━━━━━━━━━━━━━━━━━━━━━━━━━┳━━━━━━━━━━━━━━━━━┳━━━━━━━━━━━━━━━━━━━━━━━━━━━━┓\n",
       "┃\u001b[1m \u001b[0m\u001b[1mLayer (type)                 \u001b[0m\u001b[1m \u001b[0m┃\u001b[1m \u001b[0m\u001b[1mOutput Shape             \u001b[0m\u001b[1m \u001b[0m┃\u001b[1m \u001b[0m\u001b[1m        Param #\u001b[0m\u001b[1m \u001b[0m┃\u001b[1m \u001b[0m\u001b[1mConnected to              \u001b[0m\u001b[1m \u001b[0m┃\n",
       "┡━━━━━━━━━━━━━━━━━━━━━━━━━━━━━━━╇━━━━━━━━━━━━━━━━━━━━━━━━━━━╇━━━━━━━━━━━━━━━━━╇━━━━━━━━━━━━━━━━━━━━━━━━━━━━┩\n",
       "│ input_layer_3 (\u001b[38;5;33mInputLayer\u001b[0m)    │ (\u001b[38;5;45mNone\u001b[0m, \u001b[38;5;34m50\u001b[0m)                │               \u001b[38;5;34m0\u001b[0m │ -                          │\n",
       "├───────────────────────────────┼───────────────────────────┼─────────────────┼────────────────────────────┤\n",
       "│ embedding_3 (\u001b[38;5;33mEmbedding\u001b[0m)       │ (\u001b[38;5;45mNone\u001b[0m, \u001b[38;5;34m50\u001b[0m, \u001b[38;5;34m128\u001b[0m)           │       \u001b[38;5;34m1,280,000\u001b[0m │ input_layer_3[\u001b[38;5;34m0\u001b[0m][\u001b[38;5;34m0\u001b[0m]        │\n",
       "├───────────────────────────────┼───────────────────────────┼─────────────────┼────────────────────────────┤\n",
       "│ not_equal_3 (\u001b[38;5;33mNotEqual\u001b[0m)        │ (\u001b[38;5;45mNone\u001b[0m, \u001b[38;5;34m50\u001b[0m)                │               \u001b[38;5;34m0\u001b[0m │ input_layer_3[\u001b[38;5;34m0\u001b[0m][\u001b[38;5;34m0\u001b[0m]        │\n",
       "├───────────────────────────────┼───────────────────────────┼─────────────────┼────────────────────────────┤\n",
       "│ bidirectional_2               │ (\u001b[38;5;45mNone\u001b[0m, \u001b[38;5;34m128\u001b[0m)               │          \u001b[38;5;34m74,496\u001b[0m │ embedding_3[\u001b[38;5;34m0\u001b[0m][\u001b[38;5;34m0\u001b[0m],         │\n",
       "│ (\u001b[38;5;33mBidirectional\u001b[0m)               │                           │                 │ not_equal_3[\u001b[38;5;34m0\u001b[0m][\u001b[38;5;34m0\u001b[0m]          │\n",
       "├───────────────────────────────┼───────────────────────────┼─────────────────┼────────────────────────────┤\n",
       "│ dropout_2 (\u001b[38;5;33mDropout\u001b[0m)           │ (\u001b[38;5;45mNone\u001b[0m, \u001b[38;5;34m128\u001b[0m)               │               \u001b[38;5;34m0\u001b[0m │ bidirectional_2[\u001b[38;5;34m0\u001b[0m][\u001b[38;5;34m0\u001b[0m]      │\n",
       "├───────────────────────────────┼───────────────────────────┼─────────────────┼────────────────────────────┤\n",
       "│ dense_3 (\u001b[38;5;33mDense\u001b[0m)               │ (\u001b[38;5;45mNone\u001b[0m, \u001b[38;5;34m1\u001b[0m)                 │             \u001b[38;5;34m129\u001b[0m │ dropout_2[\u001b[38;5;34m0\u001b[0m][\u001b[38;5;34m0\u001b[0m]            │\n",
       "└───────────────────────────────┴───────────────────────────┴─────────────────┴────────────────────────────┘\n"
      ]
     },
     "metadata": {},
     "output_type": "display_data"
    },
    {
     "data": {
      "text/html": [
       "<pre style=\"white-space:pre;overflow-x:auto;line-height:normal;font-family:Menlo,'DejaVu Sans Mono',consolas,'Courier New',monospace\"><span style=\"font-weight: bold\"> Total params: </span><span style=\"color: #00af00; text-decoration-color: #00af00\">1,354,625</span> (5.17 MB)\n",
       "</pre>\n"
      ],
      "text/plain": [
       "\u001b[1m Total params: \u001b[0m\u001b[38;5;34m1,354,625\u001b[0m (5.17 MB)\n"
      ]
     },
     "metadata": {},
     "output_type": "display_data"
    },
    {
     "data": {
      "text/html": [
       "<pre style=\"white-space:pre;overflow-x:auto;line-height:normal;font-family:Menlo,'DejaVu Sans Mono',consolas,'Courier New',monospace\"><span style=\"font-weight: bold\"> Trainable params: </span><span style=\"color: #00af00; text-decoration-color: #00af00\">1,354,625</span> (5.17 MB)\n",
       "</pre>\n"
      ],
      "text/plain": [
       "\u001b[1m Trainable params: \u001b[0m\u001b[38;5;34m1,354,625\u001b[0m (5.17 MB)\n"
      ]
     },
     "metadata": {},
     "output_type": "display_data"
    },
    {
     "data": {
      "text/html": [
       "<pre style=\"white-space:pre;overflow-x:auto;line-height:normal;font-family:Menlo,'DejaVu Sans Mono',consolas,'Courier New',monospace\"><span style=\"font-weight: bold\"> Non-trainable params: </span><span style=\"color: #00af00; text-decoration-color: #00af00\">0</span> (0.00 B)\n",
       "</pre>\n"
      ],
      "text/plain": [
       "\u001b[1m Non-trainable params: \u001b[0m\u001b[38;5;34m0\u001b[0m (0.00 B)\n"
      ]
     },
     "metadata": {},
     "output_type": "display_data"
    }
   ],
   "source": [
    "input = tf.keras.Input(shape=(seq_length,), dtype=\"int64\")\n",
    "emb = layers.Embedding(input_dim=vocab_size, output_dim=emb_size, mask_zero=True)(input)\n",
    "x = layers.Bidirectional(layers.GRU(rnn_units))(emb)\n",
    "x = layers.Dropout(0.5)(x)\n",
    "output = layers.Dense(1, activation=\"sigmoid\")(x)\n",
    "model = tf.keras.Model(input, output)\n",
    "\n",
    "model.compile(optimizer=\"rmsprop\",\n",
    "              loss=\"binary_crossentropy\",\n",
    "              metrics=[\"accuracy\"])\n",
    "model.summary()"
   ]
  },
  {
   "cell_type": "code",
   "execution_count": 84,
   "id": "5202ec4a",
   "metadata": {
    "scrolled": true
   },
   "outputs": [
    {
     "name": "stdout",
     "output_type": "stream",
     "text": [
      "Epoch 1/10\n",
      "\u001b[1m9/9\u001b[0m \u001b[32m━━━━━━━━━━━━━━━━━━━━\u001b[0m\u001b[37m\u001b[0m \u001b[1m6s\u001b[0m 141ms/step - accuracy: 0.6185 - loss: 0.6853 - val_accuracy: 0.6421 - val_loss: 0.6873\n",
      "Epoch 2/10\n",
      "\u001b[1m9/9\u001b[0m \u001b[32m━━━━━━━━━━━━━━━━━━━━\u001b[0m\u001b[37m\u001b[0m \u001b[1m1s\u001b[0m 75ms/step - accuracy: 0.6657 - loss: 0.6843 - val_accuracy: 0.6913 - val_loss: 0.6783\n",
      "Epoch 3/10\n",
      "\u001b[1m9/9\u001b[0m \u001b[32m━━━━━━━━━━━━━━━━━━━━\u001b[0m\u001b[37m\u001b[0m \u001b[1m1s\u001b[0m 106ms/step - accuracy: 0.8020 - loss: 0.6683 - val_accuracy: 0.6612 - val_loss: 0.6709\n",
      "Epoch 4/10\n",
      "\u001b[1m9/9\u001b[0m \u001b[32m━━━━━━━━━━━━━━━━━━━━\u001b[0m\u001b[37m\u001b[0m \u001b[1m1s\u001b[0m 115ms/step - accuracy: 0.8136 - loss: 0.6434 - val_accuracy: 0.6831 - val_loss: 0.6467\n",
      "Epoch 5/10\n",
      "\u001b[1m9/9\u001b[0m \u001b[32m━━━━━━━━━━━━━━━━━━━━\u001b[0m\u001b[37m\u001b[0m \u001b[1m1s\u001b[0m 117ms/step - accuracy: 0.8383 - loss: 0.6051 - val_accuracy: 0.7186 - val_loss: 0.6020\n",
      "Epoch 6/10\n",
      "\u001b[1m9/9\u001b[0m \u001b[32m━━━━━━━━━━━━━━━━━━━━\u001b[0m\u001b[37m\u001b[0m \u001b[1m1s\u001b[0m 112ms/step - accuracy: 0.8759 - loss: 0.5081 - val_accuracy: 0.7678 - val_loss: 0.5004\n",
      "Epoch 7/10\n",
      "\u001b[1m9/9\u001b[0m \u001b[32m━━━━━━━━━━━━━━━━━━━━\u001b[0m\u001b[37m\u001b[0m \u001b[1m1s\u001b[0m 116ms/step - accuracy: 0.8924 - loss: 0.3570 - val_accuracy: 0.7541 - val_loss: 0.4857\n",
      "Epoch 8/10\n",
      "\u001b[1m9/9\u001b[0m \u001b[32m━━━━━━━━━━━━━━━━━━━━\u001b[0m\u001b[37m\u001b[0m \u001b[1m1s\u001b[0m 111ms/step - accuracy: 0.9310 - loss: 0.2038 - val_accuracy: 0.7869 - val_loss: 0.4360\n",
      "Epoch 9/10\n",
      "\u001b[1m9/9\u001b[0m \u001b[32m━━━━━━━━━━━━━━━━━━━━\u001b[0m\u001b[37m\u001b[0m \u001b[1m1s\u001b[0m 125ms/step - accuracy: 0.9609 - loss: 0.1434 - val_accuracy: 0.8033 - val_loss: 0.5096\n",
      "Epoch 10/10\n",
      "\u001b[1m9/9\u001b[0m \u001b[32m━━━━━━━━━━━━━━━━━━━━\u001b[0m\u001b[37m\u001b[0m \u001b[1m1s\u001b[0m 126ms/step - accuracy: 0.9780 - loss: 0.0811 - val_accuracy: 0.7951 - val_loss: 0.6166\n"
     ]
    },
    {
     "data": {
      "text/plain": [
       "<keras.src.callbacks.history.History at 0x25640f14f10>"
      ]
     },
     "execution_count": 84,
     "metadata": {},
     "output_type": "execute_result"
    }
   ],
   "source": [
    "model.fit(\n",
    "    X_train,\n",
    "    y_train,\n",
    "    validation_data=(X_val, y_val),\n",
    "    epochs = 10,\n",
    "    batch_size = 128,\n",
    "    class_weight = dict(enumerate(class_weights))\n",
    "                   )"
   ]
  },
  {
   "cell_type": "code",
   "execution_count": 86,
   "id": "99811d8a",
   "metadata": {
    "scrolled": false
   },
   "outputs": [
    {
     "name": "stdout",
     "output_type": "stream",
     "text": [
      "\u001b[1m16/16\u001b[0m \u001b[32m━━━━━━━━━━━━━━━━━━━━\u001b[0m\u001b[37m\u001b[0m \u001b[1m1s\u001b[0m 8ms/step\n"
     ]
    },
    {
     "data": {
      "text/plain": [
       "1    398\n",
       "0     94\n",
       "Name: Prediction, dtype: int64"
      ]
     },
     "execution_count": 86,
     "metadata": {},
     "output_type": "execute_result"
    }
   ],
   "source": [
    "y_pred_prob = model.predict(x_test)\n",
    "y_pred = (y_pred_prob > 0.5).astype(\"int32\")  \n",
    "y_pred_df = pd.DataFrame(y_pred, columns=['Prediction'])\n",
    "count = y_pred_df['Prediction'].value_counts()\n",
    "count"
   ]
  },
  {
   "cell_type": "code",
   "execution_count": 87,
   "id": "579f0cd3",
   "metadata": {},
   "outputs": [
    {
     "data": {
      "image/png": "[encoded data removed]",
      "text/plain": [
       "<Figure size 640x480 with 1 Axes>"
      ]
     },
     "metadata": {},
     "output_type": "display_data"
    },
    {
     "data": {
      "text/html": [
       "<div>\n",
       "<style scoped>\n",
       "    .dataframe tbody tr th:only-of-type {\n",
       "        vertical-align: middle;\n",
       "    }\n",
       "\n",
       "    .dataframe tbody tr th {\n",
       "        vertical-align: top;\n",
       "    }\n",
       "\n",
       "    .dataframe thead th {\n",
       "        text-align: right;\n",
       "    }\n",
       "</style>\n",
       "<table border=\"1\" class=\"dataframe\">\n",
       "  <thead>\n",
       "    <tr style=\"text-align: right;\">\n",
       "      <th></th>\n",
       "      <th>Dictonary_based</th>\n",
       "      <th>Bidirectional-RNN(GRU)</th>\n",
       "    </tr>\n",
       "  </thead>\n",
       "  <tbody>\n",
       "    <tr>\n",
       "      <th>Acc</th>\n",
       "      <td>0.546748</td>\n",
       "      <td>0.833333</td>\n",
       "    </tr>\n",
       "    <tr>\n",
       "      <th>AUC</th>\n",
       "      <td>0.607442</td>\n",
       "      <td>0.811132</td>\n",
       "    </tr>\n",
       "    <tr>\n",
       "      <th>Recall</th>\n",
       "      <td>0.540404</td>\n",
       "      <td>0.898990</td>\n",
       "    </tr>\n",
       "    <tr>\n",
       "      <th>F1_score</th>\n",
       "      <td>0.657450</td>\n",
       "      <td>0.896725</td>\n",
       "    </tr>\n",
       "  </tbody>\n",
       "</table>\n",
       "</div>"
      ],
      "text/plain": [
       "          Dictonary_based  Bidirectional-RNN(GRU)\n",
       "Acc              0.546748                0.833333\n",
       "AUC              0.607442                0.811132\n",
       "Recall           0.540404                0.898990\n",
       "F1_score         0.657450                0.896725"
      ]
     },
     "execution_count": 87,
     "metadata": {},
     "output_type": "execute_result"
    }
   ],
   "source": [
    "auc, acc, recall, f1, _ = assess_sentiment_classifier(y_test, y_pred_prob, cut_off=0.5)\n",
    "test_scores['Bidirectional-RNN(GRU)'] = [acc, auc, recall, f1]\n",
    "test_scores"
   ]
  },
  {
   "cell_type": "markdown",
   "id": "154485fc",
   "metadata": {},
   "source": [
    "---\n",
    "### 5.3 Fine-tuned DistilBERT model"
   ]
  },
  {
   "cell_type": "markdown",
   "id": "90205f05",
   "metadata": {},
   "source": [
    "open the pkl file "
   ]
  },
  {
   "cell_type": "code",
   "execution_count": 88,
   "id": "f0784ef0",
   "metadata": {},
   "outputs": [],
   "source": [
    "with open('test_cleaned_content.pkl','rb') as file:\n",
    "    test['cleaned_content'] = pickle.load(file)"
   ]
  },
  {
   "cell_type": "code",
   "execution_count": 89,
   "id": "e5b699dc",
   "metadata": {
    "scrolled": true
   },
   "outputs": [
    {
     "name": "stdout",
     "output_type": "stream",
     "text": [
      "<class 'pandas.core.frame.DataFrame'>\n",
      "Int64Index: 1463 entries, 1641579121972236290 to 1641861677149822976\n",
      "Data columns (total 4 columns):\n",
      " #   Column           Non-Null Count  Dtype  \n",
      "---  ------           --------------  -----  \n",
      " 0   content          1463 non-null   object \n",
      " 1   sentiment        1463 non-null   int64  \n",
      " 2   cleaned_content  1463 non-null   object \n",
      " 3   sentiment_score  1463 non-null   float64\n",
      "dtypes: float64(1), int64(1), object(2)\n",
      "memory usage: 57.1+ KB\n"
     ]
    }
   ],
   "source": [
    "train.info()"
   ]
  },
  {
   "cell_type": "markdown",
   "id": "c7293157",
   "metadata": {},
   "source": [
    "Take a look at the same example again"
   ]
  },
  {
   "cell_type": "code",
   "execution_count": 90,
   "id": "f6b1adbb",
   "metadata": {
    "scrolled": true
   },
   "outputs": [
    {
     "data": {
      "text/plain": [
       "'🕰️ Patience is key when it comes to adoption. It’s unfair to believe that adoption can happen immediately. Look how long it took for the to be adopted in Europe; it was forced on people. ‘Bitcoin is a much better story’ .⏳ '"
      ]
     },
     "execution_count": 90,
     "metadata": {},
     "output_type": "execute_result"
    }
   ],
   "source": [
    "test.iloc[13,2]"
   ]
  },
  {
   "cell_type": "code",
   "execution_count": 91,
   "id": "527f348d",
   "metadata": {
    "scrolled": false
   },
   "outputs": [],
   "source": [
    "x_train = train['cleaned_content']\n",
    "y_train = train['sentiment']\n",
    "x_test = test['cleaned_content']\n",
    "y_test = test['sentiment']\n"
   ]
  },
  {
   "cell_type": "code",
   "execution_count": 92,
   "id": "05c22f22",
   "metadata": {},
   "outputs": [
    {
     "name": "stderr",
     "output_type": "stream",
     "text": [
      "E:\\anaconda\\Lib\\site-packages\\transformers\\tokenization_utils_base.py:1601: FutureWarning: `clean_up_tokenization_spaces` was not set. It will be set to `True` by default. This behavior will be depracted in transformers v4.45, and will be then set to `False` by default. For more details check this issue: https://github.com/huggingface/transformers/issues/31884\n",
      "  warnings.warn(\n"
     ]
    }
   ],
   "source": [
    "classifier = pipeline('sentiment-analysis',\n",
    "                      model='distilbert-base-uncased-finetuned-sst-2-english',\n",
    "                      tokenizer='distilbert-base-uncased',\n",
    "                      batch_size=128)"
   ]
  },
  {
   "cell_type": "code",
   "execution_count": 93,
   "id": "496804fd",
   "metadata": {},
   "outputs": [],
   "source": [
    "def pipeline_classify(data):\n",
    "    ''' Function to run the sentiment analysis pipeline on each row of a dataset\n",
    "    and extract the scores. '''\n",
    "\n",
    "    predictions = []\n",
    "\n",
    "    for row in data:\n",
    "          classification = classifier(row,truncation = True)[0]\n",
    "         \n",
    "          if classification['label'] == 'POSITIVE':\n",
    "              predictions.append(classification['score'])\n",
    "          else:\n",
    "              predictions.append(1-classification['score'])\n",
    "              \n",
    "    return predictions"
   ]
  },
  {
   "cell_type": "code",
   "execution_count": 94,
   "id": "55147413",
   "metadata": {},
   "outputs": [],
   "source": [
    "predictions = pipeline_classify(x_test)"
   ]
  },
  {
   "cell_type": "code",
   "execution_count": 95,
   "id": "17d95215",
   "metadata": {},
   "outputs": [
    {
     "name": "stdout",
     "output_type": "stream",
     "text": [
      "[{'label': 'NEGATIVE', 'score': 0.996677041053772}]\n",
      "🕰️ Patience is key when it comes to adoption. It’s unfair to believe that adoption can happen immediately. Look how long it took for the to be adopted in Europe; it was forced on people. ‘Bitcoin is a much better story’ .⏳ \n"
     ]
    }
   ],
   "source": [
    "print(classifier(test['cleaned_content'].iloc[13]))\n",
    "print(test['cleaned_content'].iloc[13])"
   ]
  },
  {
   "cell_type": "code",
   "execution_count": 96,
   "id": "d02a3d55",
   "metadata": {
    "scrolled": true
   },
   "outputs": [
    {
     "data": {
      "text/plain": [
       "[0.00713503360748291,\n",
       " 0.01638972759246826,\n",
       " 0.4195851683616638,\n",
       " 0.1432529091835022,\n",
       " 0.9864757657051086,\n",
       " 0.006978929042816162,\n",
       " 0.01033329963684082,\n",
       " 0.020403385162353516,\n",
       " 0.006278336048126221,\n",
       " 0.7122544646263123,\n",
       " 0.005004167556762695,\n",
       " 0.9950345754623413,\n",
       " 0.0029802918434143066,\n",
       " 0.0033229589462280273,\n",
       " 0.05920577049255371,\n",
       " 0.001165926456451416,\n",
       " 0.48027706146240234,\n",
       " 0.9971518516540527,\n",
       " 0.02181297540664673,\n",
       " 0.9976398944854736,\n",
       " 0.9988106489181519,\n",
       " 0.021445930004119873,\n",
       " 0.006086289882659912,\n",
       " 0.017328262329101562,\n",
       " 0.14693236351013184,\n",
       " 0.034387826919555664,\n",
       " 0.0026648640632629395,\n",
       " 0.9991746544837952,\n",
       " 0.0038000941276550293,\n",
       " 0.16049069166183472,\n",
       " 0.9919666051864624,\n",
       " 0.001102447509765625,\n",
       " 0.06301474571228027,\n",
       " 0.004880666732788086,\n",
       " 0.9488604664802551,\n",
       " 0.010795533657073975,\n",
       " 0.046220481395721436,\n",
       " 0.6858282685279846,\n",
       " 0.9996397495269775,\n",
       " 0.970508337020874,\n",
       " 0.2861059904098511,\n",
       " 0.9995386600494385,\n",
       " 0.0016779303550720215,\n",
       " 0.03639894723892212,\n",
       " 0.9983785152435303,\n",
       " 0.005879342555999756,\n",
       " 0.009701907634735107,\n",
       " 0.9973280429840088,\n",
       " 0.007838666439056396,\n",
       " 0.9969496130943298,\n",
       " 0.011248648166656494,\n",
       " 0.9469419121742249,\n",
       " 0.03917437791824341,\n",
       " 0.9343375563621521,\n",
       " 0.158708393573761,\n",
       " 0.7398003339767456,\n",
       " 0.030686676502227783,\n",
       " 0.01611536741256714,\n",
       " 0.005588948726654053,\n",
       " 0.9995999932289124,\n",
       " 0.0009558796882629395,\n",
       " 0.0026647448539733887,\n",
       " 0.0026647448539733887,\n",
       " 0.9947851300239563,\n",
       " 0.9996058344841003,\n",
       " 0.9992730021476746,\n",
       " 0.004578649997711182,\n",
       " 0.2669823169708252,\n",
       " 0.00024825334548950195,\n",
       " 0.002914130687713623,\n",
       " 0.0017306804656982422,\n",
       " 0.0021415352821350098,\n",
       " 0.12066572904586792,\n",
       " 0.2669823169708252,\n",
       " 0.1306380033493042,\n",
       " 0.9972981810569763,\n",
       " 0.9906653165817261,\n",
       " 0.006168723106384277,\n",
       " 0.9644041061401367,\n",
       " 0.0008965134620666504,\n",
       " 0.01142585277557373,\n",
       " 0.9986133575439453,\n",
       " 0.004064440727233887,\n",
       " 0.0670313835144043,\n",
       " 0.03792542219161987,\n",
       " 0.9882949590682983,\n",
       " 0.9974708557128906,\n",
       " 0.9948390126228333,\n",
       " 0.002234339714050293,\n",
       " 0.04163259267807007,\n",
       " 0.01883852481842041,\n",
       " 0.63336181640625,\n",
       " 0.006919205188751221,\n",
       " 0.00893104076385498,\n",
       " 0.9994851350784302,\n",
       " 0.9990710020065308,\n",
       " 0.9989577531814575,\n",
       " 0.012569427490234375,\n",
       " 0.055044591426849365,\n",
       " 0.002928018569946289,\n",
       " 0.7093679308891296,\n",
       " 0.9741776585578918,\n",
       " 0.0007041692733764648,\n",
       " 0.9993624091148376,\n",
       " 0.016687095165252686,\n",
       " 0.9991614818572998,\n",
       " 0.9991219639778137,\n",
       " 0.19966262578964233,\n",
       " 0.003518342971801758,\n",
       " 0.0005817413330078125,\n",
       " 0.9954066276550293,\n",
       " 0.9119388461112976,\n",
       " 0.007250666618347168,\n",
       " 0.0033222436904907227,\n",
       " 0.27333909273147583,\n",
       " 0.9903849363327026,\n",
       " 0.021013855934143066,\n",
       " 0.9830343723297119,\n",
       " 0.012567400932312012,\n",
       " 0.2591710090637207,\n",
       " 0.998805046081543,\n",
       " 0.009418785572052002,\n",
       " 0.9996079802513123,\n",
       " 0.2530796527862549,\n",
       " 0.9980273842811584,\n",
       " 0.0009273290634155273,\n",
       " 0.003428936004638672,\n",
       " 0.9971248507499695,\n",
       " 0.8953785300254822,\n",
       " 0.002665996551513672,\n",
       " 0.9922769069671631,\n",
       " 0.003908097743988037,\n",
       " 0.034242093563079834,\n",
       " 0.018758714199066162,\n",
       " 0.9984574317932129,\n",
       " 0.013329803943634033,\n",
       " 0.9996891021728516,\n",
       " 0.999769389629364,\n",
       " 0.0008405447006225586,\n",
       " 0.009766578674316406,\n",
       " 0.002813875675201416,\n",
       " 0.002920866012573242,\n",
       " 0.0712464451789856,\n",
       " 0.022703588008880615,\n",
       " 0.04231542348861694,\n",
       " 0.09320062398910522,\n",
       " 0.9998718500137329,\n",
       " 0.015870332717895508,\n",
       " 0.02201288938522339,\n",
       " 0.056765198707580566,\n",
       " 0.006669819355010986,\n",
       " 0.9638353586196899,\n",
       " 0.0057790279388427734,\n",
       " 0.056974053382873535,\n",
       " 0.999669075012207,\n",
       " 0.9963381290435791,\n",
       " 0.002776503562927246,\n",
       " 0.0016965866088867188,\n",
       " 0.0016965866088867188,\n",
       " 0.0008272528648376465,\n",
       " 0.08192503452301025,\n",
       " 0.7264398336410522,\n",
       " 0.009611427783966064,\n",
       " 0.00040215253829956055,\n",
       " 0.006053626537322998,\n",
       " 0.9996248483657837,\n",
       " 0.0012767910957336426,\n",
       " 0.9835967421531677,\n",
       " 0.020065903663635254,\n",
       " 0.01603752374649048,\n",
       " 0.09885096549987793,\n",
       " 0.008547782897949219,\n",
       " 0.021200060844421387,\n",
       " 0.9998087286949158,\n",
       " 0.990425169467926,\n",
       " 0.9909147024154663,\n",
       " 0.0014114975929260254,\n",
       " 0.0028401613235473633,\n",
       " 0.0005475878715515137,\n",
       " 0.002423226833343506,\n",
       " 0.001269519329071045,\n",
       " 0.9535793662071228,\n",
       " 0.999702513217926,\n",
       " 0.003032505512237549,\n",
       " 0.0023047327995300293,\n",
       " 0.9908183217048645,\n",
       " 0.9980823993682861,\n",
       " 0.0008113980293273926,\n",
       " 0.999884843826294,\n",
       " 0.001788020133972168,\n",
       " 0.891577959060669,\n",
       " 0.9995743632316589,\n",
       " 0.003588378429412842,\n",
       " 0.006304919719696045,\n",
       " 0.0011742711067199707,\n",
       " 0.9998192191123962,\n",
       " 0.07523143291473389,\n",
       " 0.9998409748077393,\n",
       " 0.989816427230835,\n",
       " 0.020043015480041504,\n",
       " 0.007955312728881836,\n",
       " 0.013273954391479492,\n",
       " 0.002400815486907959,\n",
       " 0.006695091724395752,\n",
       " 0.9975233674049377,\n",
       " 0.003893554210662842,\n",
       " 0.02191370725631714,\n",
       " 0.9924253225326538,\n",
       " 0.9964706897735596,\n",
       " 0.9993696808815002,\n",
       " 0.010825395584106445,\n",
       " 0.8963280916213989,\n",
       " 0.001448214054107666,\n",
       " 0.034829556941986084,\n",
       " 0.00913989543914795,\n",
       " 0.04378241300582886,\n",
       " 0.9793033599853516,\n",
       " 0.9097182750701904,\n",
       " 0.9613417983055115,\n",
       " 0.001398622989654541,\n",
       " 0.999690055847168,\n",
       " 0.9832630157470703,\n",
       " 0.005566537380218506,\n",
       " 0.001445472240447998,\n",
       " 0.9943678975105286,\n",
       " 0.14086085557937622,\n",
       " 0.9986993074417114,\n",
       " 0.8333169221878052,\n",
       " 0.001873791217803955,\n",
       " 0.0036734938621520996,\n",
       " 0.8304324150085449,\n",
       " 0.9798658490180969,\n",
       " 0.6195085048675537,\n",
       " 0.010567665100097656,\n",
       " 0.9383534789085388,\n",
       " 0.997634768486023,\n",
       " 0.003974795341491699,\n",
       " 0.011574625968933105,\n",
       " 0.11330199241638184,\n",
       " 0.995943009853363,\n",
       " 0.960629403591156,\n",
       " 0.9824578166007996,\n",
       " 0.9978920817375183,\n",
       " 0.088428795337677,\n",
       " 0.017900943756103516,\n",
       " 0.9309766292572021,\n",
       " 0.999301552772522,\n",
       " 0.9068799614906311,\n",
       " 0.0007063150405883789,\n",
       " 0.017117440700531006,\n",
       " 0.9994494318962097,\n",
       " 0.8934490084648132,\n",
       " 0.999702513217926,\n",
       " 0.996801495552063,\n",
       " 0.9993402361869812,\n",
       " 0.9962161183357239,\n",
       " 0.023243308067321777,\n",
       " 0.006672859191894531,\n",
       " 0.01353675127029419,\n",
       " 0.003274202346801758,\n",
       " 0.8142998814582825,\n",
       " 0.001343846321105957,\n",
       " 0.0026946067810058594,\n",
       " 0.9982666969299316,\n",
       " 0.004737377166748047,\n",
       " 0.0004233717918395996,\n",
       " 0.02023017406463623,\n",
       " 0.9917255640029907,\n",
       " 0.9539126753807068,\n",
       " 0.10812866687774658,\n",
       " 0.06646120548248291,\n",
       " 0.9937595725059509,\n",
       " 0.9946213960647583,\n",
       " 0.9968018531799316,\n",
       " 0.004822254180908203,\n",
       " 0.9986967444419861,\n",
       " 0.0192338228225708,\n",
       " 0.0012575984001159668,\n",
       " 0.9997172951698303,\n",
       " 0.9969936609268188,\n",
       " 0.6022312641143799,\n",
       " 0.9998551607131958,\n",
       " 0.9997355341911316,\n",
       " 0.0015882253646850586,\n",
       " 0.012998580932617188,\n",
       " 0.9478471279144287,\n",
       " 0.0011850595474243164,\n",
       " 0.0020485520362854004,\n",
       " 0.022888123989105225,\n",
       " 0.0035050511360168457,\n",
       " 0.9986668825149536,\n",
       " 0.004135012626647949,\n",
       " 0.982992947101593,\n",
       " 0.4572290778160095,\n",
       " 0.004678785800933838,\n",
       " 0.9996535778045654,\n",
       " 0.9960961937904358,\n",
       " 0.02875286340713501,\n",
       " 0.9967292547225952,\n",
       " 0.6704568266868591,\n",
       " 0.06874644756317139,\n",
       " 0.998745322227478,\n",
       " 0.008998334407806396,\n",
       " 0.011984646320343018,\n",
       " 0.9970752000808716,\n",
       " 0.9989137649536133,\n",
       " 0.999702513217926,\n",
       " 0.009029865264892578,\n",
       " 0.7833881378173828,\n",
       " 0.009076535701751709,\n",
       " 0.03348243236541748,\n",
       " 0.0016629695892333984,\n",
       " 0.026701152324676514,\n",
       " 0.003825664520263672,\n",
       " 0.0007895231246948242,\n",
       " 0.9991711378097534,\n",
       " 0.04696601629257202,\n",
       " 0.8462555408477783,\n",
       " 0.047000110149383545,\n",
       " 0.9981426000595093,\n",
       " 0.9524955153465271,\n",
       " 0.999829888343811,\n",
       " 0.025947749614715576,\n",
       " 0.9994062185287476,\n",
       " 0.0095672607421875,\n",
       " 0.9974761605262756,\n",
       " 0.10781937837600708,\n",
       " 0.8104724884033203,\n",
       " 0.996850311756134,\n",
       " 0.9992595314979553,\n",
       " 0.004256784915924072,\n",
       " 0.9990872144699097,\n",
       " 0.0051018595695495605,\n",
       " 0.009159982204437256,\n",
       " 0.00027614831924438477,\n",
       " 0.006250262260437012,\n",
       " 0.16608089208602905,\n",
       " 0.03070998191833496,\n",
       " 0.9874663949012756,\n",
       " 0.0050280094146728516,\n",
       " 0.015613138675689697,\n",
       " 0.0977734923362732,\n",
       " 0.9891876578330994,\n",
       " 0.002795398235321045,\n",
       " 0.998600423336029,\n",
       " 0.5563755631446838,\n",
       " 0.8187910318374634,\n",
       " 0.9997342228889465,\n",
       " 0.9975826740264893,\n",
       " 0.004030704498291016,\n",
       " 0.004169762134552002,\n",
       " 0.013431549072265625,\n",
       " 0.9797715544700623,\n",
       " 0.9974665641784668,\n",
       " 0.002475440502166748,\n",
       " 0.986824095249176,\n",
       " 0.034457623958587646,\n",
       " 0.9983906745910645,\n",
       " 0.7962573766708374,\n",
       " 0.9990422129631042,\n",
       " 0.005732595920562744,\n",
       " 0.028836548328399658,\n",
       " 0.00971221923828125,\n",
       " 0.6622799038887024,\n",
       " 0.9960036873817444,\n",
       " 0.011915743350982666,\n",
       " 0.9939792156219482,\n",
       " 0.9997748732566833,\n",
       " 0.9973356127738953,\n",
       " 0.35680675506591797,\n",
       " 0.0025478005409240723,\n",
       " 0.0026364922523498535,\n",
       " 0.9992936849594116,\n",
       " 0.006667912006378174,\n",
       " 0.754676103591919,\n",
       " 0.9992274045944214,\n",
       " 0.004190921783447266,\n",
       " 0.992833137512207,\n",
       " 0.008424460887908936,\n",
       " 0.10010284185409546,\n",
       " 0.0009375214576721191,\n",
       " 0.9019610285758972,\n",
       " 0.9924112558364868,\n",
       " 0.9994376301765442,\n",
       " 0.9978806972503662,\n",
       " 0.9987345337867737,\n",
       " 0.0029367804527282715,\n",
       " 0.9414958953857422,\n",
       " 0.00572282075881958,\n",
       " 0.005416691303253174,\n",
       " 0.010414063930511475,\n",
       " 0.99764484167099,\n",
       " 0.02025604248046875,\n",
       " 0.016449570655822754,\n",
       " 0.00032067298889160156,\n",
       " 0.0076141357421875,\n",
       " 0.9987474679946899,\n",
       " 0.9991419315338135,\n",
       " 0.7472795844078064,\n",
       " 0.010040283203125,\n",
       " 0.005883574485778809,\n",
       " 0.8210456967353821,\n",
       " 0.6774843335151672,\n",
       " 0.09115147590637207,\n",
       " 0.9997513890266418,\n",
       " 0.2248956561088562,\n",
       " 0.004398941993713379,\n",
       " 0.9826132655143738,\n",
       " 0.01832401752471924,\n",
       " 0.0055275559425354,\n",
       " 0.9982220530509949,\n",
       " 0.00807034969329834,\n",
       " 0.02595895528793335,\n",
       " 0.08794474601745605,\n",
       " 0.0011808276176452637,\n",
       " 0.0005268454551696777,\n",
       " 0.9958395957946777,\n",
       " 0.008758783340454102,\n",
       " 0.18150067329406738,\n",
       " 0.9941956400871277,\n",
       " 0.011868596076965332,\n",
       " 0.029497861862182617,\n",
       " 0.007900714874267578,\n",
       " 0.009546875953674316,\n",
       " 0.003127872943878174,\n",
       " 0.00831371545791626,\n",
       " 0.0005198121070861816,\n",
       " 0.0034508705139160156,\n",
       " 0.48904258012771606,\n",
       " 0.004337131977081299,\n",
       " 0.6751692891120911,\n",
       " 0.998792290687561,\n",
       " 0.8975988626480103,\n",
       " 0.9988183379173279,\n",
       " 0.9716095924377441,\n",
       " 0.9930086135864258,\n",
       " 0.22219878435134888,\n",
       " 0.0016320347785949707,\n",
       " 0.9256696105003357,\n",
       " 0.007886290550231934,\n",
       " 0.02242511510848999,\n",
       " 0.999797523021698,\n",
       " 0.0009856224060058594,\n",
       " 0.9988314509391785,\n",
       " 0.9957131147384644,\n",
       " 0.001410067081451416,\n",
       " 0.054743289947509766,\n",
       " 0.9792951345443726,\n",
       " 0.037342965602874756,\n",
       " 0.9650922417640686,\n",
       " 0.006211221218109131,\n",
       " 0.6715472340583801,\n",
       " 0.030026733875274658,\n",
       " 0.969108521938324,\n",
       " 0.9974833130836487,\n",
       " 0.0044127702713012695,\n",
       " 0.09362924098968506,\n",
       " 0.9998499155044556,\n",
       " 0.9998410940170288,\n",
       " 0.01407855749130249,\n",
       " 0.015983104705810547,\n",
       " 0.9994342923164368,\n",
       " 0.0021823644638061523,\n",
       " 0.999799907207489,\n",
       " 0.9998481273651123,\n",
       " 0.17211800813674927,\n",
       " 0.9590028524398804,\n",
       " 0.0015603899955749512,\n",
       " 0.9909274578094482,\n",
       " 0.00414729118347168,\n",
       " 0.9357046484947205,\n",
       " 0.0077918171882629395,\n",
       " 0.8630954623222351,\n",
       " 0.004210293292999268,\n",
       " 0.9933952689170837,\n",
       " 0.9994445443153381,\n",
       " 0.013364017009735107,\n",
       " 0.005665421485900879,\n",
       " 0.9866371154785156,\n",
       " 0.9971164464950562,\n",
       " 0.9923558235168457,\n",
       " 0.999690055847168,\n",
       " 0.040888071060180664,\n",
       " 0.99922776222229,\n",
       " 0.0037778615951538086,\n",
       " 0.9809913635253906,\n",
       " 0.9961875081062317,\n",
       " 0.16832154989242554,\n",
       " 0.9996073842048645,\n",
       " 0.9911284446716309,\n",
       " 0.0017277002334594727,\n",
       " 0.9998284578323364]"
      ]
     },
     "execution_count": 96,
     "metadata": {},
     "output_type": "execute_result"
    }
   ],
   "source": [
    "predictions"
   ]
  },
  {
   "cell_type": "code",
   "execution_count": 97,
   "id": "47299221",
   "metadata": {},
   "outputs": [],
   "source": [
    "def assess_sentiment_classifier(ytest, yhat, cutoff=0.5, plot_roc=True):\n",
    "    ''' Function to assess a classification model in terms of the AUC\n",
    "    and classification accuracy. '''\n",
    "\n",
    "    # Calculate discrete class predictions\n",
    "    yhat_discrete = np.where(pd.DataFrame(yhat)>cutoff, 1, 0)\n",
    "    # Calculate classification accuracy and AUC\n",
    "    acc = accuracy_score(ytest, yhat_discrete)\n",
    "    auc = roc_auc_score(ytest, yhat)\n",
    "    \n",
    "    recall = recall_score(ytest, yhat_discrete)\n",
    "    f1 = f1_score(ytest, yhat_discrete)\n",
    "    \n",
    "    # Confusion matrix \n",
    "    cmat = confusion_matrix(ytest, yhat_discrete)\n",
    "    # ROC analysis\n",
    "    if plot_roc==True:\n",
    "        fpr, tpr, _ = roc_curve(ytest, yhat)\n",
    "        plt.plot(fpr,tpr, label=\"AUC={:.4}\".format(auc));\n",
    "        plt.plot([0, 1], [0, 1], \"r--\")\n",
    "        plt.ylabel('True positive rate')    \n",
    "        plt.xlabel('False positive rate')    \n",
    "        plt.legend(loc='lower right')\n",
    "        plt.show();\n",
    "    \n",
    "    print(\"NN test set performance:\\tAUC={:.4f}\\tAccuracy={:.4f}\\tRecall={:.4f}\\tF1_score={:.4f}\".format(auc, acc,recall,f1))\n",
    "    print('Confusion matrix:')\n",
    "    print(cmat)\n",
    "    \n",
    "    return (auc,acc,recall,f1)"
   ]
  },
  {
   "cell_type": "code",
   "execution_count": 98,
   "id": "1e714be8",
   "metadata": {},
   "outputs": [
    {
     "data": {
      "image/png": "[encoded data removed]",
      "text/plain": [
       "<Figure size 640x480 with 1 Axes>"
      ]
     },
     "metadata": {},
     "output_type": "display_data"
    },
    {
     "name": "stdout",
     "output_type": "stream",
     "text": [
      "NN test set performance:\tAUC=0.8087\tAccuracy=0.5813\tRecall=0.5101\tF1_score=0.6623\n",
      "Confusion matrix:\n",
      "[[ 84  12]\n",
      " [194 202]]\n"
     ]
    },
    {
     "data": {
      "text/plain": [
       "(0.8087121212121212, 0.5813008130081301, 0.51010101010101, 0.662295081967213)"
      ]
     },
     "execution_count": 98,
     "metadata": {},
     "output_type": "execute_result"
    }
   ],
   "source": [
    "assess_sentiment_classifier(y_test, predictions)"
   ]
  },
  {
   "cell_type": "code",
   "execution_count": 99,
   "id": "2d89f665",
   "metadata": {},
   "outputs": [
    {
     "name": "stdout",
     "output_type": "stream",
     "text": [
      "NN test set performance:\tAUC=0.8087\tAccuracy=0.5813\tRecall=0.5101\tF1_score=0.6623\n",
      "Confusion matrix:\n",
      "[[ 84  12]\n",
      " [194 202]]\n"
     ]
    }
   ],
   "source": [
    "test_scores['DistilBERT'] = assess_sentiment_classifier(y_test, predictions, cutoff=0.5, plot_roc=False)\n"
   ]
  },
  {
   "cell_type": "code",
   "execution_count": 100,
   "id": "cc00b320",
   "metadata": {
    "scrolled": true
   },
   "outputs": [
    {
     "data": {
      "text/html": [
       "<div>\n",
       "<style scoped>\n",
       "    .dataframe tbody tr th:only-of-type {\n",
       "        vertical-align: middle;\n",
       "    }\n",
       "\n",
       "    .dataframe tbody tr th {\n",
       "        vertical-align: top;\n",
       "    }\n",
       "\n",
       "    .dataframe thead th {\n",
       "        text-align: right;\n",
       "    }\n",
       "</style>\n",
       "<table border=\"1\" class=\"dataframe\">\n",
       "  <thead>\n",
       "    <tr style=\"text-align: right;\">\n",
       "      <th></th>\n",
       "      <th>Dictonary_based</th>\n",
       "      <th>Bidirectional-RNN(GRU)</th>\n",
       "      <th>DistilBERT</th>\n",
       "    </tr>\n",
       "  </thead>\n",
       "  <tbody>\n",
       "    <tr>\n",
       "      <th>Acc</th>\n",
       "      <td>0.546748</td>\n",
       "      <td>0.833333</td>\n",
       "      <td>0.808712</td>\n",
       "    </tr>\n",
       "    <tr>\n",
       "      <th>AUC</th>\n",
       "      <td>0.607442</td>\n",
       "      <td>0.811132</td>\n",
       "      <td>0.581301</td>\n",
       "    </tr>\n",
       "    <tr>\n",
       "      <th>Recall</th>\n",
       "      <td>0.540404</td>\n",
       "      <td>0.898990</td>\n",
       "      <td>0.510101</td>\n",
       "    </tr>\n",
       "    <tr>\n",
       "      <th>F1_score</th>\n",
       "      <td>0.657450</td>\n",
       "      <td>0.896725</td>\n",
       "      <td>0.662295</td>\n",
       "    </tr>\n",
       "  </tbody>\n",
       "</table>\n",
       "</div>"
      ],
      "text/plain": [
       "          Dictonary_based  Bidirectional-RNN(GRU)  DistilBERT\n",
       "Acc              0.546748                0.833333    0.808712\n",
       "AUC              0.607442                0.811132    0.581301\n",
       "Recall           0.540404                0.898990    0.510101\n",
       "F1_score         0.657450                0.896725    0.662295"
      ]
     },
     "execution_count": 100,
     "metadata": {},
     "output_type": "execute_result"
    }
   ],
   "source": [
    "test_scores"
   ]
  },
  {
   "cell_type": "markdown",
   "id": "46657079",
   "metadata": {},
   "source": [
    "---\n",
    "### 5.4 Finetuning a pretrained huggingface model"
   ]
  },
  {
   "cell_type": "markdown",
   "id": "e826cf48",
   "metadata": {},
   "source": [
    "distilbert-base-uncased-finetuned-sst-2-english is a model that has already been fine-tuned on the SST-2 dataset and is specifically designed for sentiment analysis. Therefore, it is better suited for sentiment classification tasks.(As we already did before)\n",
    "\n",
    "distilbert-base-uncased is a general-purpose, non-fine-tuned DistilBERT model that has not been optimized for specific tasks such as sentiment classification. We will perform fine-tuning on this model.\n",
    "\n"
   ]
  },
  {
   "cell_type": "markdown",
   "id": "8186ecd9",
   "metadata": {},
   "source": [
    "---\n",
    "Load and preprocess the dataset\n",
    "\n",
    "Note: 'train' and 'test' are pre-loaded DataFrames containing 'cleaned_content' and 'sentiment' columns"
   ]
  },
  {
   "cell_type": "code",
   "execution_count": 101,
   "id": "12b50507",
   "metadata": {},
   "outputs": [],
   "source": [
    "with open('train_cleaned_content.pkl','rb') as file:\n",
    "    train['cleaned_content'] = pickle.load(file)\n",
    "    \n",
    "with open('test_cleaned_content.pkl','rb') as file:\n",
    "    test['cleaned_content'] = pickle.load(file)"
   ]
  },
  {
   "cell_type": "code",
   "execution_count": 102,
   "id": "d73ed995",
   "metadata": {},
   "outputs": [
    {
     "name": "stdout",
     "output_type": "stream",
     "text": [
      "<class 'pandas.core.frame.DataFrame'>\n",
      "Int64Index: 1463 entries, 1641579121972236290 to 1641861677149822976\n",
      "Data columns (total 4 columns):\n",
      " #   Column           Non-Null Count  Dtype  \n",
      "---  ------           --------------  -----  \n",
      " 0   content          1463 non-null   object \n",
      " 1   sentiment        1463 non-null   int64  \n",
      " 2   cleaned_content  1463 non-null   object \n",
      " 3   sentiment_score  1463 non-null   float64\n",
      "dtypes: float64(1), int64(1), object(2)\n",
      "memory usage: 57.1+ KB\n"
     ]
    }
   ],
   "source": [
    "train.info()"
   ]
  },
  {
   "cell_type": "code",
   "execution_count": 103,
   "id": "2f228b69",
   "metadata": {
    "scrolled": true
   },
   "outputs": [
    {
     "name": "stdout",
     "output_type": "stream",
     "text": [
      "<class 'pandas.core.frame.DataFrame'>\n",
      "Int64Index: 492 entries, 1641861708246552576 to 1641953216999968769\n",
      "Data columns (total 4 columns):\n",
      " #   Column           Non-Null Count  Dtype  \n",
      "---  ------           --------------  -----  \n",
      " 0   content          492 non-null    object \n",
      " 1   sentiment        492 non-null    int64  \n",
      " 2   cleaned_content  492 non-null    object \n",
      " 3   sentiment_score  492 non-null    float64\n",
      "dtypes: float64(1), int64(1), object(2)\n",
      "memory usage: 35.4+ KB\n"
     ]
    }
   ],
   "source": [
    "test.info()"
   ]
  },
  {
   "cell_type": "markdown",
   "id": "1a221c60",
   "metadata": {},
   "source": [
    "Extract text and labels from train and test sets"
   ]
  },
  {
   "cell_type": "code",
   "execution_count": 104,
   "id": "2522f03e",
   "metadata": {},
   "outputs": [],
   "source": [
    "x_train = train['cleaned_content']\n",
    "y_train = train['sentiment']\n",
    "x_test = test['cleaned_content']\n",
    "y_test = test['sentiment']\n"
   ]
  },
  {
   "cell_type": "code",
   "execution_count": 105,
   "id": "f08e404a",
   "metadata": {},
   "outputs": [],
   "source": [
    "from datasets import Dataset\n",
    "from transformers import DistilBertTokenizer, DistilBertForSequenceClassification, Trainer, TrainingArguments"
   ]
  },
  {
   "cell_type": "markdown",
   "id": "912c6698",
   "metadata": {},
   "source": [
    "Initialize the tokenizer for DistilBERT"
   ]
  },
  {
   "cell_type": "code",
   "execution_count": 106,
   "id": "b54cad78",
   "metadata": {
    "scrolled": true
   },
   "outputs": [
    {
     "name": "stderr",
     "output_type": "stream",
     "text": [
      "E:\\anaconda\\Lib\\site-packages\\transformers\\tokenization_utils_base.py:1601: FutureWarning: `clean_up_tokenization_spaces` was not set. It will be set to `True` by default. This behavior will be depracted in transformers v4.45, and will be then set to `False` by default. For more details check this issue: https://github.com/huggingface/transformers/issues/31884\n",
      "  warnings.warn(\n"
     ]
    }
   ],
   "source": [
    "tokenizer = DistilBertTokenizer.from_pretrained('distilbert-base-uncased')\n"
   ]
  },
  {
   "cell_type": "markdown",
   "id": "917d9da5",
   "metadata": {},
   "source": [
    "Tokenization function: Applies tokenization and padding/truncation to the dataset"
   ]
  },
  {
   "cell_type": "code",
   "execution_count": 107,
   "id": "449eaf71",
   "metadata": {},
   "outputs": [],
   "source": [
    "def tokenize_function(examples):\n",
    "    return tokenizer(examples['text'], truncation=True, padding=True, max_length=50)"
   ]
  },
  {
   "cell_type": "markdown",
   "id": "b508e7ff",
   "metadata": {},
   "source": [
    "Create datasets for training and testing using the Hugging Face datasets library"
   ]
  },
  {
   "cell_type": "code",
   "execution_count": 108,
   "id": "a2981428",
   "metadata": {},
   "outputs": [],
   "source": [
    "train_dataset = Dataset.from_dict({\"text\": x_train, \"label\": y_train})\n",
    "test_dataset = Dataset.from_dict({\"text\": x_test, \"label\": y_test})"
   ]
  },
  {
   "cell_type": "markdown",
   "id": "789824da",
   "metadata": {},
   "source": [
    "Apply the tokenization function to the datasets"
   ]
  },
  {
   "cell_type": "code",
   "execution_count": 109,
   "id": "e19e3602",
   "metadata": {
    "scrolled": true
   },
   "outputs": [
    {
     "data": {
      "application/vnd.jupyter.widget-view+json": {
       "model_id": "cc504ff54220453ba5e1c8bc87528b6c",
       "version_major": 2,
       "version_minor": 0
      },
      "text/plain": [
       "Map:   0%|          | 0/1463 [00:00<?, ? examples/s]"
      ]
     },
     "metadata": {},
     "output_type": "display_data"
    },
    {
     "data": {
      "application/vnd.jupyter.widget-view+json": {
       "model_id": "1007754b3f40401eb4f1293e19b68383",
       "version_major": 2,
       "version_minor": 0
      },
      "text/plain": [
       "Map:   0%|          | 0/492 [00:00<?, ? examples/s]"
      ]
     },
     "metadata": {},
     "output_type": "display_data"
    }
   ],
   "source": [
    "train_dataset = train_dataset.map(tokenize_function, batched=True)\n",
    "test_dataset = test_dataset.map(tokenize_function, batched=True)"
   ]
  },
  {
   "cell_type": "markdown",
   "id": "c03ef13c",
   "metadata": {},
   "source": [
    "Convert datasets to PyTorch tensors format"
   ]
  },
  {
   "cell_type": "code",
   "execution_count": 110,
   "id": "9a2d08f6",
   "metadata": {},
   "outputs": [],
   "source": [
    "train_dataset.set_format(type='torch', columns=['input_ids', 'attention_mask', 'label'])\n",
    "test_dataset.set_format(type='torch', columns=['input_ids', 'attention_mask', 'label'])"
   ]
  },
  {
   "cell_type": "markdown",
   "id": "fecd29a1",
   "metadata": {},
   "source": [
    "Load the pre-trained DistilBERT model with a classification head"
   ]
  },
  {
   "cell_type": "code",
   "execution_count": 111,
   "id": "dd447a0f",
   "metadata": {
    "scrolled": true
   },
   "outputs": [
    {
     "name": "stderr",
     "output_type": "stream",
     "text": [
      "Some weights of DistilBertForSequenceClassification were not initialized from the model checkpoint at distilbert-base-uncased and are newly initialized: ['classifier.bias', 'classifier.weight', 'pre_classifier.bias', 'pre_classifier.weight']\n",
      "You should probably TRAIN this model on a down-stream task to be able to use it for predictions and inference.\n"
     ]
    }
   ],
   "source": [
    "model = DistilBertForSequenceClassification.from_pretrained('distilbert-base-uncased', num_labels=2)\n"
   ]
  },
  {
   "cell_type": "markdown",
   "id": "1d68cba8",
   "metadata": {},
   "source": [
    "Define the training arguments for the Trainer API"
   ]
  },
  {
   "cell_type": "code",
   "execution_count": 112,
   "id": "7e00b571",
   "metadata": {
    "scrolled": false
   },
   "outputs": [
    {
     "name": "stderr",
     "output_type": "stream",
     "text": [
      "E:\\anaconda\\Lib\\site-packages\\transformers\\training_args.py:1525: FutureWarning: `evaluation_strategy` is deprecated and will be removed in version 4.46 of 🤗 Transformers. Use `eval_strategy` instead\n",
      "  warnings.warn(\n"
     ]
    }
   ],
   "source": [
    "training_args = TrainingArguments(\n",
    "    output_dir='./results',                  # Output directory for model checkpoints\n",
    "    evaluation_strategy=\"epoch\",             # Evaluate the model at the end of each epoch\n",
    "    learning_rate=5e-5,                       # Learning rate for the optimizer\n",
    "    per_device_train_batch_size=16,          # Batch size for training\n",
    "    per_device_eval_batch_size=64,           # Batch size for evaluation\n",
    "    num_train_epochs=1,                      # Number of training epochs\n",
    "    weight_decay=0.01,                       # Weight decay for regularization\n",
    "    logging_dir='./logs',                     # Directory for storing logs\n",
    "    logging_steps=10,                        # Log every 10 steps\n",
    ")"
   ]
  },
  {
   "cell_type": "markdown",
   "id": "667cd24d",
   "metadata": {},
   "source": [
    "Initialize the Trainer for model fine-tuning"
   ]
  },
  {
   "cell_type": "code",
   "execution_count": 113,
   "id": "144d66a7",
   "metadata": {},
   "outputs": [],
   "source": [
    "trainer = Trainer(\n",
    "    model=model,\n",
    "    args=training_args,\n",
    "    train_dataset=train_dataset,\n",
    "    eval_dataset=test_dataset\n",
    ")"
   ]
  },
  {
   "cell_type": "markdown",
   "id": "21d7685b",
   "metadata": {},
   "source": [
    "Train the model on the training dataset\n"
   ]
  },
  {
   "cell_type": "code",
   "execution_count": 114,
   "id": "b51e3b12",
   "metadata": {
    "scrolled": true
   },
   "outputs": [
    {
     "data": {
      "text/html": [
       "\n",
       "    <div>\n",
       "      \n",
       "      <progress value='92' max='92' style='width:300px; height:20px; vertical-align: middle;'></progress>\n",
       "      [92/92 06:16, Epoch 1/1]\n",
       "    </div>\n",
       "    <table border=\"1\" class=\"dataframe\">\n",
       "  <thead>\n",
       " <tr style=\"text-align: left;\">\n",
       "      <th>Epoch</th>\n",
       "      <th>Training Loss</th>\n",
       "      <th>Validation Loss</th>\n",
       "    </tr>\n",
       "  </thead>\n",
       "  <tbody>\n",
       "    <tr>\n",
       "      <td>1</td>\n",
       "      <td>0.399200</td>\n",
       "      <td>0.377500</td>\n",
       "    </tr>\n",
       "  </tbody>\n",
       "</table><p>"
      ],
      "text/plain": [
       "<IPython.core.display.HTML object>"
      ]
     },
     "metadata": {},
     "output_type": "display_data"
    },
    {
     "data": {
      "text/plain": [
       "TrainOutput(global_step=92, training_loss=0.4483770216288774, metrics={'train_runtime': 379.104, 'train_samples_per_second': 3.859, 'train_steps_per_second': 0.243, 'total_flos': 18925762132200.0, 'train_loss': 0.4483770216288774, 'epoch': 1.0})"
      ]
     },
     "execution_count": 114,
     "metadata": {},
     "output_type": "execute_result"
    }
   ],
   "source": [
    "trainer.train()"
   ]
  },
  {
   "cell_type": "markdown",
   "id": "e54421f7",
   "metadata": {},
   "source": [
    "After training, evaluate the model on the test dataset\n",
    "\n",
    "Extract the predicted probabilities for the positive class"
   ]
  },
  {
   "cell_type": "code",
   "execution_count": 115,
   "id": "9932b402",
   "metadata": {},
   "outputs": [
    {
     "data": {
      "text/html": [],
      "text/plain": [
       "<IPython.core.display.HTML object>"
      ]
     },
     "metadata": {},
     "output_type": "display_data"
    }
   ],
   "source": [
    "predictions = trainer.predict(test_dataset)\n",
    "\n",
    "y_pred_proba = torch.nn.functional.softmax(torch.tensor(predictions.predictions), dim=-1)[:, 1].numpy()  "
   ]
  },
  {
   "cell_type": "markdown",
   "id": "92aed9c0",
   "metadata": {},
   "source": [
    "The same assess_sentiment_classifier function returns AUC, accuracy, recall, and F1 score"
   ]
  },
  {
   "cell_type": "code",
   "execution_count": 116,
   "id": "52cffb44",
   "metadata": {
    "scrolled": true
   },
   "outputs": [
    {
     "data": {
      "image/png": "[encoded data removed]",
      "text/plain": [
       "<Figure size 640x480 with 1 Axes>"
      ]
     },
     "metadata": {},
     "output_type": "display_data"
    },
    {
     "name": "stdout",
     "output_type": "stream",
     "text": [
      "NN test set performance:\tAUC=0.8745\tAccuracy=0.8049\tRecall=1.0000\tF1_score=0.8919\n",
      "Confusion matrix:\n",
      "[[  0  96]\n",
      " [  0 396]]\n"
     ]
    }
   ],
   "source": [
    "auc, acc, recall, f1 = assess_sentiment_classifier(y_test, y_pred_proba, cutoff=0.5, plot_roc=True)\n"
   ]
  },
  {
   "cell_type": "markdown",
   "id": "7f5d3966",
   "metadata": {},
   "source": [
    "Add the evaluation results to an existing DataFrame for comparison with other models"
   ]
  },
  {
   "cell_type": "code",
   "execution_count": 117,
   "id": "58fb97a6",
   "metadata": {},
   "outputs": [
    {
     "data": {
      "text/html": [
       "<div>\n",
       "<style scoped>\n",
       "    .dataframe tbody tr th:only-of-type {\n",
       "        vertical-align: middle;\n",
       "    }\n",
       "\n",
       "    .dataframe tbody tr th {\n",
       "        vertical-align: top;\n",
       "    }\n",
       "\n",
       "    .dataframe thead th {\n",
       "        text-align: right;\n",
       "    }\n",
       "</style>\n",
       "<table border=\"1\" class=\"dataframe\">\n",
       "  <thead>\n",
       "    <tr style=\"text-align: right;\">\n",
       "      <th></th>\n",
       "      <th>Dictonary_based</th>\n",
       "      <th>Bidirectional-RNN(GRU)</th>\n",
       "      <th>DistilBERT</th>\n",
       "      <th>DistilBERT_finetuned</th>\n",
       "    </tr>\n",
       "  </thead>\n",
       "  <tbody>\n",
       "    <tr>\n",
       "      <th>Acc</th>\n",
       "      <td>0.546748</td>\n",
       "      <td>0.833333</td>\n",
       "      <td>0.808712</td>\n",
       "      <td>0.804878</td>\n",
       "    </tr>\n",
       "    <tr>\n",
       "      <th>AUC</th>\n",
       "      <td>0.607442</td>\n",
       "      <td>0.811132</td>\n",
       "      <td>0.581301</td>\n",
       "      <td>0.874527</td>\n",
       "    </tr>\n",
       "    <tr>\n",
       "      <th>Recall</th>\n",
       "      <td>0.540404</td>\n",
       "      <td>0.898990</td>\n",
       "      <td>0.510101</td>\n",
       "      <td>1.000000</td>\n",
       "    </tr>\n",
       "    <tr>\n",
       "      <th>F1_score</th>\n",
       "      <td>0.657450</td>\n",
       "      <td>0.896725</td>\n",
       "      <td>0.662295</td>\n",
       "      <td>0.891892</td>\n",
       "    </tr>\n",
       "  </tbody>\n",
       "</table>\n",
       "</div>"
      ],
      "text/plain": [
       "          Dictonary_based  Bidirectional-RNN(GRU)  DistilBERT  \\\n",
       "Acc              0.546748                0.833333    0.808712   \n",
       "AUC              0.607442                0.811132    0.581301   \n",
       "Recall           0.540404                0.898990    0.510101   \n",
       "F1_score         0.657450                0.896725    0.662295   \n",
       "\n",
       "          DistilBERT_finetuned  \n",
       "Acc                   0.804878  \n",
       "AUC                   0.874527  \n",
       "Recall                1.000000  \n",
       "F1_score              0.891892  "
      ]
     },
     "execution_count": 117,
     "metadata": {},
     "output_type": "execute_result"
    }
   ],
   "source": [
    "test_scores['DistilBERT_finetuned'] = [acc, auc, recall, f1]\n",
    "test_scores"
   ]
  },
  {
   "cell_type": "markdown",
   "id": "0ae5df6e",
   "metadata": {},
   "source": [
    "---\n",
    "## 6. Conclusion"
   ]
  },
  {
   "cell_type": "markdown",
   "id": "1397f492",
   "metadata": {},
   "source": [
    "### Up to this point, we have discussed various methods for building sentiment analysis models. Let's take a look at the test-scores table again."
   ]
  },
  {
   "cell_type": "code",
   "execution_count": 118,
   "id": "57eaee44",
   "metadata": {},
   "outputs": [
    {
     "data": {
      "text/html": [
       "<div>\n",
       "<style scoped>\n",
       "    .dataframe tbody tr th:only-of-type {\n",
       "        vertical-align: middle;\n",
       "    }\n",
       "\n",
       "    .dataframe tbody tr th {\n",
       "        vertical-align: top;\n",
       "    }\n",
       "\n",
       "    .dataframe thead th {\n",
       "        text-align: right;\n",
       "    }\n",
       "</style>\n",
       "<table border=\"1\" class=\"dataframe\">\n",
       "  <thead>\n",
       "    <tr style=\"text-align: right;\">\n",
       "      <th></th>\n",
       "      <th>Dictonary_based</th>\n",
       "      <th>Bidirectional-RNN(GRU)</th>\n",
       "      <th>DistilBERT</th>\n",
       "      <th>DistilBERT_finetuned</th>\n",
       "    </tr>\n",
       "  </thead>\n",
       "  <tbody>\n",
       "    <tr>\n",
       "      <th>Acc</th>\n",
       "      <td>0.546748</td>\n",
       "      <td>0.833333</td>\n",
       "      <td>0.808712</td>\n",
       "      <td>0.804878</td>\n",
       "    </tr>\n",
       "    <tr>\n",
       "      <th>AUC</th>\n",
       "      <td>0.607442</td>\n",
       "      <td>0.811132</td>\n",
       "      <td>0.581301</td>\n",
       "      <td>0.874527</td>\n",
       "    </tr>\n",
       "    <tr>\n",
       "      <th>Recall</th>\n",
       "      <td>0.540404</td>\n",
       "      <td>0.898990</td>\n",
       "      <td>0.510101</td>\n",
       "      <td>1.000000</td>\n",
       "    </tr>\n",
       "    <tr>\n",
       "      <th>F1_score</th>\n",
       "      <td>0.657450</td>\n",
       "      <td>0.896725</td>\n",
       "      <td>0.662295</td>\n",
       "      <td>0.891892</td>\n",
       "    </tr>\n",
       "  </tbody>\n",
       "</table>\n",
       "</div>"
      ],
      "text/plain": [
       "          Dictonary_based  Bidirectional-RNN(GRU)  DistilBERT  \\\n",
       "Acc              0.546748                0.833333    0.808712   \n",
       "AUC              0.607442                0.811132    0.581301   \n",
       "Recall           0.540404                0.898990    0.510101   \n",
       "F1_score         0.657450                0.896725    0.662295   \n",
       "\n",
       "          DistilBERT_finetuned  \n",
       "Acc                   0.804878  \n",
       "AUC                   0.874527  \n",
       "Recall                1.000000  \n",
       "F1_score              0.891892  "
      ]
     },
     "execution_count": 118,
     "metadata": {},
     "output_type": "execute_result"
    }
   ],
   "source": [
    "test_scores"
   ]
  },
  {
   "cell_type": "markdown",
   "id": "b0ea00d3",
   "metadata": {},
   "source": [
    "The models are evaluated based on four metrics: ***Accuracy (Acc), Area Under the ROC Curve (AUC), Recall, and F1 Score.***\n",
    "    \n",
    "1. Accuracy (Acc)\n",
    "\n",
    "Best Performance: The Bidirectional RNN model has the highest accuracy , indicating that it performs the best in correctly classifying samples.\n",
    "\n",
    "\n",
    "Lowest Performance: The Dictionary_based model has the lowest accuracy, suggesting it struggles the most with correctly classifying samples.\n",
    "\n"
   ]
  },
  {
   "cell_type": "markdown",
   "id": "95962fb9",
   "metadata": {},
   "source": [
    "2. AUC (Area Under the Curve)\n",
    "\n",
    "Best Performance: The fine-tuned DistilBERT model achieves the highest AUC, indicating it has the best ability to distinguish between positive and negative classes across different thresholds.\n",
    "\n",
    "Lowest Performance: The pre-trained DistilBERT has the lowest AUC, suggesting it is not well-suited for this specific task and struggles to distinguish between the two classes.\n",
    "\n"
   ]
  },
  {
   "cell_type": "markdown",
   "id": "8f68595d",
   "metadata": {},
   "source": [
    "3. Recall\n",
    "\n",
    "Best Performance: The fine-tuned DistilBERT model has the highest recall, meaning it effectively identifies most of the positive cases, though it may sacrifice some precision.\n",
    "\n",
    "Lowest Performance: The pre-trained DistilBERT has the lowest recall, indicating that it misses a significant number of positive cases.\n",
    "\n"
   ]
  },
  {
   "cell_type": "markdown",
   "id": "22e7f70a",
   "metadata": {},
   "source": [
    "4. F1 Score\n",
    "\n",
    "Best Performance: The fine-tuned DistilBERT model has the highest F1 Score , showing it performs best in balancing precision and recall.\n",
    "\n",
    "Lowest Performance: The Dictionary_based model has the lowest F1 Score, indicating it performs poorly in balancing these two aspects\n"
   ]
  },
  {
   "cell_type": "markdown",
   "id": "09f7ad81",
   "metadata": {},
   "source": [
    "---\n",
    "The fine-tuned DistilBERT model performs the best: The DistilBERT_finetuned model excels across all four metrics, particularly in AUC and F1 Score, demonstrating its high adaptability and accuracy for the sentiment analysis task.\n",
    "\n",
    "The pre-trained DistilBERT performs poorly: While DistilBERT is a powerful model, its performance on the sentiment analysis task is significantly lower when not fine-tuned, highlighting the importance of task-specific fine-tuning.\n",
    "\n",
    "RNN-based model performs well: The RNN-based model also shows strong performance, particularly in accuracy and recall, but it slightly lags behind the fine-tuned DistilBERT in terms of AUC and F1 Score.\n",
    "\n",
    "Dictionary-based model performs the worst: The Dictionary_based model has the lowest scores across all metrics, indicating its limitations in handling the complexities of natural language sentiment analysis."
   ]
  },
  {
   "cell_type": "markdown",
   "id": "d91e99a6",
   "metadata": {},
   "source": [
    "### Overall, this task underscores the effectiveness of fine-tuning pre-trained models like DistilBERT for specific tasks like sentiment analysis, leading to significantly better performance."
   ]
  },
  {
   "cell_type": "code",
   "execution_count": 119,
   "id": "8569a748",
   "metadata": {
    "scrolled": true
   },
   "outputs": [
    {
     "name": "stdout",
     "output_type": "stream",
     "text": [
      "Note: you may need to restart the kernel to use updated packages.\n"
     ]
    }
   ],
   "source": [
    "pip freeze > requirements.txt\n"
   ]
  },
  {
   "cell_type": "code",
   "execution_count": 120,
   "id": "cbd82b31",
   "metadata": {},
   "outputs": [
    {
     "name": "stdout",
     "output_type": "stream",
     "text": [
      "absl-py==2.1.0\n",
      "accelerate==0.33.0\n",
      "aext_assistant @ file:///C:/b/abs_05zbnpu9if/croot/aext-assistant_1698112951886/work\n",
      "aext_assistant_server @ file:///C:/b/abs_83f6_dptu3/croot/aext-assistant-server_1698104652697/work/backend_lib/assistant\n",
      "aext_core @ file:///C:/b/abs_abml9re1ky/croot/aext-core_1698107590809/work\n",
      "aext_core_server @ file:///C:/b/abs_dev7ac1xol/croot/aext-core-server_1698098831843/work/backend_lib/core\n",
      "aext_shared @ file:///C:/b/abs_306_rwdm13/croot/aext-shared_1698068353440/work/backend_lib/shared\n",
      "aiobotocore @ file:///C:/b/abs_3cwz1w13nn/croot/aiobotocore_1701291550158/work\n",
      "aiofiles @ file:///C:/b/abs_9ex6mi6b56/croot/aiofiles_1683773603390/work\n",
      "aiohttp @ file:///C:/b/abs_27h_1rpxgd/croot/aiohttp_1707342354614/work\n",
      "aioitertools @ file:///tmp/build/80754af9/aioitertools_1607109665762/work\n",
      "aiosignal @ file:///tmp/build/80754af9/aiosignal_1637843061372/work\n",
      "aiosqlite @ file:///C:/b/abs_9djc_0pyi3/croot/aiosqlite_1683773915844/work\n",
      "alabaster @ file:///home/ktietz/src/ci/alabaster_1611921544520/work\n",
      "altair @ file:///C:/b/abs_27reu1igbg/croot/altair_1687526066495/work\n",
      "anaconda-anon-usage @ file:///C:/b/abs_95v3x0wy8p/croot/anaconda-anon-usage_1697038984188/work\n",
      "anaconda-catalogs @ file:///C:/b/abs_8btyy0o8s8/croot/anaconda-catalogs_1685727315626/work\n",
      "anaconda-client @ file:///C:/b/abs_34txutm0ue/croot/anaconda-client_1708640705294/work\n",
      "anaconda-cloud-auth @ file:///C:/b/abs_b02evi84gh/croot/anaconda-cloud-auth_1713991445770/work\n",
      "anaconda-navigator @ file:///C:/b/abs_d8d4a02c3t/croot/anaconda-navigator_1713464063970/work\n",
      "anaconda-project @ file:///C:/ci_311/anaconda-project_1676458365912/work\n",
      "anyio @ file:///C:/b/abs_847uobe7ea/croot/anyio_1706220224037/work\n",
      "appdirs==1.4.4\n",
      "archspec @ file:///croot/archspec_1709217642129/work\n",
      "argon2-cffi @ file:///opt/conda/conda-bld/argon2-cffi_1645000214183/work\n",
      "argon2-cffi-bindings @ file:///C:/ci_311/argon2-cffi-bindings_1676424443321/work\n",
      "arrow @ file:///C:/ci_311/arrow_1678249767083/work\n",
      "astroid @ file:///C:/ci_311/astroid_1678740610167/work\n",
      "astropy @ file:///C:/b/abs_2fb3x_tapx/croot/astropy_1697468987983/work\n",
      "asttokens @ file:///opt/conda/conda-bld/asttokens_1646925590279/work\n",
      "astunparse==1.6.3\n",
      "async-lru @ file:///C:/b/abs_e0hjkvwwb5/croot/async-lru_1699554572212/work\n",
      "atomicwrites==1.4.0\n",
      "attrs @ file:///C:/b/abs_35n0jusce8/croot/attrs_1695717880170/work\n",
      "Automat @ file:///tmp/build/80754af9/automat_1600298431173/work\n",
      "autopep8 @ file:///opt/conda/conda-bld/autopep8_1650463822033/work\n",
      "Babel @ file:///C:/ci_311/babel_1676427169844/work\n",
      "backports.functools-lru-cache @ file:///tmp/build/80754af9/backports.functools_lru_cache_1618170165463/work\n",
      "backports.tempfile @ file:///home/linux1/recipes/ci/backports.tempfile_1610991236607/work\n",
      "backports.weakref==1.0.post1\n",
      "bcrypt @ file:///C:/ci_311/bcrypt_1676435170049/work\n",
      "beautifulsoup4 @ file:///C:/b/abs_0agyz1wsr4/croot/beautifulsoup4-split_1681493048687/work\n",
      "binaryornot @ file:///tmp/build/80754af9/binaryornot_1617751525010/work\n",
      "black @ file:///C:/b/abs_29gqa9a44y/croot/black_1701097690150/work\n",
      "bleach @ file:///opt/conda/conda-bld/bleach_1641577558959/work\n",
      "blinker @ file:///C:/b/abs_d9y2dm7cw2/croot/blinker_1696539752170/work\n",
      "bokeh @ file:///C:/b/abs_74ungdyhwc/croot/bokeh_1706912192007/work\n",
      "boltons @ file:///C:/ci_311/boltons_1677729932371/work\n",
      "botocore @ file:///C:/b/abs_5a285dtc94/croot/botocore_1701286504141/work\n",
      "Bottleneck @ file:///C:/b/abs_f05kqh7yvj/croot/bottleneck_1707864273291/work\n",
      "Brotli @ file:///C:/ci_311/brotli-split_1676435766766/work\n",
      "cachetools @ file:///tmp/build/80754af9/cachetools_1619597386817/work\n",
      "certifi @ file:///C:/b/abs_35d7n66oz9/croot/certifi_1707229248467/work/certifi\n",
      "cffi @ file:///C:/b/abs_924gv1kxzj/croot/cffi_1700254355075/work\n",
      "chardet @ file:///C:/ci_311/chardet_1676436134885/work\n",
      "charset-normalizer @ file:///tmp/build/80754af9/charset-normalizer_1630003229654/work\n",
      "click @ file:///C:/b/abs_f9ihnt72pu/croot/click_1698129847492/work\n",
      "cloudpickle @ file:///C:/b/abs_3796yxesic/croot/cloudpickle_1683040098851/work\n",
      "clyent==1.2.2\n",
      "colorama @ file:///C:/ci_311/colorama_1676422310965/work\n",
      "colorcet @ file:///C:/ci_311/colorcet_1676440389947/work\n",
      "comm @ file:///C:/ci_311/comm_1678376562840/work\n",
      "conda @ file:///C:/b/abs_f3egtzumcq/croot/conda_1715635886039/work\n",
      "conda-build @ file:///C:/b/abs_3ed9gavxgz/croot/conda-build_1708025907525/work\n",
      "conda-content-trust @ file:///C:/b/abs_e3bcpyv7sw/croot/conda-content-trust_1693490654398/work\n",
      "conda-libmamba-solver @ file:///croot/conda-libmamba-solver_1706733287605/work/src\n",
      "conda-pack @ file:///tmp/build/80754af9/conda-pack_1611163042455/work\n",
      "conda-package-handling @ file:///C:/b/abs_b9wp3lr1gn/croot/conda-package-handling_1691008700066/work\n",
      "conda-repo-cli==1.0.75\n",
      "conda-token @ file:///Users/paulyim/miniconda3/envs/c3i/conda-bld/conda-token_1662660369760/work\n",
      "conda-verify==3.4.2\n",
      "conda_index @ file:///croot/conda-index_1706633791028/work\n",
      "conda_package_streaming @ file:///C:/b/abs_6c28n38aaj/croot/conda-package-streaming_1690988019210/work\n",
      "constantly @ file:///C:/b/abs_cbuavw4443/croot/constantly_1703165617403/work\n",
      "contourpy @ file:///C:/b/abs_853rfy8zse/croot/contourpy_1700583617587/work\n",
      "cookiecutter @ file:///C:/b/abs_3d1730toam/croot/cookiecutter_1700677089156/work\n",
      "cryptography @ file:///C:/b/abs_531eqmhgsd/croot/cryptography_1707523768330/work\n",
      "cssselect @ file:///C:/b/abs_71gnjab7b0/croot/cssselect_1707339955530/work\n",
      "cycler @ file:///tmp/build/80754af9/cycler_1637851556182/work\n",
      "cytoolz @ file:///C:/b/abs_d43s8lnb60/croot/cytoolz_1701723636699/work\n",
      "dask @ file:///C:/b/abs_1899k8plyj/croot/dask-core_1701396135885/work\n",
      "datasets==2.21.0\n",
      "datashader @ file:///C:/b/abs_cb5s63ty8z/croot/datashader_1699544282143/work\n",
      "debugpy @ file:///C:/b/abs_c0y1fjipt2/croot/debugpy_1690906864587/work\n",
      "decorator @ file:///opt/conda/conda-bld/decorator_1643638310831/work\n",
      "defusedxml @ file:///tmp/build/80754af9/defusedxml_1615228127516/work\n",
      "diff-match-patch @ file:///Users/ktietz/demo/mc3/conda-bld/diff-match-patch_1630511840874/work\n",
      "dill==0.3.8\n",
      "distributed @ file:///C:/b/abs_5eren88ku4/croot/distributed_1701398076011/work\n",
      "distro @ file:///C:/b/abs_a3uni_yez3/croot/distro_1701455052240/work\n",
      "docstring-to-markdown @ file:///C:/ci_311/docstring-to-markdown_1677742566583/work\n",
      "docutils @ file:///C:/ci_311/docutils_1676428078664/work\n",
      "emoji==2.12.1\n",
      "entrypoints @ file:///C:/ci_311/entrypoints_1676423328987/work\n",
      "et-xmlfile==1.1.0\n",
      "executing @ file:///opt/conda/conda-bld/executing_1646925071911/work\n",
      "fastjsonschema @ file:///C:/ci_311/python-fastjsonschema_1679500568724/work\n",
      "filelock @ file:///C:/b/abs_f2gie28u58/croot/filelock_1700591233643/work\n",
      "flake8 @ file:///C:/ci_311/flake8_1678376624746/work\n",
      "Flask @ file:///C:/b/abs_efc024w7fv/croot/flask_1702980041157/work\n",
      "flatbuffers==24.3.25\n",
      "fonttools==4.25.0\n",
      "frozendict @ file:///C:/b/abs_2alamqss6p/croot/frozendict_1713194885124/work\n",
      "frozenlist @ file:///C:/b/abs_d8e__s1ys3/croot/frozenlist_1698702612014/work\n",
      "fsspec @ file:///C:/b/abs_97mpfsesn0/croot/fsspec_1701286534629/work\n",
      "fst-pso==1.8.1\n",
      "future @ file:///C:/ci_311_rebuilds/future_1678998246262/work\n",
      "FuzzyTM==2.0.9\n",
      "gast==0.5.4\n",
      "gensim @ file:///C:/ci_311/gensim_1677743037820/work\n",
      "gitdb @ file:///tmp/build/80754af9/gitdb_1617117951232/work\n",
      "GitPython @ file:///C:/b/abs_e1lwow9h41/croot/gitpython_1696937027832/work\n",
      "gmpy2 @ file:///C:/ci_311/gmpy2_1677743390134/work\n",
      "google-pasta==0.2.0\n",
      "greenlet @ file:///C:/b/abs_a6c75ie0bc/croot/greenlet_1702060012174/work\n",
      "grpcio==1.63.0\n",
      "h11 @ file:///C:/b/abs_1czwoyexjf/croot/h11_1706652332846/work\n",
      "h5py==3.11.0\n",
      "HeapDict @ file:///Users/ktietz/demo/mc3/conda-bld/heapdict_1630598515714/work\n",
      "holoviews @ file:///C:/b/abs_704uucojt7/croot/holoviews_1707836477070/work\n",
      "httpcore @ file:///C:/b/abs_55n7g233bw/croot/httpcore_1706728507241/work\n",
      "httpx @ file:///C:/b/abs_70wr6jzznw/croot/httpx_1706887145357/work\n",
      "huggingface-hub==0.24.6\n",
      "hvplot @ file:///C:/b/abs_3627uzd5h0/croot/hvplot_1706712443782/work\n",
      "hyperlink @ file:///tmp/build/80754af9/hyperlink_1610130746837/work\n",
      "idna @ file:///C:/ci_311/idna_1676424932545/work\n",
      "imagecodecs @ file:///C:/b/abs_e2g5zbs1q0/croot/imagecodecs_1695065012000/work\n",
      "imageio @ file:///C:/b/abs_aeqerw_nps/croot/imageio_1707247365204/work\n",
      "imagesize @ file:///C:/ci_311/imagesize_1676431905616/work\n",
      "imbalanced-learn @ file:///C:/b/abs_87es3kd5fi/croot/imbalanced-learn_1700648276799/work\n",
      "importlib-metadata @ file:///C:/b/abs_c1egths604/croot/importlib_metadata-suite_1704813568388/work\n",
      "incremental @ file:///croot/incremental_1708639938299/work\n",
      "inflection==0.5.1\n",
      "iniconfig @ file:///home/linux1/recipes/ci/iniconfig_1610983019677/work\n",
      "intake @ file:///C:/ci_311_rebuilds/intake_1678999914269/work\n",
      "intervaltree @ file:///Users/ktietz/demo/mc3/conda-bld/intervaltree_1630511889664/work\n",
      "ipykernel @ file:///C:/b/abs_c2u94kxcy6/croot/ipykernel_1705933907920/work\n",
      "ipython @ file:///C:/b/abs_b6pfgmrqnd/croot/ipython_1704833422163/work\n",
      "ipython-genutils @ file:///tmp/build/80754af9/ipython_genutils_1606773439826/work\n",
      "ipywidgets @ file:///croot/ipywidgets_1701289330913/work\n",
      "isort @ file:///tmp/build/80754af9/isort_1628603791788/work\n",
      "itemadapter @ file:///tmp/build/80754af9/itemadapter_1626442940632/work\n",
      "itemloaders @ file:///C:/b/abs_5e3azgv25z/croot/itemloaders_1708639993442/work\n",
      "itsdangerous @ file:///tmp/build/80754af9/itsdangerous_1621432558163/work\n",
      "jaraco.classes @ file:///tmp/build/80754af9/jaraco.classes_1620983179379/work\n",
      "jedi @ file:///C:/ci_311/jedi_1679427407646/work\n",
      "jellyfish @ file:///C:/b/abs_50kgvtnrbj/croot/jellyfish_1695193564091/work\n",
      "Jinja2 @ file:///C:/b/abs_f7x5a8op2h/croot/jinja2_1706733672594/work\n",
      "jmespath @ file:///C:/b/abs_59jpuaows7/croot/jmespath_1700144635019/work\n",
      "joblib @ file:///C:/b/abs_1anqjntpan/croot/joblib_1685113317150/work\n",
      "json5 @ file:///tmp/build/80754af9/json5_1624432770122/work\n",
      "jsonpatch @ file:///tmp/build/80754af9/jsonpatch_1615747632069/work\n",
      "jsonpointer==2.1\n",
      "jsonschema @ file:///C:/b/abs_d1c4sm8drk/croot/jsonschema_1699041668863/work\n",
      "jsonschema-specifications @ file:///C:/b/abs_0brvm6vryw/croot/jsonschema-specifications_1699032417323/work\n",
      "jupyter @ file:///C:/b/abs_4e102rc6e5/croot/jupyter_1707947170513/work\n",
      "jupyter-console @ file:///C:/b/abs_82xaa6i2y4/croot/jupyter_console_1680000189372/work\n",
      "jupyter-events @ file:///C:/b/abs_17ajfqnlz0/croot/jupyter_events_1699282519713/work\n",
      "jupyter-lsp @ file:///C:/b/abs_ecle3em9d4/croot/jupyter-lsp-meta_1699978291372/work\n",
      "jupyter-ydoc @ file:///C:/b/abs_e7m6nh5lao/croot/jupyter_ydoc_1683747253535/work\n",
      "jupyter_client @ file:///C:/ci_311/jupyter_client_1676424009414/work\n",
      "jupyter_core @ file:///C:/b/abs_c769pbqg9b/croot/jupyter_core_1698937367513/work\n",
      "jupyter_server @ file:///C:/b/abs_7esjvdakg9/croot/jupyter_server_1699466495151/work\n",
      "jupyter_server_fileid @ file:///C:/b/abs_f1yjnmiq_6/croot/jupyter_server_fileid_1684273602142/work\n",
      "jupyter_server_terminals @ file:///C:/b/abs_ec0dq4b50j/croot/jupyter_server_terminals_1686870763512/work\n",
      "jupyter_server_ydoc @ file:///C:/b/abs_8ai39bligw/croot/jupyter_server_ydoc_1686767445888/work\n",
      "jupyterlab @ file:///C:/b/abs_2fecwena3y/croot/jupyterlab_1708029936267/work\n",
      "jupyterlab-pygments @ file:///tmp/build/80754af9/jupyterlab_pygments_1601490720602/work\n",
      "jupyterlab-widgets @ file:///C:/b/abs_adrrqr26no/croot/jupyterlab_widgets_1700169018974/work\n",
      "jupyterlab_server @ file:///C:/b/abs_e08i7qn9m8/croot/jupyterlab_server_1699555481806/work\n",
      "keras==3.3.3\n",
      "keyring @ file:///C:/b/abs_dbjc7g0dh2/croot/keyring_1678999228878/work\n",
      "kiwisolver @ file:///C:/ci_311/kiwisolver_1676431979301/work\n",
      "lazy-object-proxy @ file:///C:/ci_311/lazy-object-proxy_1676432050939/work\n",
      "lazy_loader @ file:///C:/b/abs_3bn4_r4g42/croot/lazy_loader_1695850158046/work\n",
      "lckr_jupyterlab_variableinspector @ file:///C:/b/abs_b5yb2mprx2/croot/jupyterlab-variableinspector_1701096592545/work\n",
      "libarchive-c @ file:///tmp/build/80754af9/python-libarchive-c_1617780486945/work\n",
      "libclang==18.1.1\n",
      "libmambapy @ file:///C:/b/abs_2euls_1a38/croot/mamba-split_1704219444888/work/libmambapy\n",
      "linkify-it-py @ file:///C:/ci_311/linkify-it-py_1676474436187/work\n",
      "llvmlite @ file:///C:/b/abs_da15r8vkf8/croot/llvmlite_1706910779994/work\n",
      "lmdb @ file:///C:/b/abs_556ronuvb2/croot/python-lmdb_1682522366268/work\n",
      "locket @ file:///C:/ci_311/locket_1676428325082/work\n",
      "lxml @ file:///C:/b/abs_9e7tpg2vv9/croot/lxml_1695058219431/work\n",
      "lz4 @ file:///C:/b/abs_064u6aszy3/croot/lz4_1686057967376/work\n",
      "Markdown @ file:///C:/ci_311/markdown_1676437912393/work\n",
      "markdown-it-py @ file:///C:/b/abs_a5bfngz6fu/croot/markdown-it-py_1684279915556/work\n",
      "MarkupSafe @ file:///C:/b/abs_ecfdqh67b_/croot/markupsafe_1704206030535/work\n",
      "matplotlib @ file:///C:/b/abs_e26vnvd5s1/croot/matplotlib-suite_1698692153288/work\n",
      "matplotlib-inline @ file:///C:/ci_311/matplotlib-inline_1676425798036/work\n",
      "mccabe @ file:///opt/conda/conda-bld/mccabe_1644221741721/work\n",
      "mdit-py-plugins @ file:///C:/ci_311/mdit-py-plugins_1676481827414/work\n",
      "mdurl @ file:///C:/ci_311/mdurl_1676442676678/work\n",
      "menuinst @ file:///C:/b/abs_099kybla52/croot/menuinst_1706732987063/work\n",
      "miniful==0.0.6\n",
      "mistune @ file:///C:/ci_311/mistune_1676425111783/work\n",
      "mkl-fft @ file:///C:/b/abs_19i1y8ykas/croot/mkl_fft_1695058226480/work\n",
      "mkl-random @ file:///C:/b/abs_edwkj1_o69/croot/mkl_random_1695059866750/work\n",
      "mkl-service==2.4.0\n",
      "ml-dtypes==0.3.2\n",
      "more-itertools @ file:///C:/b/abs_36p38zj5jx/croot/more-itertools_1700662194485/work\n",
      "mpmath @ file:///C:/b/abs_7833jrbiox/croot/mpmath_1690848321154/work\n",
      "msgpack @ file:///C:/ci_311/msgpack-python_1676427482892/work\n",
      "multidict @ file:///C:/b/abs_44ido987fv/croot/multidict_1701097803486/work\n",
      "multipledispatch @ file:///C:/ci_311/multipledispatch_1676442767760/work\n",
      "multiprocess==0.70.16\n",
      "munkres==1.1.4\n",
      "mypy @ file:///C:/b/abs_3880czibje/croot/mypy-split_1708366584048/work\n",
      "mypy-extensions @ file:///C:/b/abs_8f7xiidjya/croot/mypy_extensions_1695131051147/work\n",
      "namex==0.0.8\n",
      "navigator-updater @ file:///C:/b/abs_895otdwmo9/croot/navigator-updater_1695210220239/work\n",
      "nbclassic @ file:///C:/b/abs_4a5z9raz19/croot/nbclassic_1699542837556/work\n",
      "nbclient @ file:///C:/b/abs_cal0q5fyju/croot/nbclient_1698934263135/work\n",
      "nbconvert @ file:///C:/b/abs_17p29f_rx4/croot/nbconvert_1699022793097/work\n",
      "nbformat @ file:///C:/b/abs_5a2nea1iu2/croot/nbformat_1694616866197/work\n",
      "nest-asyncio @ file:///C:/b/abs_65d6lblmoi/croot/nest-asyncio_1708532721305/work\n",
      "networkx @ file:///C:/b/abs_e6gi1go5op/croot/networkx_1690562046966/work\n",
      "nltk @ file:///C:/b/abs_a638z6l1z0/croot/nltk_1688114186909/work\n",
      "notebook @ file:///C:/b/abs_e2qn6c85jb/croot/notebook_1690985290943/work\n",
      "notebook_shim @ file:///C:/b/abs_a5xysln3lb/croot/notebook-shim_1699455926920/work\n",
      "numba @ file:///C:/b/abs_3e3co1qfvo/croot/numba_1707085143481/work\n",
      "numexpr @ file:///C:/b/abs_5fucrty5dc/croot/numexpr_1696515448831/work\n",
      "numpy==1.24.4\n",
      "numpydoc @ file:///C:/ci_311/numpydoc_1676453412027/work\n",
      "openpyxl==3.0.10\n",
      "opt-einsum==3.3.0\n",
      "optree==0.11.0\n",
      "overrides @ file:///C:/b/abs_cfh89c8yf4/croot/overrides_1699371165349/work\n",
      "packaging @ file:///C:/b/abs_28t5mcoltc/croot/packaging_1693575224052/work\n",
      "pandas==1.5.3\n",
      "pandocfilters @ file:///opt/conda/conda-bld/pandocfilters_1643405455980/work\n",
      "panel @ file:///C:/b/abs_abnm_ot327/croot/panel_1706539613212/work\n",
      "param @ file:///C:/b/abs_39ncjvb7lu/croot/param_1705937833389/work\n",
      "paramiko @ file:///opt/conda/conda-bld/paramiko_1640109032755/work\n",
      "parsel @ file:///C:/b/abs_ebc3tzm_c4/croot/parsel_1707503517596/work\n",
      "parso @ file:///opt/conda/conda-bld/parso_1641458642106/work\n",
      "partd @ file:///C:/b/abs_46awex0fd7/croot/partd_1698702622970/work\n",
      "pathlib @ file:///Users/ktietz/demo/mc3/conda-bld/pathlib_1629713961906/work\n",
      "pathspec @ file:///C:/ci_311/pathspec_1679427644142/work\n",
      "patsy==0.5.3\n",
      "pexpect @ file:///tmp/build/80754af9/pexpect_1605563209008/work\n",
      "pickleshare @ file:///tmp/build/80754af9/pickleshare_1606932040724/work\n",
      "pillow @ file:///C:/b/abs_e22m71t0cb/croot/pillow_1707233126420/work\n",
      "pkce @ file:///C:/b/abs_d0z4444tb0/croot/pkce_1690384879799/work\n",
      "pkginfo @ file:///C:/b/abs_d18srtr68x/croot/pkginfo_1679431192239/work\n",
      "platformdirs @ file:///C:/b/abs_b6z_yqw_ii/croot/platformdirs_1692205479426/work\n",
      "plotly @ file:///C:/ci_311/plotly_1676443558683/work\n",
      "pluggy @ file:///C:/ci_311/pluggy_1676422178143/work\n",
      "ply==3.11\n",
      "prometheus-client @ file:///C:/ci_311/prometheus_client_1679591942558/work\n",
      "prompt-toolkit @ file:///C:/b/abs_68uwr58ed1/croot/prompt-toolkit_1704404394082/work\n",
      "Protego @ file:///tmp/build/80754af9/protego_1598657180827/work\n",
      "protobuf==3.20.3\n",
      "psutil @ file:///C:/ci_311_rebuilds/psutil_1679005906571/work\n",
      "ptyprocess @ file:///tmp/build/80754af9/ptyprocess_1609355006118/work/dist/ptyprocess-0.7.0-py2.py3-none-any.whl\n",
      "pure-eval @ file:///opt/conda/conda-bld/pure_eval_1646925070566/work\n",
      "py-cpuinfo @ file:///C:/b/abs_9ej7u6shci/croot/py-cpuinfo_1698068121579/work\n",
      "pyarrow==17.0.0\n",
      "pyasn1 @ file:///Users/ktietz/demo/mc3/conda-bld/pyasn1_1629708007385/work\n",
      "pyasn1-modules==0.2.8\n",
      "pycodestyle @ file:///C:/ci_311/pycodestyle_1678376707834/work\n",
      "pycosat @ file:///C:/b/abs_31zywn1be3/croot/pycosat_1696537126223/work\n",
      "pycparser @ file:///tmp/build/80754af9/pycparser_1636541352034/work\n",
      "pyct @ file:///C:/ci_311/pyct_1676438538057/work\n",
      "pycurl==7.45.2\n",
      "pydantic @ file:///C:/b/abs_9byjrk31gl/croot/pydantic_1695798904828/work\n",
      "pydeck @ file:///C:/b/abs_ad9p880wi1/croot/pydeck_1706194121328/work\n",
      "PyDispatcher==2.0.5\n",
      "pydocstyle @ file:///C:/ci_311/pydocstyle_1678402028085/work\n",
      "pyerfa @ file:///C:/ci_311/pyerfa_1676503994641/work\n",
      "pyflakes @ file:///C:/ci_311/pyflakes_1678402101687/work\n",
      "pyFUME==0.3.4\n",
      "Pygments @ file:///C:/b/abs_fay9dpq4n_/croot/pygments_1684279990574/work\n",
      "PyJWT @ file:///C:/ci_311/pyjwt_1676438890509/work\n",
      "pylint @ file:///C:/ci_311/pylint_1678740302984/work\n",
      "pylint-venv @ file:///C:/ci_311/pylint-venv_1678402170638/work\n",
      "pyls-spyder==0.4.0\n",
      "PyNaCl @ file:///C:/ci_311/pynacl_1676445861112/work\n",
      "pyodbc @ file:///C:/b/abs_90kly0uuwz/croot/pyodbc_1705431396548/work\n",
      "pyOpenSSL @ file:///C:/b/abs_baj0aupznq/croot/pyopenssl_1708380486701/work\n",
      "pyparsing @ file:///C:/ci_311/pyparsing_1678502182533/work\n",
      "PyQt5==5.15.10\n",
      "PyQt5-sip @ file:///C:/b/abs_c0pi2mimq3/croot/pyqt-split_1698769125270/work/pyqt_sip\n",
      "PyQtWebEngine==5.15.6\n",
      "pysentiment2==0.1.1\n",
      "PySocks @ file:///C:/ci_311/pysocks_1676425991111/work\n",
      "pytest @ file:///C:/b/abs_48heoo_k8y/croot/pytest_1690475385915/work\n",
      "python-dateutil @ file:///tmp/build/80754af9/python-dateutil_1626374649649/work\n",
      "python-dotenv @ file:///C:/ci_311/python-dotenv_1676455170580/work\n",
      "python-json-logger @ file:///C:/b/abs_cblnsm6puj/croot/python-json-logger_1683824130469/work\n",
      "python-lsp-black @ file:///C:/ci_311/python-lsp-black_1678721855627/work\n",
      "python-lsp-jsonrpc==1.0.0\n",
      "python-lsp-server @ file:///C:/b/abs_catecj7fv1/croot/python-lsp-server_1681930405912/work\n",
      "python-slugify @ file:///tmp/build/80754af9/python-slugify_1620405669636/work\n",
      "python-snappy @ file:///C:/ci_311/python-snappy_1676446060182/work\n",
      "pytoolconfig @ file:///C:/b/abs_f2j_xsvrpn/croot/pytoolconfig_1701728751207/work\n",
      "pytz @ file:///C:/b/abs_19q3ljkez4/croot/pytz_1695131651401/work\n",
      "pyviz-comms @ file:///C:/b/abs_6cq38vhwa5/croot/pyviz_comms_1685030740344/work\n",
      "pywavelets @ file:///C:/b/abs_7est386xsb/croot/pywavelets_1705049855879/work\n",
      "pywin32==305.1\n",
      "pywin32-ctypes @ file:///C:/ci_311/pywin32-ctypes_1676427747089/work\n",
      "pywinpty @ file:///C:/ci_311/pywinpty_1677707791185/work/target/wheels/pywinpty-2.0.10-cp311-none-win_amd64.whl\n",
      "PyYAML @ file:///C:/b/abs_782o3mbw7z/croot/pyyaml_1698096085010/work\n",
      "pyzmq @ file:///C:/b/abs_40g8k86mr7/croot/pyzmq_1709318380178/work\n",
      "QDarkStyle @ file:///tmp/build/80754af9/qdarkstyle_1617386714626/work\n",
      "qstylizer @ file:///C:/ci_311/qstylizer_1678502012152/work/dist/qstylizer-0.2.2-py2.py3-none-any.whl\n",
      "QtAwesome @ file:///C:/ci_311/qtawesome_1678402331535/work\n",
      "qtconsole @ file:///C:/b/abs_eb4u9jg07y/croot/qtconsole_1681402843494/work\n",
      "QtPy @ file:///C:/b/abs_derqu__3p8/croot/qtpy_1700144907661/work\n",
      "queuelib @ file:///C:/b/abs_563lpxcne9/croot/queuelib_1696951148213/work\n",
      "referencing @ file:///C:/b/abs_09f4hj6adf/croot/referencing_1699012097448/work\n",
      "regex @ file:///C:/b/abs_d5e2e5uqmr/croot/regex_1696515472506/work\n",
      "requests==2.32.3\n",
      "requests-file @ file:///Users/ktietz/demo/mc3/conda-bld/requests-file_1629455781986/work\n",
      "requests-toolbelt @ file:///C:/b/abs_2fsmts66wp/croot/requests-toolbelt_1690874051210/work\n",
      "rfc3339-validator @ file:///C:/b/abs_ddfmseb_vm/croot/rfc3339-validator_1683077054906/work\n",
      "rfc3986-validator @ file:///C:/b/abs_6e9azihr8o/croot/rfc3986-validator_1683059049737/work\n",
      "rich @ file:///C:/b/abs_09j2g5qnu8/croot/rich_1684282185530/work\n",
      "rope @ file:///C:/ci_311/rope_1678402524346/work\n",
      "rpds-py @ file:///C:/b/abs_76j4g4la23/croot/rpds-py_1698947348047/work\n",
      "Rtree @ file:///C:/ci_311/rtree_1676455758391/work\n",
      "ruamel-yaml-conda @ file:///C:/ci_311/ruamel_yaml_1676455799258/work\n",
      "ruamel.yaml @ file:///C:/ci_311/ruamel.yaml_1676439214109/work\n",
      "s3fs @ file:///C:/b/abs_24vbfcawyu/croot/s3fs_1701294224436/work\n",
      "safetensors==0.4.4\n",
      "scikit-image @ file:///C:/b/abs_f7z1pjjn6f/croot/scikit-image_1707346180040/work\n",
      "scikit-learn @ file:///C:/b/abs_38k7ridbgr/croot/scikit-learn_1684954723009/work\n",
      "scipy==1.10.1\n",
      "Scrapy @ file:///C:/ci_311/scrapy_1678502587780/work\n",
      "seaborn @ file:///C:/ci_311/seaborn_1676446547861/work\n",
      "semver @ file:///tmp/build/80754af9/semver_1603822362442/work\n",
      "Send2Trash @ file:///C:/b/abs_08dh49ew26/croot/send2trash_1699371173324/work\n",
      "service-identity @ file:///Users/ktietz/demo/mc3/conda-bld/service_identity_1629460757137/work\n",
      "simpful==2.12.0\n",
      "sip @ file:///C:/b/abs_edevan3fce/croot/sip_1698675983372/work\n",
      "six @ file:///tmp/build/80754af9/six_1644875935023/work\n",
      "smart-open @ file:///C:/ci_311/smart_open_1676439339434/work\n",
      "smmap @ file:///tmp/build/80754af9/smmap_1611694433573/work\n",
      "sniffio @ file:///C:/b/abs_3akdewudo_/croot/sniffio_1705431337396/work\n",
      "snowballstemmer @ file:///tmp/build/80754af9/snowballstemmer_1637937080595/work\n",
      "sortedcontainers @ file:///tmp/build/80754af9/sortedcontainers_1623949099177/work\n",
      "soupsieve @ file:///C:/b/abs_bbsvy9t4pl/croot/soupsieve_1696347611357/work\n",
      "Sphinx @ file:///C:/ci_311/sphinx_1676434546244/work\n",
      "sphinxcontrib-applehelp @ file:///home/ktietz/src/ci/sphinxcontrib-applehelp_1611920841464/work\n",
      "sphinxcontrib-devhelp @ file:///home/ktietz/src/ci/sphinxcontrib-devhelp_1611920923094/work\n",
      "sphinxcontrib-htmlhelp @ file:///tmp/build/80754af9/sphinxcontrib-htmlhelp_1623945626792/work\n",
      "sphinxcontrib-jsmath @ file:///home/ktietz/src/ci/sphinxcontrib-jsmath_1611920942228/work\n",
      "sphinxcontrib-qthelp @ file:///home/ktietz/src/ci/sphinxcontrib-qthelp_1611921055322/work\n",
      "sphinxcontrib-serializinghtml @ file:///tmp/build/80754af9/sphinxcontrib-serializinghtml_1624451540180/work\n",
      "spyder @ file:///C:/b/abs_e99kl7d8t0/croot/spyder_1681934304813/work\n",
      "spyder-kernels @ file:///C:/b/abs_e788a8_4y9/croot/spyder-kernels_1691599588437/work\n",
      "SQLAlchemy @ file:///C:/b/abs_876dxwqqu8/croot/sqlalchemy_1705089154696/work\n",
      "stack-data @ file:///opt/conda/conda-bld/stack_data_1646927590127/work\n",
      "statsmodels @ file:///C:/b/abs_7bth810rna/croot/statsmodels_1689937298619/work\n",
      "streamlit @ file:///C:/b/abs_ba5je7xxy7/croot/streamlit_1706200559831/work\n",
      "sympy @ file:///C:/b/abs_82njkonm7f/croot/sympy_1701397685028/work\n",
      "tables @ file:///C:/b/abs_411740ajo7/croot/pytables_1705614883108/work\n",
      "tabulate @ file:///C:/b/abs_21rf8iibnh/croot/tabulate_1701354830521/work\n",
      "tblib @ file:///Users/ktietz/demo/mc3/conda-bld/tblib_1629402031467/work\n",
      "tenacity @ file:///C:/b/abs_ddkoa9nju6/croot/tenacity_1682972298929/work\n",
      "tensorboard==2.17.1\n",
      "tensorboard-data-server==0.7.2\n",
      "tensorflow==2.17.0\n",
      "tensorflow-intel==2.17.0\n",
      "tensorflow-io-gcs-filesystem==0.31.0\n",
      "termcolor==2.4.0\n",
      "terminado @ file:///C:/ci_311/terminado_1678228513830/work\n",
      "text-unidecode @ file:///Users/ktietz/demo/mc3/conda-bld/text-unidecode_1629401354553/work\n",
      "textdistance @ file:///tmp/build/80754af9/textdistance_1612461398012/work\n",
      "tf_keras==2.17.0\n",
      "threadpoolctl @ file:///Users/ktietz/demo/mc3/conda-bld/threadpoolctl_1629802263681/work\n",
      "three-merge @ file:///tmp/build/80754af9/three-merge_1607553261110/work\n",
      "tifffile @ file:///C:/b/abs_45o5chuqwt/croot/tifffile_1695107511025/work\n",
      "tinycss2 @ file:///C:/ci_311/tinycss2_1676425376744/work\n",
      "tldextract @ file:///opt/conda/conda-bld/tldextract_1646638314385/work\n",
      "tokenizers==0.19.1\n",
      "toml @ file:///tmp/build/80754af9/toml_1616166611790/work\n",
      "tomlkit @ file:///C:/ci_311/tomlkit_1676425418821/work\n",
      "toolz @ file:///C:/ci_311/toolz_1676431406517/work\n",
      "torch==2.4.0\n",
      "torchaudio==2.4.0\n",
      "torchvision==0.19.0\n",
      "tornado @ file:///C:/b/abs_0cbrstidzg/croot/tornado_1696937003724/work\n",
      "tqdm==4.66.5\n",
      "traitlets @ file:///C:/ci_311/traitlets_1676423290727/work\n",
      "transformers==4.44.2\n",
      "truststore @ file:///C:/b/abs_55z7b3r045/croot/truststore_1695245455435/work\n",
      "Twisted @ file:///C:/b/abs_e7yqd811in/croot/twisted_1708702883769/work\n",
      "twisted-iocpsupport @ file:///C:/ci_311/twisted-iocpsupport_1676447612160/work\n",
      "typing_extensions @ file:///C:/b/abs_72cdotwc_6/croot/typing_extensions_1705599364138/work\n",
      "tzdata @ file:///croot/python-tzdata_1690578112552/work\n",
      "tzlocal @ file:///C:/ci_311/tzlocal_1676439620276/work\n",
      "uc-micro-py @ file:///C:/ci_311/uc-micro-py_1676457695423/work\n",
      "ujson @ file:///C:/ci_311/ujson_1676434714224/work\n",
      "Unidecode @ file:///tmp/build/80754af9/unidecode_1614712377438/work\n",
      "urllib3 @ file:///C:/b/abs_0c3739ssy1/croot/urllib3_1707349314852/work\n",
      "validators @ file:///tmp/build/80754af9/validators_1612286467315/work\n",
      "w3lib @ file:///C:/b/abs_957begrwnl/croot/w3lib_1708640020760/work\n",
      "watchdog @ file:///C:/ci_311/watchdog_1676457923624/work\n",
      "wcwidth @ file:///Users/ktietz/demo/mc3/conda-bld/wcwidth_1629357192024/work\n",
      "webencodings==0.5.1\n",
      "websocket-client @ file:///C:/ci_311/websocket-client_1676426063281/work\n",
      "Werkzeug @ file:///C:/b/abs_8578rs2ra_/croot/werkzeug_1679489759009/work\n",
      "whatthepatch @ file:///C:/ci_311/whatthepatch_1678402578113/work\n",
      "widgetsnbextension @ file:///C:/b/abs_derxhz1biv/croot/widgetsnbextension_1701273671518/work\n",
      "win-inet-pton @ file:///C:/ci_311/win_inet_pton_1676425458225/work\n",
      "wrapt @ file:///C:/ci_311/wrapt_1676432805090/work\n",
      "xarray @ file:///C:/b/abs_5bkjiynp4e/croot/xarray_1689041498548/work\n",
      "xlwings @ file:///C:/ci_311_rebuilds/xlwings_1679013429160/work\n",
      "xxhash==3.5.0\n",
      "xyzservices @ file:///C:/ci_311/xyzservices_1676434829315/work\n",
      "y-py @ file:///C:/b/abs_b7f5go6r0j/croot/y-py_1683662173571/work\n",
      "yapf @ file:///tmp/build/80754af9/yapf_1615749224965/work\n",
      "yarl @ file:///C:/b/abs_8bxwdyhjvp/croot/yarl_1701105248152/work\n",
      "ypy-websocket @ file:///C:/b/abs_4e65ywlnv8/croot/ypy-websocket_1684172103529/work\n",
      "zict @ file:///C:/b/abs_780gyydtbp/croot/zict_1695832899404/work\n",
      "zipp @ file:///C:/b/abs_b0beoc27oa/croot/zipp_1704206963359/work\n",
      "zope.interface @ file:///C:/ci_311/zope.interface_1676439868776/work\n",
      "zstandard==0.19.0\n",
      "\n"
     ]
    }
   ],
   "source": [
    "with open('requirements.txt', 'r') as file:\n",
    "    content = file.read()\n",
    "    print(content)\n"
   ]
  }
 ],
 "metadata": {
  "kernelspec": {
   "display_name": "Python 3 (ipykernel)",
   "language": "python",
   "name": "python3"
  },
  "language_info": {
   "codemirror_mode": {
    "name": "ipython",
    "version": 3
   },
   "file_extension": ".py",
   "mimetype": "text/x-python",
   "name": "python",
   "nbconvert_exporter": "python",
   "pygments_lexer": "ipython3",
   "version": "3.11.7"
  }
 },
 "nbformat": 4,
 "nbformat_minor": 5
}
